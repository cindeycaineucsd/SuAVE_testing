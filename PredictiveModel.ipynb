{
 "cells": [
  {
   "cell_type": "markdown",
   "metadata": {},
   "source": [
    "# SuAVE Image to Label Prediction Model"
   ]
  },
  {
   "cell_type": "code",
   "execution_count": 1,
   "metadata": {},
   "outputs": [
    {
     "data": {
      "application/javascript": [
       "function getQueryStringValue (key)\n",
       "{  \n",
       "    return unescape(window.location.search.replace(new RegExp(\"^(?:.*[&\\\\?]\" + escape(key).replace(/[\\.\\+\\*]/g, \"\\\\$&\") + \"(?:\\\\=([^&]*))?)?.*$\", \"i\"), \"$1\"));\n",
       "}\n",
       "IPython.notebook.kernel.execute(\"survey_url='\".concat(getQueryStringValue(\"surveyurl\")).concat(\"'\"));\n",
       "IPython.notebook.kernel.execute(\"user='\".concat(getQueryStringValue(\"user\")).concat(\"'\"));\n",
       "IPython.notebook.kernel.execute(\"csv_file='\".concat(getQueryStringValue(\"csv\")).concat(\"'\")); \n",
       "IPython.notebook.kernel.execute(\"dzc_file='\".concat(getQueryStringValue(\"dzc\")).concat(\"'\")); \n",
       "IPython.notebook.kernel.execute(\"params='\".concat(getQueryStringValue(\"params\")).concat(\"'\")); \n",
       "IPython.notebook.kernel.execute(\"active_object='\".concat(getQueryStringValue(\"activeobject\")).concat(\"'\")); "
      ],
      "text/plain": [
       "<IPython.core.display.Javascript object>"
      ]
     },
     "metadata": {},
     "output_type": "display_data"
    }
   ],
   "source": [
    "%%javascript\n",
    "function getQueryStringValue (key)\n",
    "{  \n",
    "    return unescape(window.location.search.replace(new RegExp(\"^(?:.*[&\\\\?]\" + escape(key).replace(/[\\.\\+\\*]/g, \"\\\\$&\") + \"(?:\\\\=([^&]*))?)?.*$\", \"i\"), \"$1\"));\n",
    "}\n",
    "IPython.notebook.kernel.execute(\"survey_url='\".concat(getQueryStringValue(\"surveyurl\")).concat(\"'\"));\n",
    "IPython.notebook.kernel.execute(\"user='\".concat(getQueryStringValue(\"user\")).concat(\"'\"));\n",
    "IPython.notebook.kernel.execute(\"csv_file='\".concat(getQueryStringValue(\"csv\")).concat(\"'\")); \n",
    "IPython.notebook.kernel.execute(\"dzc_file='\".concat(getQueryStringValue(\"dzc\")).concat(\"'\")); \n",
    "IPython.notebook.kernel.execute(\"params='\".concat(getQueryStringValue(\"params\")).concat(\"'\")); \n",
    "IPython.notebook.kernel.execute(\"active_object='\".concat(getQueryStringValue(\"activeobject\")).concat(\"'\")); "
   ]
  },
  {
   "cell_type": "code",
   "execution_count": 67,
   "metadata": {},
   "outputs": [],
   "source": [
    "# import the necessary packages\n",
    "from keras.preprocessing.image import ImageDataGenerator\n",
    "from keras.optimizers import Adam\n",
    "from sklearn.model_selection import train_test_split\n",
    "from keras.preprocessing.image import img_to_array\n",
    "from keras.utils import to_categorical\n",
    "from imutils import paths\n",
    "\n",
    "from keras.utils import np_utils\n",
    "from keras.models import Sequential\n",
    "from keras.layers.convolutional import Conv2D\n",
    "from keras.layers.convolutional import MaxPooling2D\n",
    "from keras.layers.core import Activation\n",
    "from keras.layers.core import Flatten\n",
    "from keras.layers.core import Dense\n",
    "from keras.layers.core import Dropout\n",
    "from keras import backend as K"
   ]
  },
  {
   "cell_type": "code",
   "execution_count": 4,
   "metadata": {},
   "outputs": [],
   "source": [
    "# More imports\n",
    "import matplotlib.pyplot as plt\n",
    "import numpy as np\n",
    "import argparse\n",
    "import random\n",
    "import csv\n",
    "import pandas as pd\n",
    "import re\n",
    "import cv2\n",
    "import os"
   ]
  },
  {
   "cell_type": "code",
   "execution_count": 68,
   "metadata": {},
   "outputs": [],
   "source": [
    "# import the necessary packages for SVM predictor\n",
    "from sklearn.preprocessing import LabelEncoder\n",
    "from sklearn.svm import LinearSVC\n",
    "from sklearn.metrics import classification_report\n",
    "from sklearn.model_selection import train_test_split\n",
    "import imutils\n",
    "import warnings\n",
    "warnings.filterwarnings('always')  # \"error\", \"ignore\", \"always\", \"default\", \"module\" or \"once\""
   ]
  },
  {
   "cell_type": "code",
   "execution_count": 5,
   "metadata": {},
   "outputs": [],
   "source": [
    "# Import widget functionality\n",
    "from __future__ import print_function\n",
    "from ipywidgets import interact, interactive, fixed, interact_manual\n",
    "import ipywidgets as widgets"
   ]
  },
  {
   "cell_type": "markdown",
   "metadata": {},
   "source": [
    "## This notebook uses the LeNet model for prediction"
   ]
  },
  {
   "cell_type": "code",
   "execution_count": 6,
   "metadata": {},
   "outputs": [],
   "source": [
    "class LeNet:\n",
    "\t@staticmethod\n",
    "\tdef build(width, height, depth, classes):\n",
    "\t\t# initialize the model\n",
    "\t\tmodel = Sequential()\n",
    "\t\tinputShape = (height, width, depth)\n",
    "\n",
    "\t\t# if we are using \"channels first\", update the input shape\n",
    "\t\tif K.image_data_format() == \"channels_first\":\n",
    "\t\t\tinputShape = (depth, height, width)\n",
    "\n",
    "\t\t# first set of CONV => RELU => POOL layers\n",
    "\t\tmodel.add(Conv2D(64, (3, 3), padding=\"same\",\n",
    "\t\t\tinput_shape=inputShape))\n",
    "\t\tmodel.add(Activation(\"relu\"))\n",
    "\t\tmodel.add(MaxPooling2D(pool_size=(2, 2), strides=(2, 2)))\n",
    "\n",
    "\t\t# second set of CONV => RELU => POOL layers\n",
    "\t\tmodel.add(Conv2D(128, (3, 3), padding=\"same\"))\n",
    "\t\tmodel.add(Activation(\"relu\"))\n",
    "\t\tmodel.add(MaxPooling2D(pool_size=(2, 2), strides=(2, 2)))\n",
    "        \n",
    "\t\t# third set of CONV => RELU => POOL layers\n",
    "\t\tmodel.add(Conv2D(256, (3, 3), padding=\"same\"))\n",
    "\t\tmodel.add(Activation(\"relu\"))\n",
    "\t\tmodel.add(MaxPooling2D(pool_size=(2, 2), strides=(2, 2)))\n",
    "              \n",
    "\t\t# first (and only) set of FC => RELU layers\n",
    "\t\tmodel.add(Flatten())\n",
    "\t\tmodel.add(Dense(1000))\n",
    "\t\tmodel.add(Activation(\"relu\"))\n",
    "\t\tmodel.add(Dropout(0.5))\n",
    "\n",
    "\t\t# softmax classifier\n",
    "\t\tmodel.add(Dense(classes))\n",
    "\t\tmodel.add(Activation(\"softmax\"))\n",
    "\n",
    "\t\t# return the constructed network architecture\n",
    "\t\treturn model"
   ]
  },
  {
   "cell_type": "markdown",
   "metadata": {},
   "source": [
    "### Initializing the number of times the model will loop for learning"
   ]
  },
  {
   "cell_type": "code",
   "execution_count": 7,
   "metadata": {},
   "outputs": [],
   "source": [
    "# init the number of epochs to train for, init learning rate and batch size\n",
    "EPOCHS = 50\n",
    "INIT_LR = 1e-3\n",
    "BS = 64"
   ]
  },
  {
   "cell_type": "code",
   "execution_count": 8,
   "metadata": {},
   "outputs": [],
   "source": [
    "# init the image suffix, yset, and image list\n",
    "suffix = '.jpg'\n",
    "img_list = []\n",
    "yset = []\n",
    "# create labels list and 2 dicts for 2 way mapping\n",
    "labels = []\n",
    "# key = label value = number\n",
    "label_yval = dict()\n",
    "# key = number value = label\n",
    "yval_label = dict()"
   ]
  },
  {
   "cell_type": "code",
   "execution_count": 9,
   "metadata": {},
   "outputs": [],
   "source": [
    "# Testing Cells\n",
    "csv_file = 'zaslavsk_Cyclops_Cave_Ceramic_Petrography.csv'"
   ]
  },
  {
   "cell_type": "code",
   "execution_count": 10,
   "metadata": {},
   "outputs": [],
   "source": [
    "# use csv file to grab images/labels\n",
    "df = pd.read_csv(csv_file)"
   ]
  },
  {
   "cell_type": "code",
   "execution_count": 11,
   "metadata": {},
   "outputs": [],
   "source": [
    "toImg = list(df.columns.values)\n",
    "\n",
    "img_menu = {}\n",
    "for i in range(0, len(toImg)):\n",
    "    img_menu[toImg[i]] = toImg[i]\n",
    "\n",
    "def f(images_menu):\n",
    "    return images_menu"
   ]
  },
  {
   "cell_type": "markdown",
   "metadata": {},
   "source": [
    "## Run and choose the column name that coresponds with the Image column in the CSV"
   ]
  },
  {
   "cell_type": "markdown",
   "metadata": {},
   "source": [
    "### Then run next cell"
   ]
  },
  {
   "cell_type": "code",
   "execution_count": 12,
   "metadata": {},
   "outputs": [
    {
     "data": {
      "application/vnd.jupyter.widget-view+json": {
       "model_id": "fe87c38bae3e4a71b6e1c64ac215e9e1",
       "version_major": 2,
       "version_minor": 0
      },
      "text/plain": [
       "A Jupyter Widget"
      ]
     },
     "metadata": {},
     "output_type": "display_data"
    }
   ],
   "source": [
    "out = interact(f, images_menu=img_menu)"
   ]
  },
  {
   "cell_type": "code",
   "execution_count": 13,
   "metadata": {},
   "outputs": [],
   "source": [
    "# Choose column of label for prediction\n",
    "toPredict = list(df.columns.values)\n",
    "\n",
    "pred_menu = {}\n",
    "for i in range(0, len(toPredict)):\n",
    "    pred_menu[toPredict[i]] = toPredict[i]\n",
    "\n",
    "def f(predictions_menu):\n",
    "    return predictions_menu"
   ]
  },
  {
   "cell_type": "markdown",
   "metadata": {},
   "source": [
    "## Run and choose the column name that coresponds with the column lable to be predicted"
   ]
  },
  {
   "cell_type": "markdown",
   "metadata": {},
   "source": [
    "### Then run next cell"
   ]
  },
  {
   "cell_type": "code",
   "execution_count": 14,
   "metadata": {},
   "outputs": [
    {
     "data": {
      "application/vnd.jupyter.widget-view+json": {
       "model_id": "fa17d57e3eaa4d2f860b0c09872dd1c9",
       "version_major": 2,
       "version_minor": 0
      },
      "text/plain": [
       "A Jupyter Widget"
      ]
     },
     "metadata": {},
     "output_type": "display_data"
    }
   ],
   "source": [
    "out2 = interact(f, predictions_menu=pred_menu)"
   ]
  },
  {
   "cell_type": "code",
   "execution_count": 15,
   "metadata": {},
   "outputs": [],
   "source": [
    "nameCol = df[out.widget.result]\n",
    "predCol = df[out2.widget.result]"
   ]
  },
  {
   "cell_type": "code",
   "execution_count": 16,
   "metadata": {},
   "outputs": [],
   "source": [
    "# add all fabric columns to the y set\n",
    "for i in range (0,len(predCol)):\n",
    "    labels.append(predCol[i])"
   ]
  },
  {
   "cell_type": "code",
   "execution_count": 17,
   "metadata": {},
   "outputs": [],
   "source": [
    "# grab all unique labels\n",
    "uni_labels = set(labels)\n",
    "uni_labels = list(uni_labels)"
   ]
  },
  {
   "cell_type": "code",
   "execution_count": 18,
   "metadata": {},
   "outputs": [],
   "source": [
    "# assign each label a dict key number\n",
    "for i in range(0,len(uni_labels)):\n",
    "    yval_label[i] = uni_labels[i]\n",
    "    label_yval[uni_labels[i]] = i"
   ]
  },
  {
   "cell_type": "code",
   "execution_count": 19,
   "metadata": {},
   "outputs": [
    {
     "name": "stdout",
     "output_type": "stream",
     "text": [
      "Number of labels to learn from: 252\n"
     ]
    }
   ],
   "source": [
    "print(\"Number of labels to learn from: \" + str(len(labels)))"
   ]
  },
  {
   "cell_type": "code",
   "execution_count": 20,
   "metadata": {},
   "outputs": [],
   "source": [
    "# create list of keys associated with their labels\n",
    "for i in range (0, len(labels)):\n",
    "    yset.append(label_yval[labels[i]])"
   ]
  },
  {
   "cell_type": "code",
   "execution_count": 21,
   "metadata": {},
   "outputs": [],
   "source": [
    "# gather images from path created from file names in csv file\n",
    "for i in range (0,len(nameCol)):\n",
    "    base_filename = nameCol[i]\n",
    "    fileName = os.path.join(\"./Cyclops Cave/images/\", base_filename + suffix)\n",
    "    im = cv2.imread(fileName)\n",
    "    im = cv2.resize(im, (28,28))\n",
    "    im = img_to_array(im)\n",
    "    img_list.append(im)"
   ]
  },
  {
   "cell_type": "markdown",
   "metadata": {},
   "source": [
    "## SVM learning algorithm"
   ]
  },
  {
   "cell_type": "code",
   "execution_count": 69,
   "metadata": {},
   "outputs": [],
   "source": [
    "def extract_color_histogram(image, bins=(8,8,8)):\n",
    "    # extract a 3D color histogram from the HSV color space using\n",
    "    # the supplied number of 'bins' per channel\n",
    "    hsv = cv2.cvtColor(image, cv2.COLOR_BGR2HSV)\n",
    "    hist = cv2.calcHist([hsv], [0,1,2], None, bins, [0,180,0,256,0,256])\n",
    "    \n",
    "    # handle normalizing the histogram if we are using OpenCV 2.4.X\n",
    "    if imutils.is_cv2():\n",
    "        hist = cv2.normalize(hist)\n",
    "    \n",
    "    # otherwise, perform \"in place\" normaliation in OpenCV 3\n",
    "    else:\n",
    "        cv2.normalize(hist, hist)\n",
    "    \n",
    "    return hist.flatten()"
   ]
  },
  {
   "cell_type": "code",
   "execution_count": 70,
   "metadata": {},
   "outputs": [],
   "source": [
    "# create new hist_list\n",
    "hist_list = []"
   ]
  },
  {
   "cell_type": "code",
   "execution_count": 71,
   "metadata": {},
   "outputs": [],
   "source": [
    "# gather images from path created from file names in csv file\n",
    "for i in range (0,len(nameCol)):\n",
    "    base_filename = nameCol[i]\n",
    "    fileName = os.path.join(\"./Cyclops Cave/images/\", base_filename + suffix)\n",
    "    im = cv2.imread(fileName)\n",
    "    hist = extract_color_histogram(im)\n",
    "    hist_list.append(hist)"
   ]
  },
  {
   "cell_type": "code",
   "execution_count": 73,
   "metadata": {},
   "outputs": [
    {
     "data": {
      "text/plain": [
       "(252, 512)"
      ]
     },
     "execution_count": 73,
     "metadata": {},
     "output_type": "execute_result"
    }
   ],
   "source": [
    "np.shape(hist_list)"
   ]
  },
  {
   "cell_type": "code",
   "execution_count": null,
   "metadata": {},
   "outputs": [],
   "source": []
  },
  {
   "cell_type": "code",
   "execution_count": 60,
   "metadata": {},
   "outputs": [],
   "source": [
    "# Shuffle the data\n",
    "p = np.random.permutation(len(yset))"
   ]
  },
  {
   "cell_type": "code",
   "execution_count": 61,
   "metadata": {},
   "outputs": [],
   "source": [
    "# Relable for splitting sets\n",
    "Y2 = []\n",
    "X2 = []\n",
    "for i in range(0,len(yset)):\n",
    "    Y2.append(yset[p[i]])\n",
    "    X2.append(hist_list[p[i]])"
   ]
  },
  {
   "cell_type": "code",
   "execution_count": 62,
   "metadata": {},
   "outputs": [],
   "source": [
    "le = LabelEncoder()\n",
    "labels = le.fit_transform(predCol)"
   ]
  },
  {
   "cell_type": "code",
   "execution_count": 63,
   "metadata": {},
   "outputs": [],
   "source": [
    "(xtrain, xtest, ytrain, ytest) = train_test_split(np.array(hist_list),labels, test_size = 0.5)"
   ]
  },
  {
   "cell_type": "code",
   "execution_count": 64,
   "metadata": {},
   "outputs": [
    {
     "data": {
      "text/plain": [
       "array(['Cyclops Cave 1', 'Cyclops Cave 10', 'Cyclops Cave 11',\n",
       "       'Cyclops Cave 12', 'Cyclops Cave 2', 'Cyclops Cave 3',\n",
       "       'Cyclops Cave 4', 'Cyclops Cave 5', 'Cyclops Cave 6',\n",
       "       'Cyclops Cave 7', 'Cyclops Cave 8', 'Cyclops Cave 9'], dtype=object)"
      ]
     },
     "execution_count": 64,
     "metadata": {},
     "output_type": "execute_result"
    }
   ],
   "source": [
    "le.classes_"
   ]
  },
  {
   "cell_type": "code",
   "execution_count": 65,
   "metadata": {},
   "outputs": [
    {
     "data": {
      "text/plain": [
       "LinearSVC(C=1.0, class_weight=None, dual=True, fit_intercept=True,\n",
       "     intercept_scaling=1, loss='squared_hinge', max_iter=1000,\n",
       "     multi_class='ovr', penalty='l2', random_state=None, tol=0.0001,\n",
       "     verbose=0)"
      ]
     },
     "execution_count": 65,
     "metadata": {},
     "output_type": "execute_result"
    }
   ],
   "source": [
    "# Train the linear regression classifier\n",
    "model2 = LinearSVC()\n",
    "model2.fit(xtrain, ytrain)"
   ]
  },
  {
   "cell_type": "code",
   "execution_count": 66,
   "metadata": {},
   "outputs": [
    {
     "name": "stdout",
     "output_type": "stream",
     "text": [
      "                 precision    recall  f1-score   support\n",
      "\n",
      " Cyclops Cave 1       0.69      0.99      0.81       144\n",
      "Cyclops Cave 10       1.00      0.50      0.67         4\n",
      "Cyclops Cave 11       0.33      0.25      0.29         4\n",
      "Cyclops Cave 12       1.00      0.50      0.67         4\n",
      " Cyclops Cave 2       0.41      0.43      0.42        28\n",
      " Cyclops Cave 3       0.33      0.05      0.09        20\n",
      " Cyclops Cave 4       0.00      0.00      0.00        12\n",
      " Cyclops Cave 5       1.00      0.12      0.22         8\n",
      " Cyclops Cave 6       1.00      0.12      0.22         8\n",
      " Cyclops Cave 7       0.50      0.25      0.33         8\n",
      " Cyclops Cave 8       1.00      0.12      0.22         8\n",
      " Cyclops Cave 9       0.00      0.00      0.00         4\n",
      "\n",
      "    avg / total       0.61      0.65      0.57       252\n",
      "\n"
     ]
    },
    {
     "name": "stderr",
     "output_type": "stream",
     "text": [
      "C:\\Users\\cinde\\Anaconda3\\envs\\deeplearning\\lib\\site-packages\\sklearn\\metrics\\classification.py:1135: UndefinedMetricWarning: Precision and F-score are ill-defined and being set to 0.0 in labels with no predicted samples.\n",
      "  'precision', 'predicted', average, warn_for)\n"
     ]
    }
   ],
   "source": [
    "# Calculate predictions on the data set\n",
    "predictions2 = model2.predict(np.array(hist_list))\n",
    "print(classification_report(labels, predictions2, target_names = le.classes_))"
   ]
  },
  {
   "cell_type": "code",
   "execution_count": 34,
   "metadata": {},
   "outputs": [],
   "source": [
    "# Relable for splitting sets\n",
    "Y = []\n",
    "X = []\n",
    "for i in range(0,len(yset)):\n",
    "    Y.append(yset[p[i]])\n",
    "    X.append(img_list[p[i]])"
   ]
  },
  {
   "cell_type": "code",
   "execution_count": null,
   "metadata": {},
   "outputs": [],
   "source": []
  },
  {
   "cell_type": "code",
   "execution_count": 35,
   "metadata": {},
   "outputs": [],
   "source": [
    "# split the test and training set 75:25\n",
    "split = int(len(X)*(.75))\n",
    "xtrain = X[:split]\n",
    "xtest = X[split:]\n",
    "ytrain = Y[:split]\n",
    "ytest = Y[split:]"
   ]
  },
  {
   "cell_type": "code",
   "execution_count": 36,
   "metadata": {},
   "outputs": [],
   "source": [
    "# transform to arrays\n",
    "trainX = np.array(xtrain, dtype=\"float\")/225.0\n",
    "testX = np.array(xtest, dtype =\"float\")/225.0\n",
    "\n",
    "ytrain = np.array(ytrain)\n",
    "ytest = np.array(ytest)"
   ]
  },
  {
   "cell_type": "code",
   "execution_count": 37,
   "metadata": {},
   "outputs": [],
   "source": [
    "# parsed Y data containers\n",
    "trainY = []\n",
    "testY = []"
   ]
  },
  {
   "cell_type": "code",
   "execution_count": 38,
   "metadata": {},
   "outputs": [],
   "source": [
    "# convert labels from int to vectors\n",
    "trainY = np_utils.to_categorical(ytrain,12)\n",
    "testY = np_utils.to_categorical(ytest,12)"
   ]
  },
  {
   "cell_type": "code",
   "execution_count": 39,
   "metadata": {},
   "outputs": [],
   "source": [
    "# construct the image generator for data augmentation\n",
    "aug = ImageDataGenerator(rotation_range=30, width_shift_range=0.1,\n",
    "                        height_shift_range=0.1, shear_range=0.2, zoom_range=0.2,\n",
    "                        horizontal_flip=True, fill_mode=\"nearest\")"
   ]
  },
  {
   "cell_type": "code",
   "execution_count": 40,
   "metadata": {},
   "outputs": [
    {
     "name": "stdout",
     "output_type": "stream",
     "text": [
      "[INFO] compiling model...\n"
     ]
    }
   ],
   "source": [
    "# initialize the model\n",
    "print(\"[INFO] compiling model...\")\n",
    "model = LeNet.build(width=28, height=28, depth=3, classes=12)\n",
    "opt = Adam(lr=INIT_LR, decay=INIT_LR / EPOCHS)\n",
    "model.compile(loss=\"categorical_crossentropy\", optimizer=opt,\n",
    "                metrics=[\"accuracy\"])"
   ]
  },
  {
   "cell_type": "markdown",
   "metadata": {},
   "source": [
    "## Train the predictive model"
   ]
  },
  {
   "cell_type": "markdown",
   "metadata": {},
   "source": [
    "### This is relative to the size of the data set and may take a few minutes "
   ]
  },
  {
   "cell_type": "code",
   "execution_count": 41,
   "metadata": {},
   "outputs": [
    {
     "name": "stdout",
     "output_type": "stream",
     "text": [
      "[INFO] training network...\n",
      "Epoch 1/50\n",
      "3/2 [=============================================] - 3s 1s/step - loss: 1.9963 - acc: 0.4588 - val_loss: 1.8355 - val_acc: 0.5873\n",
      "Epoch 2/50\n",
      "3/2 [=============================================] - 2s 656ms/step - loss: 1.6748 - acc: 0.5630 - val_loss: 1.8309 - val_acc: 0.5873\n",
      "Epoch 3/50\n",
      "3/2 [=============================================] - 2s 608ms/step - loss: 1.6357 - acc: 0.5712 - val_loss: 1.7952 - val_acc: 0.5873\n",
      "Epoch 4/50\n",
      "3/2 [=============================================] - 2s 615ms/step - loss: 1.6504 - acc: 0.5588 - val_loss: 1.7183 - val_acc: 0.5873\n",
      "Epoch 5/50\n",
      "3/2 [=============================================] - 2s 617ms/step - loss: 1.6495 - acc: 0.5610 - val_loss: 1.7018 - val_acc: 0.5873\n",
      "Epoch 6/50\n",
      "3/2 [=============================================] - 2s 621ms/step - loss: 1.6286 - acc: 0.5651 - val_loss: 1.6743 - val_acc: 0.5873\n",
      "Epoch 7/50\n",
      "3/2 [=============================================] - 2s 628ms/step - loss: 1.5468 - acc: 0.5674 - val_loss: 1.6431 - val_acc: 0.5873\n",
      "Epoch 8/50\n",
      "3/2 [=============================================] - 2s 622ms/step - loss: 1.5479 - acc: 0.5609 - val_loss: 1.7628 - val_acc: 0.5873\n",
      "Epoch 9/50\n",
      "3/2 [=============================================] - 2s 616ms/step - loss: 1.4926 - acc: 0.5651 - val_loss: 1.5604 - val_acc: 0.5873\n",
      "Epoch 10/50\n",
      "3/2 [=============================================] - 2s 624ms/step - loss: 1.5043 - acc: 0.5806 - val_loss: 1.5178 - val_acc: 0.5873\n",
      "Epoch 11/50\n",
      "3/2 [=============================================] - 2s 628ms/step - loss: 1.4459 - acc: 0.5759 - val_loss: 1.5759 - val_acc: 0.5873\n",
      "Epoch 12/50\n",
      "3/2 [=============================================] - 2s 676ms/step - loss: 1.4207 - acc: 0.5950 - val_loss: 1.4672 - val_acc: 0.6349\n",
      "Epoch 13/50\n",
      "3/2 [=============================================] - 2s 620ms/step - loss: 1.3965 - acc: 0.5781 - val_loss: 1.4897 - val_acc: 0.6349\n",
      "Epoch 14/50\n",
      "3/2 [=============================================] - 2s 622ms/step - loss: 1.3506 - acc: 0.6022 - val_loss: 1.3846 - val_acc: 0.6349\n",
      "Epoch 15/50\n",
      "3/2 [=============================================] - 2s 708ms/step - loss: 1.3718 - acc: 0.6070 - val_loss: 1.3824 - val_acc: 0.6349\n",
      "Epoch 16/50\n",
      "3/2 [=============================================] - 2s 633ms/step - loss: 1.3152 - acc: 0.6010 - val_loss: 1.4069 - val_acc: 0.6349\n",
      "Epoch 17/50\n",
      "3/2 [=============================================] - 2s 621ms/step - loss: 1.2564 - acc: 0.6163 - val_loss: 1.4031 - val_acc: 0.6349\n",
      "Epoch 18/50\n",
      "3/2 [=============================================] - 2s 619ms/step - loss: 1.2247 - acc: 0.6591 - val_loss: 1.4092 - val_acc: 0.6508\n",
      "Epoch 19/50\n",
      "3/2 [=============================================] - 2s 678ms/step - loss: 1.2794 - acc: 0.5707 - val_loss: 1.3569 - val_acc: 0.6349\n",
      "Epoch 20/50\n",
      "3/2 [=============================================] - 2s 627ms/step - loss: 1.2651 - acc: 0.6161 - val_loss: 1.3659 - val_acc: 0.6349\n",
      "Epoch 21/50\n",
      "3/2 [=============================================] - 2s 621ms/step - loss: 1.1709 - acc: 0.6117 - val_loss: 1.3738 - val_acc: 0.6508\n",
      "Epoch 22/50\n",
      "3/2 [=============================================] - 2s 622ms/step - loss: 1.2057 - acc: 0.6290 - val_loss: 1.3454 - val_acc: 0.6032\n",
      "Epoch 23/50\n",
      "3/2 [=============================================] - 2s 622ms/step - loss: 1.2631 - acc: 0.6129 - val_loss: 1.4254 - val_acc: 0.6190\n",
      "Epoch 24/50\n",
      "3/2 [=============================================] - 2s 622ms/step - loss: 1.1739 - acc: 0.6322 - val_loss: 1.3368 - val_acc: 0.6032\n",
      "Epoch 25/50\n",
      "3/2 [=============================================] - 2s 621ms/step - loss: 1.1644 - acc: 0.6074 - val_loss: 1.3005 - val_acc: 0.6190\n",
      "Epoch 26/50\n",
      "3/2 [=============================================] - 2s 622ms/step - loss: 1.1424 - acc: 0.6496 - val_loss: 1.2453 - val_acc: 0.5873\n",
      "Epoch 27/50\n",
      "3/2 [=============================================] - 2s 626ms/step - loss: 1.1685 - acc: 0.6652 - val_loss: 1.2837 - val_acc: 0.6190\n",
      "Epoch 28/50\n",
      "3/2 [=============================================] - 2s 628ms/step - loss: 1.1630 - acc: 0.6635 - val_loss: 1.3398 - val_acc: 0.5873\n",
      "Epoch 29/50\n",
      "3/2 [=============================================] - 2s 615ms/step - loss: 1.1117 - acc: 0.6548 - val_loss: 1.2812 - val_acc: 0.5714\n",
      "Epoch 30/50\n",
      "3/2 [=============================================] - 2s 624ms/step - loss: 1.0082 - acc: 0.6779 - val_loss: 1.2839 - val_acc: 0.5873\n",
      "Epoch 31/50\n",
      "3/2 [=============================================] - 2s 619ms/step - loss: 1.1131 - acc: 0.6775 - val_loss: 1.3223 - val_acc: 0.5556\n",
      "Epoch 32/50\n",
      "3/2 [=============================================] - 2s 623ms/step - loss: 1.1268 - acc: 0.6434 - val_loss: 1.3204 - val_acc: 0.5873\n",
      "Epoch 33/50\n",
      "3/2 [=============================================] - 2s 619ms/step - loss: 1.0479 - acc: 0.6538 - val_loss: 1.1917 - val_acc: 0.5873\n",
      "Epoch 34/50\n",
      "3/2 [=============================================] - 2s 617ms/step - loss: 1.0544 - acc: 0.6583 - val_loss: 1.2928 - val_acc: 0.5873\n",
      "Epoch 35/50\n",
      "3/2 [=============================================] - 2s 626ms/step - loss: 1.0224 - acc: 0.6908 - val_loss: 1.2287 - val_acc: 0.5873\n",
      "Epoch 36/50\n",
      "3/2 [=============================================] - 2s 628ms/step - loss: 1.0453 - acc: 0.6625 - val_loss: 1.3697 - val_acc: 0.5714\n",
      "Epoch 37/50\n",
      "3/2 [=============================================] - 2s 621ms/step - loss: 1.0746 - acc: 0.6741 - val_loss: 1.2546 - val_acc: 0.6032\n",
      "Epoch 38/50\n",
      "3/2 [=============================================] - 2s 610ms/step - loss: 1.0525 - acc: 0.6633 - val_loss: 1.2084 - val_acc: 0.5873\n",
      "Epoch 39/50\n",
      "3/2 [=============================================] - 2s 616ms/step - loss: 1.0429 - acc: 0.6775 - val_loss: 1.3684 - val_acc: 0.6349\n",
      "Epoch 40/50\n",
      "3/2 [=============================================] - 2s 808ms/step - loss: 1.0255 - acc: 0.6937 - val_loss: 1.4113 - val_acc: 0.5238\n",
      "Epoch 41/50\n",
      "3/2 [=============================================] - 2s 811ms/step - loss: 0.9970 - acc: 0.6947 - val_loss: 1.2280 - val_acc: 0.6032\n",
      "Epoch 42/50\n",
      "3/2 [=============================================] - 2s 683ms/step - loss: 0.9558 - acc: 0.7001 - val_loss: 1.2069 - val_acc: 0.6032\n",
      "Epoch 43/50\n",
      "3/2 [=============================================] - 2s 727ms/step - loss: 0.9508 - acc: 0.6758 - val_loss: 1.3303 - val_acc: 0.5873\n",
      "Epoch 44/50\n",
      "3/2 [=============================================] - 2s 712ms/step - loss: 0.9161 - acc: 0.7313 - val_loss: 1.2423 - val_acc: 0.5873\n",
      "Epoch 45/50\n",
      "3/2 [=============================================] - 2s 797ms/step - loss: 0.8860 - acc: 0.7171 - val_loss: 1.3021 - val_acc: 0.6349\n",
      "Epoch 46/50\n",
      "3/2 [=============================================] - 2s 818ms/step - loss: 0.8900 - acc: 0.7109 - val_loss: 1.3179 - val_acc: 0.5556\n",
      "Epoch 47/50\n",
      "3/2 [=============================================] - 2s 745ms/step - loss: 0.9063 - acc: 0.6540 - val_loss: 1.3353 - val_acc: 0.6190\n",
      "Epoch 48/50\n",
      "3/2 [=============================================] - 2s 784ms/step - loss: 0.8350 - acc: 0.7258 - val_loss: 1.2851 - val_acc: 0.6190\n",
      "Epoch 49/50\n",
      "3/2 [=============================================] - 3s 849ms/step - loss: 0.8981 - acc: 0.7330 - val_loss: 1.3914 - val_acc: 0.5714\n",
      "Epoch 50/50\n",
      "3/2 [=============================================] - 2s 762ms/step - loss: 0.8423 - acc: 0.7138 - val_loss: 1.2217 - val_acc: 0.6667\n"
     ]
    }
   ],
   "source": [
    "# train the network\n",
    "print(\"[INFO] training network...\")\n",
    "H = model.fit_generator(aug.flow(trainX, trainY, batch_size=BS),\n",
    "    validation_data=(testX, testY), steps_per_epoch=len(trainX) // BS,\n",
    "    epochs=EPOCHS, verbose=1)"
   ]
  },
  {
   "cell_type": "markdown",
   "metadata": {},
   "source": [
    "## Plot the loss and accuracy"
   ]
  },
  {
   "cell_type": "code",
   "execution_count": 42,
   "metadata": {},
   "outputs": [],
   "source": [
    "# plot the training loss and accuracy \n",
    "plt.style.use(\"ggplot\")\n",
    "plt.figure()\n",
    "N = EPOCHS\n",
    "plt.plot(np.arange(0, N), H.history[\"loss\"], label=\"train_loss\")\n",
    "plt.plot(np.arange(0, N), H.history[\"val_loss\"], label=\"val_loss\")\n",
    "plt.plot(np.arange(0, N), H.history[\"acc\"], label=\"train_acc\")\n",
    "plt.plot(np.arange(0, N), H.history[\"val_acc\"], label=\"val_acc\")\n",
    "plt.title(\"Training Loss and Accuracy on Label Prediction\")\n",
    "plt.xlabel(\"Epoch #\")\n",
    "plt.ylabel(\"Loss/Accuracy\")\n",
    "plt.legend(loc=\"lower left\")\n",
    "plt.savefig('figure.png')"
   ]
  },
  {
   "cell_type": "code",
   "execution_count": 43,
   "metadata": {},
   "outputs": [
    {
     "data": {
      "image/png": "[encoded data removed]",
      "text/plain": [
       "<IPython.core.display.Image object>"
      ]
     },
     "execution_count": 43,
     "metadata": {},
     "output_type": "execute_result"
    }
   ],
   "source": [
    "# Displays chart\n",
    "from IPython.display import Image\n",
    "Image(\"figure.png\")"
   ]
  },
  {
   "cell_type": "markdown",
   "metadata": {},
   "source": [
    "## Take the original data and predict based on the model"
   ]
  },
  {
   "cell_type": "code",
   "execution_count": 44,
   "metadata": {},
   "outputs": [],
   "source": [
    "# Reshape original input data images for predicting\n",
    "img_check = np.array(img_list, dtype =\"float\")/225.0"
   ]
  },
  {
   "cell_type": "code",
   "execution_count": 45,
   "metadata": {},
   "outputs": [],
   "source": [
    "predictionsMade = []"
   ]
  },
  {
   "cell_type": "code",
   "execution_count": 46,
   "metadata": {},
   "outputs": [],
   "source": [
    "preds = model.predict(img_check)"
   ]
  },
  {
   "cell_type": "code",
   "execution_count": 47,
   "metadata": {},
   "outputs": [],
   "source": [
    "# Run all data through the prediction model that was created\n",
    "for i in range (0,len(img_check)):\n",
    "    predIndex = np.where(preds[i] == np.amax(preds[i]))\n",
    "    prediction = int(predIndex[0][0])\n",
    "    predictionsMade.append(prediction)"
   ]
  },
  {
   "cell_type": "code",
   "execution_count": 48,
   "metadata": {},
   "outputs": [],
   "source": [
    "# Count how many correct predictions were made\n",
    "correct = 0\n",
    "for i in range (0,len(predictionsMade)):\n",
    "    if(predictionsMade[i] == yset[i]):\n",
    "        correct += 1 "
   ]
  },
  {
   "cell_type": "markdown",
   "metadata": {},
   "source": [
    "## Calculate the accuracy of the predictions made"
   ]
  },
  {
   "cell_type": "code",
   "execution_count": 49,
   "metadata": {},
   "outputs": [
    {
     "name": "stdout",
     "output_type": "stream",
     "text": [
      "Accuracy: 0.7579365079365079\n"
     ]
    }
   ],
   "source": [
    "print(\"Accuracy: \" + str(correct/len(yset)))"
   ]
  },
  {
   "cell_type": "code",
   "execution_count": 50,
   "metadata": {},
   "outputs": [],
   "source": [
    "# Translate back to original csv label names\n",
    "finalPred = []\n",
    "for i in range (0,len(predictionsMade)):\n",
    "    finalPred.append(yval_label[predictionsMade[i]])"
   ]
  },
  {
   "cell_type": "markdown",
   "metadata": {},
   "source": [
    "## Enter a new header for the prediction column"
   ]
  },
  {
   "cell_type": "code",
   "execution_count": 51,
   "metadata": {},
   "outputs": [
    {
     "name": "stdout",
     "output_type": "stream",
     "text": [
      "Input new column Header Label:\n"
     ]
    },
    {
     "data": {
      "application/vnd.jupyter.widget-view+json": {
       "model_id": "b6e7e6c7a66e4ceda80625bc9a810ec2",
       "version_major": 2,
       "version_minor": 0
      },
      "text/plain": [
       "A Jupyter Widget"
      ]
     },
     "metadata": {},
     "output_type": "display_data"
    }
   ],
   "source": [
    "from IPython.display import display\n",
    "input_text = widgets.Text()\n",
    "output_text = widgets.Text()\n",
    "\n",
    "def bind_input_to_output(sender):\n",
    "    output_text.value = input_text.value\n",
    "\n",
    "input_text.on_submit(bind_input_to_output)\n",
    "\n",
    "print(\"Input new column Header Label:\")\n",
    "\n",
    "display(input_text)"
   ]
  },
  {
   "cell_type": "code",
   "execution_count": 52,
   "metadata": {},
   "outputs": [],
   "source": [
    "# Append the new column w/ it's new column name\n",
    "df[input_text.value] = finalPred"
   ]
  },
  {
   "cell_type": "markdown",
   "metadata": {},
   "source": [
    "## Write the predictions back to the original CSV"
   ]
  },
  {
   "cell_type": "code",
   "execution_count": 53,
   "metadata": {},
   "outputs": [],
   "source": [
    "# new file name\n",
    "new_file =  csv_file[:-4]+'_v1.csv'\n",
    "df.to_csv(new_file, index=None)"
   ]
  },
  {
   "cell_type": "code",
   "execution_count": null,
   "metadata": {},
   "outputs": [],
   "source": []
  }
 ],
 "metadata": {
  "kernelspec": {
   "display_name": "Python 3",
   "language": "python",
   "name": "python3"
  },
  "language_info": {
   "codemirror_mode": {
    "name": "ipython",
    "version": 3
   },
   "file_extension": ".py",
   "mimetype": "text/x-python",
   "name": "python",
   "nbconvert_exporter": "python",
   "pygments_lexer": "ipython3",
   "version": "3.6.3"
  }
 },
 "nbformat": 4,
 "nbformat_minor": 2
}
