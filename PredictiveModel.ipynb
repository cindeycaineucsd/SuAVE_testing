{
 "cells": [
  {
   "cell_type": "markdown",
   "metadata": {},
   "source": [
    "# SuAVE Image to Label Prediction Model"
   ]
  },
  {
   "cell_type": "code",
   "execution_count": 1,
   "metadata": {},
   "outputs": [
    {
     "data": {
      "application/javascript": [
       "function getQueryStringValue (key)\n",
       "{  \n",
       "    return unescape(window.location.search.replace(new RegExp(\"^(?:.*[&\\\\?]\" + escape(key).replace(/[\\.\\+\\*]/g, \"\\\\$&\") + \"(?:\\\\=([^&]*))?)?.*$\", \"i\"), \"$1\"));\n",
       "}\n",
       "IPython.notebook.kernel.execute(\"survey_url='\".concat(getQueryStringValue(\"surveyurl\")).concat(\"'\"));\n",
       "IPython.notebook.kernel.execute(\"user='\".concat(getQueryStringValue(\"user\")).concat(\"'\"));\n",
       "IPython.notebook.kernel.execute(\"csv_file='\".concat(getQueryStringValue(\"csv\")).concat(\"'\")); \n",
       "IPython.notebook.kernel.execute(\"dzc_file='\".concat(getQueryStringValue(\"dzc\")).concat(\"'\")); \n",
       "IPython.notebook.kernel.execute(\"params='\".concat(getQueryStringValue(\"params\")).concat(\"'\")); \n",
       "IPython.notebook.kernel.execute(\"active_object='\".concat(getQueryStringValue(\"activeobject\")).concat(\"'\")); "
      ],
      "text/plain": [
       "<IPython.core.display.Javascript object>"
      ]
     },
     "metadata": {},
     "output_type": "display_data"
    }
   ],
   "source": [
    "%%javascript\n",
    "function getQueryStringValue (key)\n",
    "{  \n",
    "    return unescape(window.location.search.replace(new RegExp(\"^(?:.*[&\\\\?]\" + escape(key).replace(/[\\.\\+\\*]/g, \"\\\\$&\") + \"(?:\\\\=([^&]*))?)?.*$\", \"i\"), \"$1\"));\n",
    "}\n",
    "IPython.notebook.kernel.execute(\"survey_url='\".concat(getQueryStringValue(\"surveyurl\")).concat(\"'\"));\n",
    "IPython.notebook.kernel.execute(\"user='\".concat(getQueryStringValue(\"user\")).concat(\"'\"));\n",
    "IPython.notebook.kernel.execute(\"csv_file='\".concat(getQueryStringValue(\"csv\")).concat(\"'\")); \n",
    "IPython.notebook.kernel.execute(\"dzc_file='\".concat(getQueryStringValue(\"dzc\")).concat(\"'\")); \n",
    "IPython.notebook.kernel.execute(\"params='\".concat(getQueryStringValue(\"params\")).concat(\"'\")); \n",
    "IPython.notebook.kernel.execute(\"active_object='\".concat(getQueryStringValue(\"activeobject\")).concat(\"'\")); "
   ]
  },
  {
   "cell_type": "code",
   "execution_count": 2,
   "metadata": {},
   "outputs": [
    {
     "name": "stderr",
     "output_type": "stream",
     "text": [
      "Using TensorFlow backend.\n"
     ]
    }
   ],
   "source": [
    "# import the necessary packages\n",
    "from keras.preprocessing.image import ImageDataGenerator\n",
    "from keras.optimizers import Adam\n",
    "from sklearn.model_selection import train_test_split\n",
    "from keras.preprocessing.image import img_to_array\n",
    "from keras.utils import to_categorical\n",
    "from imutils import paths\n",
    "\n",
    "from keras.utils import np_utils\n",
    "from keras.models import Sequential\n",
    "from keras.layers.convolutional import Conv2D\n",
    "from keras.layers.convolutional import MaxPooling2D\n",
    "from keras.layers.core import Activation\n",
    "from keras.layers.core import Flatten\n",
    "from keras.layers.core import Dense\n",
    "from keras.layers.core import Dropout\n",
    "from keras import backend as K\n",
    "\n",
    "# More imports\n",
    "import matplotlib.pyplot as plt\n",
    "import numpy as np\n",
    "import argparse\n",
    "import random\n",
    "import csv\n",
    "import pandas as pd\n",
    "import re\n",
    "import cv2\n",
    "import os\n",
    "\n",
    "# import the necessary packages for SVM predictor\n",
    "from sklearn.preprocessing import LabelEncoder\n",
    "from sklearn.svm import LinearSVC\n",
    "from sklearn.metrics import classification_report\n",
    "from sklearn.model_selection import train_test_split\n",
    "import imutils\n",
    "import warnings\n",
    "warnings.filterwarnings('always')  # \"error\", \"ignore\", \"always\", \"default\", \"module\" or \"once\"\n",
    "\n",
    "# Import widget functionality\n",
    "from __future__ import print_function\n",
    "from ipywidgets import interact, interactive, fixed, interact_manual\n",
    "import ipywidgets as widgets"
   ]
  },
  {
   "cell_type": "markdown",
   "metadata": {},
   "source": [
    "## This notebook uses the LeNet model for prediction"
   ]
  },
  {
   "cell_type": "code",
   "execution_count": 3,
   "metadata": {},
   "outputs": [],
   "source": [
    "class LeNet:\n",
    "\t@staticmethod\n",
    "\tdef build(width, height, depth, classes):\n",
    "\t\t# initialize the model\n",
    "\t\tmodel = Sequential()\n",
    "\t\tinputShape = (height, width, depth)\n",
    "\n",
    "\t\t# if we are using \"channels first\", update the input shape\n",
    "\t\tif K.image_data_format() == \"channels_first\":\n",
    "\t\t\tinputShape = (depth, height, width)\n",
    "\n",
    "\t\t# first set of CONV => RELU => POOL layers\n",
    "\t\tmodel.add(Conv2D(64, (3, 3), padding=\"same\",\n",
    "\t\t\tinput_shape=inputShape))\n",
    "\t\tmodel.add(Activation(\"relu\"))\n",
    "\t\tmodel.add(MaxPooling2D(pool_size=(2, 2), strides=(2, 2)))\n",
    "\n",
    "\t\t# second set of CONV => RELU => POOL layers\n",
    "\t\tmodel.add(Conv2D(128, (3, 3), padding=\"same\"))\n",
    "\t\tmodel.add(Activation(\"relu\"))\n",
    "\t\tmodel.add(MaxPooling2D(pool_size=(2, 2), strides=(2, 2)))\n",
    "        \n",
    "\t\t# third set of CONV => RELU => POOL layers\n",
    "\t\tmodel.add(Conv2D(256, (3, 3), padding=\"same\"))\n",
    "\t\tmodel.add(Activation(\"relu\"))\n",
    "\t\tmodel.add(MaxPooling2D(pool_size=(2, 2), strides=(2, 2)))\n",
    "              \n",
    "\t\t# first (and only) set of FC => RELU layers\n",
    "\t\tmodel.add(Flatten())\n",
    "\t\tmodel.add(Dense(1000))\n",
    "\t\tmodel.add(Activation(\"relu\"))\n",
    "\t\tmodel.add(Dropout(0.5))\n",
    "\n",
    "\t\t# softmax classifier\n",
    "\t\tmodel.add(Dense(classes))\n",
    "\t\tmodel.add(Activation(\"softmax\"))\n",
    "\n",
    "\t\t# return the constructed network architecture\n",
    "\t\treturn model"
   ]
  },
  {
   "cell_type": "markdown",
   "metadata": {},
   "source": [
    "### Initializing the number of times the model will loop for learning"
   ]
  },
  {
   "cell_type": "code",
   "execution_count": 4,
   "metadata": {},
   "outputs": [],
   "source": [
    "# init the number of epochs to train for, init learning rate and batch size\n",
    "EPOCHS = 50\n",
    "INIT_LR = 1e-3\n",
    "BS = 64"
   ]
  },
  {
   "cell_type": "code",
   "execution_count": 5,
   "metadata": {},
   "outputs": [],
   "source": [
    "# init the image suffix, yset, and image list\n",
    "suffix = '.jpg'\n",
    "img_list = []\n",
    "yset = []\n",
    "# create labels list and 2 dicts for 2 way mapping\n",
    "labels = []\n",
    "# key = label value = number\n",
    "label_yval = dict()\n",
    "# key = number value = label\n",
    "yval_label = dict()"
   ]
  },
  {
   "cell_type": "code",
   "execution_count": 6,
   "metadata": {},
   "outputs": [],
   "source": [
    "# Testing Cells\n",
    "csv_file = 'zaslavsk_Cyclops_Cave_Ceramic_Petrography.csv'"
   ]
  },
  {
   "cell_type": "code",
   "execution_count": 7,
   "metadata": {},
   "outputs": [],
   "source": [
    "# use csv file to grab images/labels\n",
    "df = pd.read_csv(csv_file)\n",
    "\n",
    "toImg = list(df.columns.values)\n",
    "\n",
    "img_menu = {}\n",
    "for i in range(0, len(toImg)):\n",
    "    img_menu[toImg[i]] = toImg[i]\n",
    "\n",
    "def f(images_menu):\n",
    "    return images_menu"
   ]
  },
  {
   "cell_type": "markdown",
   "metadata": {},
   "source": [
    "## Run and choose the column name that coresponds with the Image column in the CSV"
   ]
  },
  {
   "cell_type": "markdown",
   "metadata": {},
   "source": [
    "### Then run next cell"
   ]
  },
  {
   "cell_type": "code",
   "execution_count": 8,
   "metadata": {},
   "outputs": [
    {
     "data": {
      "application/vnd.jupyter.widget-view+json": {
       "model_id": "38d01ef4478d4fada3e200d02c45d9aa",
       "version_major": 2,
       "version_minor": 0
      },
      "text/plain": [
       "A Jupyter Widget"
      ]
     },
     "metadata": {},
     "output_type": "display_data"
    }
   ],
   "source": [
    "out = interact(f, images_menu=img_menu)"
   ]
  },
  {
   "cell_type": "code",
   "execution_count": 9,
   "metadata": {},
   "outputs": [],
   "source": [
    "# Choose column of label for prediction\n",
    "toPredict = list(df.columns.values)\n",
    "\n",
    "pred_menu = {}\n",
    "for i in range(0, len(toPredict)):\n",
    "    pred_menu[toPredict[i]] = toPredict[i]\n",
    "\n",
    "def f(predictions_menu):\n",
    "    return predictions_menu"
   ]
  },
  {
   "cell_type": "markdown",
   "metadata": {},
   "source": [
    "## Run and choose the column name that coresponds with the column lable to be predicted"
   ]
  },
  {
   "cell_type": "markdown",
   "metadata": {},
   "source": [
    "### Then run next cell"
   ]
  },
  {
   "cell_type": "code",
   "execution_count": 10,
   "metadata": {
    "scrolled": true
   },
   "outputs": [
    {
     "data": {
      "application/vnd.jupyter.widget-view+json": {
       "model_id": "ef7b6e1ef1274efdbf95cd8d7d0e3eda",
       "version_major": 2,
       "version_minor": 0
      },
      "text/plain": [
       "A Jupyter Widget"
      ]
     },
     "metadata": {},
     "output_type": "display_data"
    }
   ],
   "source": [
    "out2 = interact(f, predictions_menu=pred_menu)"
   ]
  },
  {
   "cell_type": "code",
   "execution_count": 11,
   "metadata": {},
   "outputs": [
    {
     "name": "stdout",
     "output_type": "stream",
     "text": [
      "Number of labels to learn from: 252\n"
     ]
    }
   ],
   "source": [
    "# grab chosen column names\n",
    "nameCol = df[out.widget.result]\n",
    "predCol = df[out2.widget.result]\n",
    "\n",
    "# add all fabric columns to the y set\n",
    "for i in range (0,len(predCol)):\n",
    "    labels.append(predCol[i])\n",
    "\n",
    "# grab all unique labels\n",
    "uni_labels = set(labels)\n",
    "uni_labels = list(uni_labels)\n",
    "\n",
    "# assign each label a dict key number\n",
    "for i in range(0,len(uni_labels)):\n",
    "    yval_label[i] = uni_labels[i]\n",
    "    label_yval[uni_labels[i]] = i\n",
    "    \n",
    "print(\"Number of labels to learn from: \" + str(len(labels)))"
   ]
  },
  {
   "cell_type": "code",
   "execution_count": 12,
   "metadata": {},
   "outputs": [],
   "source": [
    "# create list of keys associated with their labels\n",
    "for i in range (0, len(labels)):\n",
    "    yset.append(label_yval[labels[i]])\n",
    "    \n",
    "# gather images from path created from file names in csv file\n",
    "for i in range (0,len(nameCol)):\n",
    "    base_filename = nameCol[i]\n",
    "    fileName = os.path.join(\"./Cyclops Cave/images/\", base_filename + suffix)\n",
    "    im = cv2.imread(fileName)\n",
    "    im = cv2.resize(im, (28,28))\n",
    "    im = img_to_array(im)\n",
    "    img_list.append(im)"
   ]
  },
  {
   "cell_type": "code",
   "execution_count": 13,
   "metadata": {},
   "outputs": [],
   "source": [
    "# Shuffle the data\n",
    "p = np.random.permutation(len(yset))"
   ]
  },
  {
   "cell_type": "code",
   "execution_count": 18,
   "metadata": {},
   "outputs": [],
   "source": [
    "# Relable for splitting sets\n",
    "Y = []\n",
    "X = []\n",
    "for i in range(0,len(yset)):\n",
    "    Y.append(yset[p[i]])\n",
    "    X.append(img_list[p[i]])"
   ]
  },
  {
   "cell_type": "code",
   "execution_count": 19,
   "metadata": {},
   "outputs": [],
   "source": [
    "# split the test and training set 75:25\n",
    "split = int(len(X)*(.75))\n",
    "xtrain = X[:split]\n",
    "xtest = X[split:]\n",
    "ytrain = Y[:split]\n",
    "ytest = Y[split:]"
   ]
  },
  {
   "cell_type": "code",
   "execution_count": 20,
   "metadata": {},
   "outputs": [],
   "source": [
    "# transform to arrays\n",
    "trainX = np.array(xtrain, dtype=\"float\")/225.0\n",
    "testX = np.array(xtest, dtype =\"float\")/225.0\n",
    "\n",
    "ytrain = np.array(ytrain)\n",
    "ytest = np.array(ytest)"
   ]
  },
  {
   "cell_type": "code",
   "execution_count": 21,
   "metadata": {},
   "outputs": [],
   "source": [
    "# parsed Y data containers\n",
    "trainY = []\n",
    "testY = []"
   ]
  },
  {
   "cell_type": "code",
   "execution_count": 22,
   "metadata": {},
   "outputs": [],
   "source": [
    "# convert labels from int to vectors\n",
    "trainY = np_utils.to_categorical(ytrain,12)\n",
    "testY = np_utils.to_categorical(ytest,12)"
   ]
  },
  {
   "cell_type": "code",
   "execution_count": 23,
   "metadata": {},
   "outputs": [],
   "source": [
    "# construct the image generator for data augmentation\n",
    "aug = ImageDataGenerator(rotation_range=30, width_shift_range=0.1,\n",
    "                        height_shift_range=0.1, shear_range=0.2, zoom_range=0.2,\n",
    "                        horizontal_flip=True, fill_mode=\"nearest\")"
   ]
  },
  {
   "cell_type": "code",
   "execution_count": 25,
   "metadata": {},
   "outputs": [
    {
     "name": "stdout",
     "output_type": "stream",
     "text": [
      "[INFO] compiling model...\n"
     ]
    },
    {
     "name": "stderr",
     "output_type": "stream",
     "text": [
      "C:\\Users\\cinde\\Anaconda3\\envs\\deeplearning\\lib\\site-packages\\tensorflow\\python\\util\\tf_inspect.py:45: DeprecationWarning: inspect.getargspec() is deprecated, use inspect.signature() or inspect.getfullargspec()\n",
      "  if d.decorator_argspec is not None), _inspect.getargspec(target))\n",
      "C:\\Users\\cinde\\Anaconda3\\envs\\deeplearning\\lib\\site-packages\\tensorflow\\python\\util\\tf_inspect.py:45: DeprecationWarning: inspect.getargspec() is deprecated, use inspect.signature() or inspect.getfullargspec()\n",
      "  if d.decorator_argspec is not None), _inspect.getargspec(target))\n",
      "C:\\Users\\cinde\\Anaconda3\\envs\\deeplearning\\lib\\site-packages\\tensorflow\\python\\util\\tf_inspect.py:45: DeprecationWarning: inspect.getargspec() is deprecated, use inspect.signature() or inspect.getfullargspec()\n",
      "  if d.decorator_argspec is not None), _inspect.getargspec(target))\n"
     ]
    }
   ],
   "source": [
    "# initialize the model\n",
    "print(\"[INFO] compiling model...\")\n",
    "model = LeNet.build(width=28, height=28, depth=3, classes=12)\n",
    "opt = Adam(lr=INIT_LR, decay=INIT_LR / EPOCHS)\n",
    "model.compile(loss=\"categorical_crossentropy\", optimizer=opt,\n",
    "                metrics=[\"accuracy\"])"
   ]
  },
  {
   "cell_type": "markdown",
   "metadata": {},
   "source": [
    "## Train the predictive model"
   ]
  },
  {
   "cell_type": "markdown",
   "metadata": {},
   "source": [
    "### This is relative to the size of the data set and may take a few minutes "
   ]
  },
  {
   "cell_type": "code",
   "execution_count": 26,
   "metadata": {},
   "outputs": [
    {
     "name": "stdout",
     "output_type": "stream",
     "text": [
      "[INFO] training network...\n",
      "Epoch 1/50\n",
      "3/2 [=============================================] - 3s 921ms/step - loss: 2.4545 - acc: 0.4297 - val_loss: 1.6850 - val_acc: 0.6190\n",
      "Epoch 2/50\n",
      "3/2 [=============================================] - 2s 638ms/step - loss: 1.8809 - acc: 0.5118 - val_loss: 1.9902 - val_acc: 0.6190\n",
      "Epoch 3/50\n",
      "3/2 [=============================================] - 2s 635ms/step - loss: 1.9515 - acc: 0.5555 - val_loss: 1.6342 - val_acc: 0.6190\n",
      "Epoch 4/50\n",
      "3/2 [=============================================] - 2s 618ms/step - loss: 1.8256 - acc: 0.5526 - val_loss: 1.6766 - val_acc: 0.6190\n",
      "Epoch 5/50\n",
      "3/2 [=============================================] - 2s 650ms/step - loss: 1.7745 - acc: 0.5515 - val_loss: 1.5645 - val_acc: 0.6190\n",
      "Epoch 6/50\n",
      "3/2 [=============================================] - 2s 621ms/step - loss: 1.6983 - acc: 0.5544 - val_loss: 1.5530 - val_acc: 0.6190\n",
      "Epoch 7/50\n",
      "3/2 [=============================================] - 2s 627ms/step - loss: 1.6198 - acc: 0.5635 - val_loss: 1.4959 - val_acc: 0.6190\n",
      "Epoch 8/50\n",
      "3/2 [=============================================] - 2s 645ms/step - loss: 1.5850 - acc: 0.5619 - val_loss: 1.4553 - val_acc: 0.6190\n",
      "Epoch 9/50\n",
      "3/2 [=============================================] - 2s 621ms/step - loss: 1.6238 - acc: 0.5446 - val_loss: 1.4443 - val_acc: 0.6190\n",
      "Epoch 10/50\n",
      "3/2 [=============================================] - 2s 645ms/step - loss: 1.5261 - acc: 0.5646 - val_loss: 1.4190 - val_acc: 0.6190\n",
      "Epoch 11/50\n",
      "3/2 [=============================================] - 2s 626ms/step - loss: 1.5006 - acc: 0.5546 - val_loss: 1.4047 - val_acc: 0.6190\n",
      "Epoch 12/50\n",
      "3/2 [=============================================] - 2s 620ms/step - loss: 1.5254 - acc: 0.5446 - val_loss: 1.4073 - val_acc: 0.6190\n",
      "Epoch 13/50\n",
      "3/2 [=============================================] - 2s 652ms/step - loss: 1.4641 - acc: 0.5555 - val_loss: 1.3935 - val_acc: 0.6190\n",
      "Epoch 14/50\n",
      "3/2 [=============================================] - 2s 627ms/step - loss: 1.4918 - acc: 0.5515 - val_loss: 1.3803 - val_acc: 0.6349\n",
      "Epoch 15/50\n",
      "3/2 [=============================================] - 2s 633ms/step - loss: 1.4199 - acc: 0.5641 - val_loss: 1.3690 - val_acc: 0.6349\n",
      "Epoch 16/50\n",
      "3/2 [=============================================] - 2s 638ms/step - loss: 1.4095 - acc: 0.5925 - val_loss: 1.3407 - val_acc: 0.6508\n",
      "Epoch 17/50\n",
      "3/2 [=============================================] - 2s 619ms/step - loss: 1.3390 - acc: 0.6002 - val_loss: 1.3957 - val_acc: 0.6349\n",
      "Epoch 18/50\n",
      "3/2 [=============================================] - 2s 653ms/step - loss: 1.2863 - acc: 0.6176 - val_loss: 1.3287 - val_acc: 0.6508\n",
      "Epoch 19/50\n",
      "3/2 [=============================================] - 2s 639ms/step - loss: 1.3180 - acc: 0.5933 - val_loss: 1.2896 - val_acc: 0.6667\n",
      "Epoch 20/50\n",
      "3/2 [=============================================] - 2s 614ms/step - loss: 1.2748 - acc: 0.6147 - val_loss: 1.2717 - val_acc: 0.6667\n",
      "Epoch 21/50\n",
      "3/2 [=============================================] - 2s 655ms/step - loss: 1.2983 - acc: 0.6267 - val_loss: 1.2777 - val_acc: 0.6508\n",
      "Epoch 22/50\n",
      "3/2 [=============================================] - 2s 624ms/step - loss: 1.2907 - acc: 0.6079 - val_loss: 1.3124 - val_acc: 0.6508\n",
      "Epoch 23/50\n",
      "3/2 [=============================================] - 2s 631ms/step - loss: 1.3051 - acc: 0.6083 - val_loss: 1.2714 - val_acc: 0.6349\n",
      "Epoch 24/50\n",
      "3/2 [=============================================] - 2s 641ms/step - loss: 1.2553 - acc: 0.6189 - val_loss: 1.2514 - val_acc: 0.6508\n",
      "Epoch 25/50\n",
      "3/2 [=============================================] - 2s 620ms/step - loss: 1.1841 - acc: 0.6225 - val_loss: 1.2925 - val_acc: 0.6508\n",
      "Epoch 26/50\n",
      "3/2 [=============================================] - 2s 648ms/step - loss: 1.2104 - acc: 0.5985 - val_loss: 1.3382 - val_acc: 0.6032\n",
      "Epoch 27/50\n",
      "3/2 [=============================================] - 2s 625ms/step - loss: 1.1578 - acc: 0.6476 - val_loss: 1.2522 - val_acc: 0.6667\n",
      "Epoch 28/50\n",
      "3/2 [=============================================] - 2s 632ms/step - loss: 1.1454 - acc: 0.6394 - val_loss: 1.2207 - val_acc: 0.6508\n",
      "Epoch 29/50\n",
      "3/2 [=============================================] - 2s 714ms/step - loss: 1.1700 - acc: 0.6710 - val_loss: 1.2241 - val_acc: 0.6508\n",
      "Epoch 30/50\n",
      "3/2 [=============================================] - 2s 742ms/step - loss: 1.1412 - acc: 0.6658 - val_loss: 1.2314 - val_acc: 0.6508\n",
      "Epoch 31/50\n",
      "3/2 [=============================================] - 2s 719ms/step - loss: 1.0768 - acc: 0.6717 - val_loss: 1.2299 - val_acc: 0.6349\n",
      "Epoch 32/50\n",
      "3/2 [=============================================] - 2s 629ms/step - loss: 1.0547 - acc: 0.6835 - val_loss: 1.2378 - val_acc: 0.6190\n",
      "Epoch 33/50\n",
      "3/2 [=============================================] - 2s 636ms/step - loss: 1.0435 - acc: 0.6899 - val_loss: 1.1958 - val_acc: 0.6508\n",
      "Epoch 34/50\n",
      "3/2 [=============================================] - 2s 637ms/step - loss: 1.0808 - acc: 0.6537 - val_loss: 1.2068 - val_acc: 0.6667\n",
      "Epoch 35/50\n",
      "3/2 [=============================================] - 2s 623ms/step - loss: 1.1774 - acc: 0.6449 - val_loss: 1.2139 - val_acc: 0.6667\n",
      "Epoch 36/50\n",
      "3/2 [=============================================] - 2s 661ms/step - loss: 1.0848 - acc: 0.6555 - val_loss: 1.2534 - val_acc: 0.6190\n",
      "Epoch 37/50\n",
      "3/2 [=============================================] - 2s 610ms/step - loss: 1.0429 - acc: 0.6815 - val_loss: 1.2417 - val_acc: 0.6508\n",
      "Epoch 38/50\n",
      "3/2 [=============================================] - 2s 630ms/step - loss: 1.0106 - acc: 0.6726 - val_loss: 1.2401 - val_acc: 0.6190\n",
      "Epoch 39/50\n",
      "3/2 [=============================================] - 2s 669ms/step - loss: 1.0328 - acc: 0.6557 - val_loss: 1.2043 - val_acc: 0.6032\n",
      "Epoch 40/50\n",
      "3/2 [=============================================] - 2s 809ms/step - loss: 0.9154 - acc: 0.6911 - val_loss: 1.2035 - val_acc: 0.6667\n",
      "Epoch 41/50\n",
      "3/2 [=============================================] - 2s 734ms/step - loss: 0.9734 - acc: 0.6954 - val_loss: 1.2608 - val_acc: 0.6349\n",
      "Epoch 42/50\n",
      "3/2 [=============================================] - 2s 655ms/step - loss: 1.0878 - acc: 0.6442 - val_loss: 1.2020 - val_acc: 0.6508\n",
      "Epoch 43/50\n",
      "3/2 [=============================================] - 2s 630ms/step - loss: 0.9354 - acc: 0.7047 - val_loss: 1.2000 - val_acc: 0.6667\n",
      "Epoch 44/50\n",
      "3/2 [=============================================] - 2s 637ms/step - loss: 0.9942 - acc: 0.6890 - val_loss: 1.1737 - val_acc: 0.6349\n",
      "Epoch 45/50\n",
      "3/2 [=============================================] - 2s 615ms/step - loss: 0.9134 - acc: 0.7304 - val_loss: 1.1820 - val_acc: 0.6667\n",
      "Epoch 46/50\n",
      "3/2 [=============================================] - 2s 652ms/step - loss: 0.9416 - acc: 0.6909 - val_loss: 1.1455 - val_acc: 0.6667\n",
      "Epoch 47/50\n",
      "3/2 [=============================================] - 2s 619ms/step - loss: 0.9663 - acc: 0.7028 - val_loss: 1.2271 - val_acc: 0.6667\n",
      "Epoch 48/50\n",
      "3/2 [=============================================] - 2s 621ms/step - loss: 0.8764 - acc: 0.7312 - val_loss: 1.3040 - val_acc: 0.6825\n",
      "Epoch 49/50\n",
      "3/2 [=============================================] - 2s 692ms/step - loss: 0.9039 - acc: 0.7359 - val_loss: 1.2131 - val_acc: 0.6667\n",
      "Epoch 50/50\n",
      "3/2 [=============================================] - 2s 640ms/step - loss: 0.9060 - acc: 0.7337 - val_loss: 1.2042 - val_acc: 0.6825\n"
     ]
    }
   ],
   "source": [
    "# train the network\n",
    "print(\"[INFO] training network...\")\n",
    "H = model.fit_generator(aug.flow(trainX, trainY, batch_size=BS),\n",
    "    validation_data=(testX, testY), steps_per_epoch=len(trainX) // BS,\n",
    "    epochs=EPOCHS, verbose=1)"
   ]
  },
  {
   "cell_type": "markdown",
   "metadata": {},
   "source": [
    "## Plot the loss and accuracy"
   ]
  },
  {
   "cell_type": "code",
   "execution_count": 27,
   "metadata": {},
   "outputs": [],
   "source": [
    "# plot the training loss and accuracy \n",
    "plt.style.use(\"ggplot\")\n",
    "plt.figure()\n",
    "N = EPOCHS\n",
    "plt.plot(np.arange(0, N), H.history[\"loss\"], label=\"train_loss\")\n",
    "plt.plot(np.arange(0, N), H.history[\"val_loss\"], label=\"val_loss\")\n",
    "plt.plot(np.arange(0, N), H.history[\"acc\"], label=\"train_acc\")\n",
    "plt.plot(np.arange(0, N), H.history[\"val_acc\"], label=\"val_acc\")\n",
    "plt.title(\"Training Loss and Accuracy on Label Prediction\")\n",
    "plt.xlabel(\"Epoch #\")\n",
    "plt.ylabel(\"Loss/Accuracy\")\n",
    "plt.legend(loc=\"lower left\")\n",
    "plt.savefig('figure.png')"
   ]
  },
  {
   "cell_type": "code",
   "execution_count": 28,
   "metadata": {},
   "outputs": [
    {
     "data": {
      "image/png": "[encoded data removed]",
      "text/plain": [
       "<IPython.core.display.Image object>"
      ]
     },
     "execution_count": 28,
     "metadata": {},
     "output_type": "execute_result"
    }
   ],
   "source": [
    "# Displays chart\n",
    "from IPython.display import Image\n",
    "Image(\"figure.png\")"
   ]
  },
  {
   "cell_type": "markdown",
   "metadata": {},
   "source": [
    "## Take the original data and predict based on the model"
   ]
  },
  {
   "cell_type": "code",
   "execution_count": 29,
   "metadata": {},
   "outputs": [],
   "source": [
    "# Reshape original input data images for predicting\n",
    "img_check = np.array(img_list, dtype =\"float\")/225.0"
   ]
  },
  {
   "cell_type": "code",
   "execution_count": 30,
   "metadata": {},
   "outputs": [],
   "source": [
    "predictionsMade = []"
   ]
  },
  {
   "cell_type": "code",
   "execution_count": 31,
   "metadata": {},
   "outputs": [],
   "source": [
    "preds = model.predict(img_check)"
   ]
  },
  {
   "cell_type": "code",
   "execution_count": 32,
   "metadata": {},
   "outputs": [],
   "source": [
    "# Run all data through the prediction model that was created\n",
    "for i in range (0,len(img_check)):\n",
    "    predIndex = np.where(preds[i] == np.amax(preds[i]))\n",
    "    prediction = int(predIndex[0][0])\n",
    "    predictionsMade.append(prediction)"
   ]
  },
  {
   "cell_type": "code",
   "execution_count": 33,
   "metadata": {},
   "outputs": [],
   "source": [
    "# Count how many correct predictions were made\n",
    "correct = 0\n",
    "for i in range (0,len(predictionsMade)):\n",
    "    if(predictionsMade[i] == yset[i]):\n",
    "        correct += 1 "
   ]
  },
  {
   "cell_type": "markdown",
   "metadata": {},
   "source": [
    "## Calculate the accuracy of the predictions made"
   ]
  },
  {
   "cell_type": "code",
   "execution_count": 34,
   "metadata": {},
   "outputs": [
    {
     "name": "stdout",
     "output_type": "stream",
     "text": [
      "Accuracy: 0.7301587301587301\n"
     ]
    }
   ],
   "source": [
    "print(\"Accuracy: \" + str(correct/len(yset)))"
   ]
  },
  {
   "cell_type": "code",
   "execution_count": 35,
   "metadata": {},
   "outputs": [],
   "source": [
    "# Translate back to original csv label names\n",
    "finalPred = []\n",
    "for i in range (0,len(predictionsMade)):\n",
    "    finalPred.append(yval_label[predictionsMade[i]])"
   ]
  },
  {
   "cell_type": "markdown",
   "metadata": {},
   "source": [
    "## Enter a new header for the prediction column"
   ]
  },
  {
   "cell_type": "code",
   "execution_count": 36,
   "metadata": {},
   "outputs": [
    {
     "name": "stdout",
     "output_type": "stream",
     "text": [
      "Input new column Header Label:\n"
     ]
    },
    {
     "name": "stderr",
     "output_type": "stream",
     "text": [
      "C:\\Users\\cinde\\Anaconda3\\envs\\deeplearning\\lib\\site-packages\\ipywidgets\\widgets\\widget_string.py:106: DeprecationWarning: on_submit is deprecated. Instead, set the .continuous_update attribute to False and observe the value changing with: mywidget.observe(callback, 'value').\n",
      "  warnings.warn(\"on_submit is deprecated. Instead, set the .continuous_update attribute to False and observe the value changing with: mywidget.observe(callback, 'value').\", DeprecationWarning)\n"
     ]
    },
    {
     "data": {
      "application/vnd.jupyter.widget-view+json": {
       "model_id": "0765e5629e1c4e63aecefc902f7931cf",
       "version_major": 2,
       "version_minor": 0
      },
      "text/plain": [
       "A Jupyter Widget"
      ]
     },
     "metadata": {},
     "output_type": "display_data"
    }
   ],
   "source": [
    "from IPython.display import display\n",
    "input_text = widgets.Text()\n",
    "output_text = widgets.Text()\n",
    "\n",
    "def bind_input_to_output(sender):\n",
    "    output_text.value = input_text.value\n",
    "\n",
    "input_text.on_submit(bind_input_to_output)\n",
    "\n",
    "print(\"Input new column Header Label:\")\n",
    "\n",
    "display(input_text)"
   ]
  },
  {
   "cell_type": "code",
   "execution_count": 37,
   "metadata": {},
   "outputs": [],
   "source": [
    "# Append the new column w/ it's new column name\n",
    "df[input_text.value] = finalPred"
   ]
  },
  {
   "cell_type": "markdown",
   "metadata": {},
   "source": [
    "## Write the predictions back to the original CSV"
   ]
  },
  {
   "cell_type": "code",
   "execution_count": 38,
   "metadata": {},
   "outputs": [],
   "source": [
    "# new file name\n",
    "new_file =  csv_file[:-4]+'_v1.csv'\n",
    "df.to_csv(new_file, index=None)"
   ]
  },
  {
   "cell_type": "code",
   "execution_count": null,
   "metadata": {},
   "outputs": [],
   "source": []
  }
 ],
 "metadata": {
  "kernelspec": {
   "display_name": "Python 3",
   "language": "python",
   "name": "python3"
  },
  "language_info": {
   "codemirror_mode": {
    "name": "ipython",
    "version": 3
   },
   "file_extension": ".py",
   "mimetype": "text/x-python",
   "name": "python",
   "nbconvert_exporter": "python",
   "pygments_lexer": "ipython3",
   "version": "3.6.3"
  }
 },
 "nbformat": 4,
 "nbformat_minor": 2
}
