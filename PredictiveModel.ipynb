{
 "cells": [
  {
   "cell_type": "code",
   "execution_count": 2,
   "metadata": {},
   "outputs": [],
   "source": [
    "# set the matplotlib backend so figures can be saved in the background\n",
    "import matplotlib\n",
    "matplotlib.use(\"Agg\")"
   ]
  },
  {
   "cell_type": "code",
   "execution_count": 3,
   "metadata": {},
   "outputs": [
    {
     "name": "stderr",
     "output_type": "stream",
     "text": [
      "Using TensorFlow backend.\n"
     ]
    }
   ],
   "source": [
    "# import the necessary packages\n",
    "from keras.preprocessing.image import ImageDataGenerator\n",
    "from keras.optimizers import Adam\n",
    "from sklearn.model_selection import train_test_split\n",
    "from keras.preprocessing.image import img_to_array\n",
    "from keras.utils import to_categorical\n",
    "#from pyimagesearch.lenet import LeNet\n",
    "from imutils import paths"
   ]
  },
  {
   "cell_type": "code",
   "execution_count": 4,
   "metadata": {},
   "outputs": [],
   "source": [
    "# import the necessary packages\n",
    "from keras.utils import np_utils\n",
    "from keras.models import Sequential\n",
    "from keras.layers.convolutional import Conv2D\n",
    "from keras.layers.convolutional import MaxPooling2D\n",
    "from keras.layers.core import Activation\n",
    "from keras.layers.core import Flatten\n",
    "from keras.layers.core import Dense\n",
    "from keras.layers.core import Dropout\n",
    "from keras import backend as K"
   ]
  },
  {
   "cell_type": "code",
   "execution_count": 5,
   "metadata": {},
   "outputs": [],
   "source": [
    "class LeNet:\n",
    "\t@staticmethod\n",
    "\tdef build(width, height, depth, classes):\n",
    "\t\t# initialize the model\n",
    "\t\tmodel = Sequential()\n",
    "\t\tinputShape = (height, width, depth)\n",
    "\n",
    "\t\t# if we are using \"channels first\", update the input shape\n",
    "\t\tif K.image_data_format() == \"channels_first\":\n",
    "\t\t\tinputShape = (depth, height, width)\n",
    "\n",
    "\t\t# first set of CONV => RELU => POOL layers\n",
    "\t\tmodel.add(Conv2D(64, (3, 3), padding=\"same\",\n",
    "\t\t\tinput_shape=inputShape))\n",
    "\t\tmodel.add(Activation(\"relu\"))\n",
    "\t\tmodel.add(MaxPooling2D(pool_size=(2, 2), strides=(2, 2)))\n",
    "\n",
    "\t\t# second set of CONV => RELU => POOL layers\n",
    "\t\tmodel.add(Conv2D(128, (3, 3), padding=\"same\"))\n",
    "\t\tmodel.add(Activation(\"relu\"))\n",
    "\t\tmodel.add(MaxPooling2D(pool_size=(2, 2), strides=(2, 2)))\n",
    "        \n",
    "\t\t# third set of CONV => RELU => POOL layers\n",
    "\t\tmodel.add(Conv2D(256, (3, 3), padding=\"same\"))\n",
    "\t\tmodel.add(Activation(\"relu\"))\n",
    "\t\tmodel.add(MaxPooling2D(pool_size=(2, 2), strides=(2, 2)))\n",
    "              \n",
    "\t\t# first (and only) set of FC => RELU layers\n",
    "\t\tmodel.add(Flatten())\n",
    "\t\tmodel.add(Dense(1000))\n",
    "\t\tmodel.add(Activation(\"relu\"))\n",
    "\t\tmodel.add(Dropout(0.5))\n",
    "\n",
    "\t\t# softmax classifier\n",
    "\t\tmodel.add(Dense(classes))\n",
    "\t\tmodel.add(Activation(\"softmax\"))\n",
    "\n",
    "\t\t# return the constructed network architecture\n",
    "\t\treturn model"
   ]
  },
  {
   "cell_type": "code",
   "execution_count": 6,
   "metadata": {},
   "outputs": [],
   "source": [
    "import matplotlib.pyplot as plt\n",
    "import numpy as np\n",
    "import argparse\n",
    "import random\n",
    "import csv\n",
    "import pandas as pd\n",
    "import re\n",
    "import cv2\n",
    "import os"
   ]
  },
  {
   "cell_type": "code",
   "execution_count": 7,
   "metadata": {},
   "outputs": [],
   "source": [
    "# This is code from the original tutorial for parsing the images\n",
    "# construct the argument parse and parse the args\n",
    "#ap = argparse.ArgumentParser()\n",
    "#ap.add_argument(\"-d\", \"--dataset\", required =True,\n",
    "#               help=\"path to input dataset\")\n",
    "#ap.add_argument(\"-m\", \"--model\", required=True,\n",
    "#               help=\"path to output model\")\n",
    "#ap.add_argument(\"-p\", \"--plot\", type=str, default=\"plot.png\",\n",
    "#               help=\"path to output accuracy/loss plot\")\n",
    "#args = vars(ap.parse_args())"
   ]
  },
  {
   "cell_type": "code",
   "execution_count": 8,
   "metadata": {},
   "outputs": [],
   "source": [
    "# init the number of epochs to train for, init learning rate and batch size\n",
    "EPOCHS = 50\n",
    "INIT_LR = 1e-3\n",
    "BS = 64"
   ]
  },
  {
   "cell_type": "code",
   "execution_count": 9,
   "metadata": {},
   "outputs": [
    {
     "name": "stdout",
     "output_type": "stream",
     "text": [
      "[INFO] loading images...\n"
     ]
    }
   ],
   "source": [
    "# init the image suffix, yset, and image list\n",
    "print(\"[INFO] loading images...\")\n",
    "suffix = '.jpg'\n",
    "img_list = []\n",
    "yset = []"
   ]
  },
  {
   "cell_type": "code",
   "execution_count": 10,
   "metadata": {},
   "outputs": [],
   "source": [
    "# create labels list and 2 dicts for 2 way mapping\n",
    "labels = []\n",
    "# key = label value = number\n",
    "label_yval = dict()\n",
    "# key = number value = label\n",
    "yval_label = dict()"
   ]
  },
  {
   "cell_type": "code",
   "execution_count": 11,
   "metadata": {},
   "outputs": [],
   "source": [
    "# Testing Cells\n",
    "csv_file = 'zaslavsk_Cyclops_Cave_Ceramic_Petrography.csv'"
   ]
  },
  {
   "cell_type": "code",
   "execution_count": 12,
   "metadata": {},
   "outputs": [],
   "source": [
    "# use csv file to grab images/labels\n",
    "df = pd.read_csv(csv_file)\n",
    "nameCol = df['#img']\n",
    "fabricCol = df['Fabric Code']"
   ]
  },
  {
   "cell_type": "code",
   "execution_count": 13,
   "metadata": {},
   "outputs": [],
   "source": [
    "# add all fabric columns to the y set\n",
    "for i in range (0,len(fabricCol)):\n",
    "    labels.append(fabricCol[i])"
   ]
  },
  {
   "cell_type": "code",
   "execution_count": 14,
   "metadata": {},
   "outputs": [],
   "source": [
    "# grab all unique labels\n",
    "uni_labels = set(labels)\n",
    "uni_labels = list(uni_labels)"
   ]
  },
  {
   "cell_type": "code",
   "execution_count": 15,
   "metadata": {},
   "outputs": [],
   "source": [
    "# assign each label a dict key number\n",
    "for i in range(0,len(uni_labels)):\n",
    "    yval_label[i] = uni_labels[i]\n",
    "    label_yval[uni_labels[i]] = i"
   ]
  },
  {
   "cell_type": "code",
   "execution_count": 16,
   "metadata": {},
   "outputs": [
    {
     "data": {
      "text/plain": [
       "{'Cyclops Cave 1': 3,\n",
       " 'Cyclops Cave 10': 6,\n",
       " 'Cyclops Cave 11': 7,\n",
       " 'Cyclops Cave 12': 4,\n",
       " 'Cyclops Cave 2': 5,\n",
       " 'Cyclops Cave 3': 8,\n",
       " 'Cyclops Cave 4': 1,\n",
       " 'Cyclops Cave 5': 0,\n",
       " 'Cyclops Cave 6': 10,\n",
       " 'Cyclops Cave 7': 2,\n",
       " 'Cyclops Cave 8': 9,\n",
       " 'Cyclops Cave 9': 11}"
      ]
     },
     "execution_count": 16,
     "metadata": {},
     "output_type": "execute_result"
    }
   ],
   "source": [
    "label_yval"
   ]
  },
  {
   "cell_type": "code",
   "execution_count": 17,
   "metadata": {},
   "outputs": [
    {
     "data": {
      "text/plain": [
       "252"
      ]
     },
     "execution_count": 17,
     "metadata": {},
     "output_type": "execute_result"
    }
   ],
   "source": [
    "len(labels)"
   ]
  },
  {
   "cell_type": "code",
   "execution_count": 18,
   "metadata": {},
   "outputs": [
    {
     "data": {
      "text/plain": [
       "3"
      ]
     },
     "execution_count": 18,
     "metadata": {},
     "output_type": "execute_result"
    }
   ],
   "source": [
    "label_yval[labels[0]]"
   ]
  },
  {
   "cell_type": "code",
   "execution_count": 19,
   "metadata": {},
   "outputs": [],
   "source": [
    "# create list of keys associated with their labels\n",
    "for i in range (0, len(labels)):\n",
    "    yset.append(label_yval[labels[i]])"
   ]
  },
  {
   "cell_type": "code",
   "execution_count": 20,
   "metadata": {},
   "outputs": [
    {
     "data": {
      "text/plain": [
       "252"
      ]
     },
     "execution_count": 20,
     "metadata": {},
     "output_type": "execute_result"
    }
   ],
   "source": [
    "len(yset)"
   ]
  },
  {
   "cell_type": "code",
   "execution_count": 21,
   "metadata": {},
   "outputs": [],
   "source": [
    "# remove text and leave fabric cave number for labels and zero index\n",
    "#for i in range (0,len(yset)):\n",
    "#    yset[i] = int(re.sub(\"\\D\", \"\", yset[i]))\n",
    "#    yset[i] = yset[i]-1"
   ]
  },
  {
   "cell_type": "code",
   "execution_count": 22,
   "metadata": {},
   "outputs": [],
   "source": [
    "# gather images from path created from file names in csv file\n",
    "for i in range (0,len(nameCol)):\n",
    "    base_filename = nameCol[i]\n",
    "    fileName = os.path.join(\"./Cyclops Cave/images/\", base_filename + suffix)\n",
    "    im = cv2.imread(fileName)\n",
    "    im = cv2.resize(im, (28,28))\n",
    "    im = img_to_array(im)\n",
    "    img_list.append(im)"
   ]
  },
  {
   "cell_type": "code",
   "execution_count": 23,
   "metadata": {},
   "outputs": [],
   "source": [
    "Y = []\n",
    "X = []"
   ]
  },
  {
   "cell_type": "code",
   "execution_count": 24,
   "metadata": {},
   "outputs": [],
   "source": [
    "# Shuffle the data\n",
    "p = np.random.permutation(len(yset))"
   ]
  },
  {
   "cell_type": "code",
   "execution_count": 25,
   "metadata": {},
   "outputs": [],
   "source": [
    "for i in range(0,len(yset)):\n",
    "    Y.append(yset[p[i]])\n",
    "    X.append(img_list[p[i]])"
   ]
  },
  {
   "cell_type": "code",
   "execution_count": 26,
   "metadata": {},
   "outputs": [],
   "source": [
    "# split the test and training set 75:25\n",
    "split = int(len(X)*(.75))\n",
    "xtrain = X[:split]\n",
    "xtest = X[split:]\n",
    "ytrain = Y[:split]\n",
    "ytest = Y[split:]"
   ]
  },
  {
   "cell_type": "code",
   "execution_count": 27,
   "metadata": {},
   "outputs": [],
   "source": [
    "# transform to arrays\n",
    "trainX = np.array(xtrain, dtype=\"float\")/225.0\n",
    "testX = np.array(xtest, dtype =\"float\")/225.0\n",
    "\n",
    "ytrain = np.array(ytrain)\n",
    "ytest = np.array(ytest)"
   ]
  },
  {
   "cell_type": "code",
   "execution_count": 28,
   "metadata": {},
   "outputs": [
    {
     "data": {
      "text/plain": [
       "(189, 28, 28, 3)"
      ]
     },
     "execution_count": 28,
     "metadata": {},
     "output_type": "execute_result"
    }
   ],
   "source": [
    "trainX.shape"
   ]
  },
  {
   "cell_type": "code",
   "execution_count": 29,
   "metadata": {},
   "outputs": [],
   "source": [
    "# parsed Y data containers\n",
    "trainY = []\n",
    "testY = []"
   ]
  },
  {
   "cell_type": "code",
   "execution_count": 30,
   "metadata": {},
   "outputs": [],
   "source": [
    "# convert labels from int to vectors\n",
    "trainY = np_utils.to_categorical(ytrain,12)\n",
    "testY = np_utils.to_categorical(ytest,12)"
   ]
  },
  {
   "cell_type": "code",
   "execution_count": 31,
   "metadata": {},
   "outputs": [],
   "source": [
    "# construct the image generator for data augmentation\n",
    "aug = ImageDataGenerator(rotation_range=30, width_shift_range=0.1,\n",
    "                        height_shift_range=0.1, shear_range=0.2, zoom_range=0.2,\n",
    "                        horizontal_flip=True, fill_mode=\"nearest\")"
   ]
  },
  {
   "cell_type": "code",
   "execution_count": 32,
   "metadata": {},
   "outputs": [
    {
     "name": "stdout",
     "output_type": "stream",
     "text": [
      "[INFO] compiling model...\n"
     ]
    }
   ],
   "source": [
    "# initialize the model\n",
    "print(\"[INFO] compiling model...\")\n",
    "model = LeNet.build(width=28, height=28, depth=3, classes=12)\n",
    "opt = Adam(lr=INIT_LR, decay=INIT_LR / EPOCHS)\n",
    "model.compile(loss=\"categorical_crossentropy\", optimizer=opt,\n",
    "                metrics=[\"accuracy\"])"
   ]
  },
  {
   "cell_type": "code",
   "execution_count": 33,
   "metadata": {},
   "outputs": [
    {
     "name": "stdout",
     "output_type": "stream",
     "text": [
      "[INFO] training network...\n",
      "Epoch 1/50\n",
      "3/2 [=============================================] - 3s 924ms/step - loss: 2.1034 - acc: 0.4193 - val_loss: 1.8117 - val_acc: 0.5556\n",
      "Epoch 2/50\n",
      "3/2 [=============================================] - 2s 617ms/step - loss: 1.7353 - acc: 0.5750 - val_loss: 1.7602 - val_acc: 0.5556\n",
      "Epoch 3/50\n",
      "3/2 [=============================================] - 2s 612ms/step - loss: 1.6663 - acc: 0.5738 - val_loss: 1.7463 - val_acc: 0.5556\n",
      "Epoch 4/50\n",
      "3/2 [=============================================] - 2s 617ms/step - loss: 1.6161 - acc: 0.5835 - val_loss: 1.7137 - val_acc: 0.5556\n",
      "Epoch 5/50\n",
      "3/2 [=============================================] - 2s 613ms/step - loss: 1.6219 - acc: 0.5707 - val_loss: 1.6394 - val_acc: 0.5556\n",
      "Epoch 6/50\n",
      "3/2 [=============================================] - 2s 619ms/step - loss: 1.6162 - acc: 0.5665 - val_loss: 1.5816 - val_acc: 0.5556\n",
      "Epoch 7/50\n",
      "3/2 [=============================================] - 2s 620ms/step - loss: 1.5536 - acc: 0.5702 - val_loss: 1.5392 - val_acc: 0.5556\n",
      "Epoch 8/50\n",
      "3/2 [=============================================] - 2s 615ms/step - loss: 1.5558 - acc: 0.5682 - val_loss: 1.4939 - val_acc: 0.5556\n",
      "Epoch 9/50\n",
      "3/2 [=============================================] - 2s 622ms/step - loss: 1.5135 - acc: 0.5802 - val_loss: 1.4799 - val_acc: 0.5556\n",
      "Epoch 10/50\n",
      "3/2 [=============================================] - 2s 618ms/step - loss: 1.5473 - acc: 0.5729 - val_loss: 1.4768 - val_acc: 0.5714\n",
      "Epoch 11/50\n",
      "3/2 [=============================================] - 2s 618ms/step - loss: 1.4550 - acc: 0.5950 - val_loss: 1.4543 - val_acc: 0.5714\n",
      "Epoch 12/50\n",
      "3/2 [=============================================] - 2s 615ms/step - loss: 1.3767 - acc: 0.6055 - val_loss: 1.4824 - val_acc: 0.5714\n",
      "Epoch 13/50\n",
      "3/2 [=============================================] - 2s 615ms/step - loss: 1.3921 - acc: 0.6020 - val_loss: 1.4123 - val_acc: 0.5714\n",
      "Epoch 14/50\n",
      "3/2 [=============================================] - 2s 615ms/step - loss: 1.3895 - acc: 0.6035 - val_loss: 1.3839 - val_acc: 0.5714\n",
      "Epoch 15/50\n",
      "3/2 [=============================================] - 2s 631ms/step - loss: 1.3578 - acc: 0.6081 - val_loss: 1.3322 - val_acc: 0.5873\n",
      "Epoch 16/50\n",
      "3/2 [=============================================] - 2s 634ms/step - loss: 1.3367 - acc: 0.6493 - val_loss: 1.3213 - val_acc: 0.6190\n",
      "Epoch 17/50\n",
      "3/2 [=============================================] - 2s 620ms/step - loss: 1.3132 - acc: 0.6136 - val_loss: 1.3044 - val_acc: 0.6032\n",
      "Epoch 18/50\n",
      "3/2 [=============================================] - 2s 616ms/step - loss: 1.3026 - acc: 0.6224 - val_loss: 1.3183 - val_acc: 0.6349\n",
      "Epoch 19/50\n",
      "3/2 [=============================================] - 2s 624ms/step - loss: 1.2669 - acc: 0.6203 - val_loss: 1.2777 - val_acc: 0.6349\n",
      "Epoch 20/50\n",
      "3/2 [=============================================] - 2s 617ms/step - loss: 1.2416 - acc: 0.6108 - val_loss: 1.2569 - val_acc: 0.6349\n",
      "Epoch 21/50\n",
      "3/2 [=============================================] - 2s 625ms/step - loss: 1.2754 - acc: 0.5983 - val_loss: 1.2248 - val_acc: 0.6349\n",
      "Epoch 22/50\n",
      "3/2 [=============================================] - 2s 618ms/step - loss: 1.2424 - acc: 0.6260 - val_loss: 1.2520 - val_acc: 0.6349\n",
      "Epoch 23/50\n",
      "3/2 [=============================================] - 2s 628ms/step - loss: 1.2328 - acc: 0.5968 - val_loss: 1.2428 - val_acc: 0.6032\n",
      "Epoch 24/50\n",
      "3/2 [=============================================] - 2s 622ms/step - loss: 1.1969 - acc: 0.6309 - val_loss: 1.2123 - val_acc: 0.6032\n",
      "Epoch 25/50\n",
      "3/2 [=============================================] - 2s 615ms/step - loss: 1.2367 - acc: 0.6185 - val_loss: 1.1865 - val_acc: 0.6508\n",
      "Epoch 26/50\n",
      "3/2 [=============================================] - 2s 623ms/step - loss: 1.1639 - acc: 0.6427 - val_loss: 1.1906 - val_acc: 0.6349\n",
      "Epoch 27/50\n",
      "3/2 [=============================================] - 2s 616ms/step - loss: 1.1887 - acc: 0.6108 - val_loss: 1.2499 - val_acc: 0.6349\n",
      "Epoch 28/50\n",
      "3/2 [=============================================] - 2s 620ms/step - loss: 1.2069 - acc: 0.6049 - val_loss: 1.1974 - val_acc: 0.6667\n",
      "Epoch 29/50\n",
      "3/2 [=============================================] - 2s 618ms/step - loss: 1.1133 - acc: 0.6687 - val_loss: 1.1309 - val_acc: 0.6508\n",
      "Epoch 30/50\n",
      "3/2 [=============================================] - 2s 621ms/step - loss: 1.1203 - acc: 0.6311 - val_loss: 1.2174 - val_acc: 0.6667\n",
      "Epoch 31/50\n",
      "3/2 [=============================================] - 2s 629ms/step - loss: 1.0743 - acc: 0.6306 - val_loss: 1.2497 - val_acc: 0.6667\n",
      "Epoch 32/50\n",
      "3/2 [=============================================] - 2s 756ms/step - loss: 1.0816 - acc: 0.6666 - val_loss: 1.1681 - val_acc: 0.7143\n",
      "Epoch 33/50\n",
      "3/2 [=============================================] - 3s 853ms/step - loss: 1.1870 - acc: 0.5917 - val_loss: 1.1396 - val_acc: 0.6984\n",
      "Epoch 34/50\n",
      "3/2 [=============================================] - 3s 855ms/step - loss: 1.1063 - acc: 0.6343 - val_loss: 1.1545 - val_acc: 0.6667\n",
      "Epoch 35/50\n",
      "3/2 [=============================================] - 3s 841ms/step - loss: 1.0984 - acc: 0.6642 - val_loss: 1.1975 - val_acc: 0.6667\n",
      "Epoch 36/50\n",
      "3/2 [=============================================] - 2s 649ms/step - loss: 1.0439 - acc: 0.6620 - val_loss: 1.1146 - val_acc: 0.6825\n",
      "Epoch 37/50\n",
      "3/2 [=============================================] - 2s 672ms/step - loss: 1.0582 - acc: 0.6515 - val_loss: 1.1552 - val_acc: 0.6984\n",
      "Epoch 38/50\n",
      "3/2 [=============================================] - 2s 677ms/step - loss: 1.0445 - acc: 0.6825 - val_loss: 1.0959 - val_acc: 0.6667\n",
      "Epoch 39/50\n",
      "3/2 [=============================================] - 2s 679ms/step - loss: 0.9718 - acc: 0.7070 - val_loss: 1.2585 - val_acc: 0.6984\n",
      "Epoch 40/50\n",
      "3/2 [=============================================] - 2s 608ms/step - loss: 0.9810 - acc: 0.6827 - val_loss: 1.1217 - val_acc: 0.6667\n",
      "Epoch 41/50\n",
      "3/2 [=============================================] - 2s 616ms/step - loss: 0.9786 - acc: 0.6702 - val_loss: 1.2809 - val_acc: 0.6667\n",
      "Epoch 42/50\n",
      "3/2 [=============================================] - 2s 625ms/step - loss: 0.9649 - acc: 0.6784 - val_loss: 1.1341 - val_acc: 0.6984\n",
      "Epoch 43/50\n",
      "3/2 [=============================================] - 2s 618ms/step - loss: 0.9744 - acc: 0.6924 - val_loss: 1.1795 - val_acc: 0.6984\n",
      "Epoch 44/50\n",
      "3/2 [=============================================] - 2s 620ms/step - loss: 0.9849 - acc: 0.6618 - val_loss: 1.1660 - val_acc: 0.7143\n",
      "Epoch 45/50\n",
      "3/2 [=============================================] - 2s 742ms/step - loss: 0.9741 - acc: 0.6916 - val_loss: 1.1165 - val_acc: 0.6667\n",
      "Epoch 46/50\n",
      "3/2 [=============================================] - 2s 660ms/step - loss: 0.8881 - acc: 0.6937 - val_loss: 1.0907 - val_acc: 0.6825\n",
      "Epoch 47/50\n",
      "3/2 [=============================================] - 2s 658ms/step - loss: 0.9318 - acc: 0.6937 - val_loss: 1.0681 - val_acc: 0.6984\n",
      "Epoch 48/50\n",
      "3/2 [=============================================] - 2s 626ms/step - loss: 0.8834 - acc: 0.6912 - val_loss: 1.2368 - val_acc: 0.6825\n",
      "Epoch 49/50\n",
      "3/2 [=============================================] - 2s 705ms/step - loss: 0.9085 - acc: 0.6790 - val_loss: 1.1008 - val_acc: 0.6825\n",
      "Epoch 50/50\n",
      "3/2 [=============================================] - 2s 809ms/step - loss: 0.9212 - acc: 0.6940 - val_loss: 1.1883 - val_acc: 0.6984\n"
     ]
    }
   ],
   "source": [
    "# train the network\n",
    "print(\"[INFO] training network...\")\n",
    "H = model.fit_generator(aug.flow(trainX, trainY, batch_size=BS),\n",
    "    validation_data=(testX, testY), steps_per_epoch=len(trainX) // BS,\n",
    "    epochs=EPOCHS, verbose=1)"
   ]
  },
  {
   "cell_type": "code",
   "execution_count": 34,
   "metadata": {},
   "outputs": [],
   "source": [
    "# plot the training loss and accuracy \n",
    "plt.style.use(\"ggplot\")\n",
    "plt.figure()\n",
    "N = EPOCHS\n",
    "plt.plot(np.arange(0, N), H.history[\"loss\"], label=\"train_loss\")\n",
    "plt.plot(np.arange(0, N), H.history[\"val_loss\"], label=\"val_loss\")\n",
    "plt.plot(np.arange(0, N), H.history[\"acc\"], label=\"train_acc\")\n",
    "plt.plot(np.arange(0, N), H.history[\"val_acc\"], label=\"val_acc\")\n",
    "plt.title(\"Training Loss and Accuracy on Label Prediction\")\n",
    "plt.xlabel(\"Epoch #\")\n",
    "plt.ylabel(\"Loss/Accuracy\")\n",
    "plt.legend(loc=\"lower left\")\n",
    "plt.savefig('figure.png')"
   ]
  },
  {
   "cell_type": "code",
   "execution_count": 35,
   "metadata": {},
   "outputs": [],
   "source": [
    "# Shows chart in a popup. Close to keep going\n",
    "chart = cv2.imread('figure.png',1)\n",
    "cv2.imshow('Results',chart)\n",
    "cv2.waitKey(0)\n",
    "cv2.destroyAllWindows()"
   ]
  },
  {
   "cell_type": "code",
   "execution_count": 36,
   "metadata": {},
   "outputs": [],
   "source": [
    "# Reshape original input data images for predicting\n",
    "img_check = np.array(img_list, dtype =\"float\")/225.0"
   ]
  },
  {
   "cell_type": "code",
   "execution_count": 38,
   "metadata": {},
   "outputs": [],
   "source": [
    "predictionsMade = []"
   ]
  },
  {
   "cell_type": "code",
   "execution_count": 44,
   "metadata": {},
   "outputs": [],
   "source": [
    "preds = model.predict(img_check)"
   ]
  },
  {
   "cell_type": "code",
   "execution_count": 45,
   "metadata": {},
   "outputs": [],
   "source": [
    "# Run all data through the prediction model that was created\n",
    "for i in range (0,len(img_check)):\n",
    "    predIndex = np.where(preds[i] == np.amax(preds[i]))\n",
    "    prediction = int(predIndex[0][0])\n",
    "    predictionsMade.append(prediction)"
   ]
  },
  {
   "cell_type": "code",
   "execution_count": 46,
   "metadata": {},
   "outputs": [],
   "source": [
    "# Count how many correct predictions were made\n",
    "correct = 0\n",
    "for i in range (0,len(predictionsMade)):\n",
    "    if(predictionsMade[i] == yset[i]):\n",
    "        correct += 1 "
   ]
  },
  {
   "cell_type": "code",
   "execution_count": 59,
   "metadata": {},
   "outputs": [
    {
     "name": "stdout",
     "output_type": "stream",
     "text": [
      "Accuracy: 0.7420634920634921\n"
     ]
    }
   ],
   "source": [
    "print(\"Accuracy: \" + str(correct/len(yset)))"
   ]
  },
  {
   "cell_type": "code",
   "execution_count": 48,
   "metadata": {},
   "outputs": [],
   "source": [
    "# Translate back to original csv label names\n",
    "finalPred = []\n",
    "for i in range (0,len(predictionsMade)):\n",
    "    finalPred.append(yval_label[predictionsMade[i]])"
   ]
  },
  {
   "cell_type": "code",
   "execution_count": 56,
   "metadata": {},
   "outputs": [],
   "source": [
    "# new file name\n",
    "new_file =  csv_file[:-4]+'_v1.csv'\n",
    "df.to_csv(new_file, index=None)"
   ]
  },
  {
   "cell_type": "code",
   "execution_count": null,
   "metadata": {},
   "outputs": [],
   "source": []
  }
 ],
 "metadata": {
  "kernelspec": {
   "display_name": "Python 3",
   "language": "python",
   "name": "python3"
  },
  "language_info": {
   "codemirror_mode": {
    "name": "ipython",
    "version": 3
   },
   "file_extension": ".py",
   "mimetype": "text/x-python",
   "name": "python",
   "nbconvert_exporter": "python",
   "pygments_lexer": "ipython3",
   "version": "3.6.3"
  }
 },
 "nbformat": 4,
 "nbformat_minor": 2
}
