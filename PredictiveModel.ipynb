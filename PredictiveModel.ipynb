{
 "cells": [
  {
   "cell_type": "code",
   "execution_count": 1,
   "metadata": {},
   "outputs": [],
   "source": [
    "# set the matplotlib backend so figures can be saved in the background\n",
    "import matplotlib\n",
    "matplotlib.use(\"Agg\")"
   ]
  },
  {
   "cell_type": "code",
   "execution_count": 2,
   "metadata": {},
   "outputs": [
    {
     "name": "stderr",
     "output_type": "stream",
     "text": [
      "Using TensorFlow backend.\n"
     ]
    }
   ],
   "source": [
    "# import the necessary packages\n",
    "from keras.preprocessing.image import ImageDataGenerator\n",
    "from keras.optimizers import Adam\n",
    "from sklearn.model_selection import train_test_split\n",
    "from keras.preprocessing.image import img_to_array\n",
    "from keras.utils import to_categorical\n",
    "from pyimagesearch.lenet import LeNet\n",
    "from imutils import paths"
   ]
  },
  {
   "cell_type": "code",
   "execution_count": 3,
   "metadata": {},
   "outputs": [],
   "source": [
    "from keras.utils import np_utils"
   ]
  },
  {
   "cell_type": "code",
   "execution_count": 4,
   "metadata": {},
   "outputs": [],
   "source": [
    "import matplotlib.pyplot as plt\n",
    "import numpy as np\n",
    "import argparse\n",
    "import random\n",
    "import csv\n",
    "import pandas as pd\n",
    "import re\n",
    "import cv2\n",
    "import os"
   ]
  },
  {
   "cell_type": "code",
   "execution_count": 5,
   "metadata": {},
   "outputs": [],
   "source": [
    "# This is code from the original tutorial for parsing the images\n",
    "# construct the argument parse and parse the args\n",
    "#ap = argparse.ArgumentParser()\n",
    "#ap.add_argument(\"-d\", \"--dataset\", required =True,\n",
    "#               help=\"path to input dataset\")\n",
    "#ap.add_argument(\"-m\", \"--model\", required=True,\n",
    "#               help=\"path to output model\")\n",
    "#ap.add_argument(\"-p\", \"--plot\", type=str, default=\"plot.png\",\n",
    "#               help=\"path to output accuracy/loss plot\")\n",
    "#args = vars(ap.parse_args())"
   ]
  },
  {
   "cell_type": "code",
   "execution_count": 6,
   "metadata": {},
   "outputs": [],
   "source": [
    "# init the number of epochs to train for, init learning rate and batch size\n",
    "EPOCHS = 25\n",
    "INIT_LR = 1e-3\n",
    "BS = 32"
   ]
  },
  {
   "cell_type": "code",
   "execution_count": 7,
   "metadata": {},
   "outputs": [
    {
     "name": "stdout",
     "output_type": "stream",
     "text": [
      "[INFO] loading images...\n"
     ]
    }
   ],
   "source": [
    "# init the image suffix, yset, and image list\n",
    "print(\"[INFO] loading images...\")\n",
    "suffix = '.jpg'\n",
    "img_list = []\n",
    "yset = []"
   ]
  },
  {
   "cell_type": "code",
   "execution_count": 8,
   "metadata": {},
   "outputs": [],
   "source": [
    "# create labels list and 2 dicts for 2 way mapping\n",
    "labels = []\n",
    "# key = label value = number\n",
    "label_yval = dict()\n",
    "# key = number value = label\n",
    "yval_label = dict()"
   ]
  },
  {
   "cell_type": "code",
   "execution_count": 9,
   "metadata": {},
   "outputs": [],
   "source": [
    "# use csv file to grab images/labels\n",
    "df = pd.read_csv('zaslavsk_Cyclops_Cave_Ceramic_Petrography.csv')\n",
    "nameCol = df['#img']\n",
    "fabricCol = df['Fabric Code']"
   ]
  },
  {
   "cell_type": "code",
   "execution_count": 10,
   "metadata": {},
   "outputs": [],
   "source": [
    "# add all fabric columns to the y set\n",
    "for i in range (0,len(fabricCol)):\n",
    "    labels.append(fabricCol[i])"
   ]
  },
  {
   "cell_type": "code",
   "execution_count": 11,
   "metadata": {},
   "outputs": [],
   "source": [
    "# grab all unique labels\n",
    "uni_labels = set(labels)\n",
    "uni_labels = list(uni_labels)"
   ]
  },
  {
   "cell_type": "code",
   "execution_count": 12,
   "metadata": {},
   "outputs": [],
   "source": [
    "# assign each label a dict key number\n",
    "for i in range(0,len(uni_labels)):\n",
    "    yval_label[i] = uni_labels[i]\n",
    "    label_yval[uni_labels[i]] = i"
   ]
  },
  {
   "cell_type": "code",
   "execution_count": 13,
   "metadata": {},
   "outputs": [
    {
     "data": {
      "text/plain": [
       "{'Cyclops Cave 1': 4,\n",
       " 'Cyclops Cave 10': 6,\n",
       " 'Cyclops Cave 11': 5,\n",
       " 'Cyclops Cave 12': 9,\n",
       " 'Cyclops Cave 2': 2,\n",
       " 'Cyclops Cave 3': 7,\n",
       " 'Cyclops Cave 4': 11,\n",
       " 'Cyclops Cave 5': 0,\n",
       " 'Cyclops Cave 6': 1,\n",
       " 'Cyclops Cave 7': 10,\n",
       " 'Cyclops Cave 8': 8,\n",
       " 'Cyclops Cave 9': 3}"
      ]
     },
     "execution_count": 13,
     "metadata": {},
     "output_type": "execute_result"
    }
   ],
   "source": [
    "label_yval"
   ]
  },
  {
   "cell_type": "code",
   "execution_count": 14,
   "metadata": {},
   "outputs": [
    {
     "data": {
      "text/plain": [
       "252"
      ]
     },
     "execution_count": 14,
     "metadata": {},
     "output_type": "execute_result"
    }
   ],
   "source": [
    "len(labels)"
   ]
  },
  {
   "cell_type": "code",
   "execution_count": 15,
   "metadata": {},
   "outputs": [
    {
     "data": {
      "text/plain": [
       "4"
      ]
     },
     "execution_count": 15,
     "metadata": {},
     "output_type": "execute_result"
    }
   ],
   "source": [
    "label_yval[labels[0]]"
   ]
  },
  {
   "cell_type": "code",
   "execution_count": 16,
   "metadata": {},
   "outputs": [],
   "source": [
    "# create list of keys associated with their labels\n",
    "for i in range (0, len(labels)):\n",
    "    yset.append(label_yval[labels[i]])"
   ]
  },
  {
   "cell_type": "code",
   "execution_count": 17,
   "metadata": {},
   "outputs": [
    {
     "data": {
      "text/plain": [
       "252"
      ]
     },
     "execution_count": 17,
     "metadata": {},
     "output_type": "execute_result"
    }
   ],
   "source": [
    "len(yset)"
   ]
  },
  {
   "cell_type": "code",
   "execution_count": 18,
   "metadata": {},
   "outputs": [],
   "source": [
    "# remove text and leave fabric cave number for labels and zero index\n",
    "#for i in range (0,len(yset)):\n",
    "#    yset[i] = int(re.sub(\"\\D\", \"\", yset[i]))\n",
    "#    yset[i] = yset[i]-1"
   ]
  },
  {
   "cell_type": "code",
   "execution_count": 19,
   "metadata": {},
   "outputs": [],
   "source": [
    "# gather images from path created from file names in csv file\n",
    "for i in range (0,len(nameCol)):\n",
    "    base_filename = nameCol[i]\n",
    "    fileName = os.path.join(\"./Cyclops Cave/images/\", base_filename + suffix)\n",
    "    im = cv2.imread(fileName)\n",
    "    im = cv2.resize(im, (28,28))\n",
    "    im = img_to_array(im)\n",
    "    img_list.append(im)"
   ]
  },
  {
   "cell_type": "code",
   "execution_count": 20,
   "metadata": {},
   "outputs": [],
   "source": [
    "# split the test and training set 75:25\n",
    "split = int(len(img_list)*(.75))\n",
    "xtrain = img_list[:split]\n",
    "xtest = img_list[split:]\n",
    "ytrain = yset[:split]\n",
    "ytest = yset[split:]"
   ]
  },
  {
   "cell_type": "code",
   "execution_count": 21,
   "metadata": {},
   "outputs": [],
   "source": [
    "# transform to arrays\n",
    "trainX = np.array(xtrain, dtype=\"float\")/225.0\n",
    "testX = np.array(xtest, dtype =\"float\")/225.0\n",
    "\n",
    "ytrain = np.array(ytrain)\n",
    "ytest = np.array(ytest)"
   ]
  },
  {
   "cell_type": "code",
   "execution_count": 22,
   "metadata": {},
   "outputs": [
    {
     "data": {
      "text/plain": [
       "(189, 28, 28, 3)"
      ]
     },
     "execution_count": 22,
     "metadata": {},
     "output_type": "execute_result"
    }
   ],
   "source": [
    "trainX.shape"
   ]
  },
  {
   "cell_type": "code",
   "execution_count": 23,
   "metadata": {},
   "outputs": [],
   "source": [
    "# parsed Y data containers\n",
    "trainY = []\n",
    "testY = []"
   ]
  },
  {
   "cell_type": "code",
   "execution_count": 24,
   "metadata": {},
   "outputs": [],
   "source": [
    "# convert labels from int to vectors\n",
    "trainY = np_utils.to_categorical(ytrain,12)\n",
    "testY = np_utils.to_categorical(ytest,12)"
   ]
  },
  {
   "cell_type": "code",
   "execution_count": 25,
   "metadata": {},
   "outputs": [],
   "source": [
    "# construct the image generator for data augmentation\n",
    "aug = ImageDataGenerator(rotation_range=30, width_shift_range=0.1,\n",
    "                        height_shift_range=0.1, shear_range=0.2, zoom_range=0.2,\n",
    "                        horizontal_flip=True, fill_mode=\"nearest\")"
   ]
  },
  {
   "cell_type": "code",
   "execution_count": 26,
   "metadata": {},
   "outputs": [
    {
     "name": "stdout",
     "output_type": "stream",
     "text": [
      "[INFO] compiling model...\n"
     ]
    }
   ],
   "source": [
    "# initialize the model\n",
    "print(\"[INFO] compiling model...\")\n",
    "model = LeNet.build(width=28, height=28, depth=3, classes=12)\n",
    "opt = Adam(lr=INIT_LR, decay=INIT_LR / EPOCHS)\n",
    "model.compile(loss=\"categorical_crossentropy\", optimizer=opt,\n",
    "                metrics=[\"accuracy\"])"
   ]
  },
  {
   "cell_type": "code",
   "execution_count": 27,
   "metadata": {},
   "outputs": [
    {
     "name": "stdout",
     "output_type": "stream",
     "text": [
      "[INFO] training network...\n",
      "Epoch 1/25\n",
      "6/5 [====================================] - 4s 728ms/step - loss: 1.8161 - acc: 0.5112 - val_loss: 2.7988 - val_acc: 0.3016\n",
      "Epoch 2/25\n",
      "6/5 [====================================] - 3s 503ms/step - loss: 1.4361 - acc: 0.6112 - val_loss: 3.9170 - val_acc: 0.3016\n",
      "Epoch 3/25\n",
      "6/5 [====================================] - 3s 493ms/step - loss: 1.2554 - acc: 0.6640 - val_loss: 4.1182 - val_acc: 0.3016\n",
      "Epoch 4/25\n",
      "6/5 [====================================] - 3s 495ms/step - loss: 1.3724 - acc: 0.6332 - val_loss: 3.1806 - val_acc: 0.3016\n",
      "Epoch 5/25\n",
      "6/5 [====================================] - 3s 491ms/step - loss: 1.3055 - acc: 0.6578 - val_loss: 4.6114 - val_acc: 0.3016\n",
      "Epoch 6/25\n",
      "6/5 [====================================] - 3s 491ms/step - loss: 1.1819 - acc: 0.6640 - val_loss: 4.3900 - val_acc: 0.3016\n",
      "Epoch 7/25\n",
      "6/5 [====================================] - 3s 492ms/step - loss: 1.1234 - acc: 0.6606 - val_loss: 4.3574 - val_acc: 0.3016\n",
      "Epoch 8/25\n",
      "6/5 [====================================] - 3s 492ms/step - loss: 1.1098 - acc: 0.6506 - val_loss: 4.1743 - val_acc: 0.3016\n",
      "Epoch 9/25\n",
      "6/5 [====================================] - 3s 488ms/step - loss: 1.0778 - acc: 0.6809 - val_loss: 4.7530 - val_acc: 0.3016\n",
      "Epoch 10/25\n",
      "6/5 [====================================] - 3s 496ms/step - loss: 1.0298 - acc: 0.7116 - val_loss: 5.7281 - val_acc: 0.3016\n",
      "Epoch 11/25\n",
      "6/5 [====================================] - 3s 496ms/step - loss: 1.0169 - acc: 0.7020 - val_loss: 4.8995 - val_acc: 0.3016\n",
      "Epoch 12/25\n",
      "6/5 [====================================] - 3s 500ms/step - loss: 1.0217 - acc: 0.6875 - val_loss: 5.2234 - val_acc: 0.3016\n",
      "Epoch 13/25\n",
      "6/5 [====================================] - 2s 396ms/step - loss: 0.9320 - acc: 0.7236 - val_loss: 6.1717 - val_acc: 0.3016\n",
      "Epoch 14/25\n",
      "6/5 [====================================] - 2s 347ms/step - loss: 0.9990 - acc: 0.6729 - val_loss: 5.5012 - val_acc: 0.3016\n",
      "Epoch 15/25\n",
      "6/5 [====================================] - 2s 344ms/step - loss: 0.8911 - acc: 0.7191 - val_loss: 5.8900 - val_acc: 0.3016\n",
      "Epoch 16/25\n",
      "6/5 [====================================] - 2s 344ms/step - loss: 0.8751 - acc: 0.7354 - val_loss: 5.9871 - val_acc: 0.3016\n",
      "Epoch 17/25\n",
      "6/5 [====================================] - 2s 345ms/step - loss: 0.9142 - acc: 0.7062 - val_loss: 5.9497 - val_acc: 0.3016\n",
      "Epoch 18/25\n",
      "6/5 [====================================] - 2s 342ms/step - loss: 0.8917 - acc: 0.7022 - val_loss: 5.9596 - val_acc: 0.3016\n",
      "Epoch 19/25\n",
      "6/5 [====================================] - 2s 341ms/step - loss: 0.9122 - acc: 0.7440 - val_loss: 5.9509 - val_acc: 0.3016\n",
      "Epoch 20/25\n",
      "6/5 [====================================] - 2s 345ms/step - loss: 0.8906 - acc: 0.7174 - val_loss: 5.8029 - val_acc: 0.3016\n",
      "Epoch 21/25\n",
      "6/5 [====================================] - 3s 493ms/step - loss: 0.8334 - acc: 0.7321 - val_loss: 6.1021 - val_acc: 0.3016\n",
      "Epoch 22/25\n",
      "6/5 [====================================] - 3s 497ms/step - loss: 0.9669 - acc: 0.7320 - val_loss: 6.3433 - val_acc: 0.3016\n",
      "Epoch 23/25\n",
      "6/5 [====================================] - 3s 494ms/step - loss: 0.8773 - acc: 0.7281 - val_loss: 6.4142 - val_acc: 0.3016\n",
      "Epoch 24/25\n",
      "6/5 [====================================] - 3s 491ms/step - loss: 0.8618 - acc: 0.7354 - val_loss: 5.8680 - val_acc: 0.3016\n",
      "Epoch 25/25\n",
      "6/5 [====================================] - 3s 492ms/step - loss: 0.9251 - acc: 0.6960 - val_loss: 6.2281 - val_acc: 0.3016\n"
     ]
    }
   ],
   "source": [
    "# train the network\n",
    "print(\"[INFO] training network...\")\n",
    "H = model.fit_generator(aug.flow(trainX, trainY, batch_size=BS),\n",
    "    validation_data=(testX, testY), steps_per_epoch=len(trainX) // BS,\n",
    "    epochs=EPOCHS, verbose=1)"
   ]
  },
  {
   "cell_type": "code",
   "execution_count": 28,
   "metadata": {},
   "outputs": [],
   "source": [
    "# plot the training loss and accuracy \n",
    "plt.style.use(\"ggplot\")\n",
    "plt.figure()\n",
    "N = EPOCHS\n",
    "plt.plot(np.arange(0, N), H.history[\"loss\"], label=\"train_loss\")\n",
    "plt.plot(np.arange(0, N), H.history[\"val_loss\"], label=\"val_loss\")\n",
    "plt.plot(np.arange(0, N), H.history[\"acc\"], label=\"train_acc\")\n",
    "plt.plot(np.arange(0, N), H.history[\"val_acc\"], label=\"val_acc\")\n",
    "plt.title(\"Training Loss and Accuracy on Label Prediction\")\n",
    "plt.xlabel(\"Epoch #\")\n",
    "plt.ylabel(\"Loss/Accuracy\")\n",
    "plt.legend(loc=\"lower left\")\n",
    "plt.savefig('figure.png')"
   ]
  },
  {
   "cell_type": "code",
   "execution_count": 29,
   "metadata": {},
   "outputs": [],
   "source": [
    "chart = cv2.imread('figure.png',1)\n",
    "cv2.imshow('Results',chart)\n",
    "cv2.waitKey(0)\n",
    "cv2.destroyAllWindows()"
   ]
  },
  {
   "cell_type": "code",
   "execution_count": null,
   "metadata": {},
   "outputs": [],
   "source": []
  },
  {
   "cell_type": "code",
   "execution_count": null,
   "metadata": {},
   "outputs": [],
   "source": []
  },
  {
   "cell_type": "code",
   "execution_count": null,
   "metadata": {},
   "outputs": [],
   "source": []
  }
 ],
 "metadata": {
  "kernelspec": {
   "display_name": "Python 3",
   "language": "python",
   "name": "python3"
  },
  "language_info": {
   "codemirror_mode": {
    "name": "ipython",
    "version": 3
   },
   "file_extension": ".py",
   "mimetype": "text/x-python",
   "name": "python",
   "nbconvert_exporter": "python",
   "pygments_lexer": "ipython3",
   "version": "3.6.3"
  }
 },
 "nbformat": 4,
 "nbformat_minor": 2
}
