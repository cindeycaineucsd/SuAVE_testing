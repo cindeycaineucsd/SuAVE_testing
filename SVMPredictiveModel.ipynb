{
 "cells": [
  {
   "cell_type": "code",
   "execution_count": 1,
   "metadata": {},
   "outputs": [],
   "source": [
    "# More imports\n",
    "import matplotlib.pyplot as plt\n",
    "import numpy as np\n",
    "import argparse\n",
    "import random\n",
    "import csv\n",
    "import pandas as pd\n",
    "import re\n",
    "import cv2\n",
    "import os\n",
    "\n",
    "# import the necessary packages for SVM predictor\n",
    "from sklearn.preprocessing import LabelEncoder\n",
    "from sklearn.svm import LinearSVC\n",
    "from sklearn.metrics import classification_report\n",
    "from sklearn.model_selection import train_test_split\n",
    "import imutils"
   ]
  },
  {
   "cell_type": "code",
   "execution_count": 2,
   "metadata": {},
   "outputs": [],
   "source": [
    "# Import widget functionality\n",
    "from __future__ import print_function\n",
    "from ipywidgets import interact, interactive, fixed, interact_manual\n",
    "import ipywidgets as widgets"
   ]
  },
  {
   "cell_type": "code",
   "execution_count": 3,
   "metadata": {},
   "outputs": [],
   "source": [
    "def extract_color_histogram(image, bins=(8,8,8)):\n",
    "    # extract a 3D color histogram from the HSV color space using\n",
    "    # the supplied number of 'bins' per channel\n",
    "    hsv = cv2.cvtColor(image, cv2.COLOR_BGR2HSV)\n",
    "    hist = cv2.calcHist([hsv], [0,1,2], None, bins, [0,180,0,256,0,256])\n",
    "    \n",
    "    # handle normalizing the histogram if we are using OpenCV 2.4.X\n",
    "    if imutils.is_cv2():\n",
    "        hist = cv2.normalize(hist)\n",
    "    \n",
    "    # otherwise, perform \"in place\" normaliation in OpenCV 3\n",
    "    else:\n",
    "        cv2.normalize(hist, hist)\n",
    "    \n",
    "    return hist.flatten()"
   ]
  },
  {
   "cell_type": "code",
   "execution_count": 4,
   "metadata": {},
   "outputs": [],
   "source": [
    "def extract_blue_histogram(image):\n",
    "    # extract blue histogram from the image\n",
    "    hist = cv2.calcHist([image], [0], None, [265], [0,256])\n",
    "    \n",
    "    # handle normalizing the histogram if we are using OpenCV 2.4.X\n",
    "    if imutils.is_cv2():\n",
    "        hist = cv2.normalize(hist)\n",
    "    \n",
    "    # otherwise, perform \"in place\" normaliation in OpenCV 3\n",
    "    else:\n",
    "        cv2.normalize(hist, hist)\n",
    "    \n",
    "    return hist.flatten()"
   ]
  },
  {
   "cell_type": "code",
   "execution_count": 5,
   "metadata": {},
   "outputs": [],
   "source": [
    "def extract_green_histogram(image):\n",
    "    # extract blue histogram from the image\n",
    "    hist = cv2.calcHist([image], [1], None, [265], [0,256])\n",
    "    \n",
    "    # handle normalizing the histogram if we are using OpenCV 2.4.X\n",
    "    if imutils.is_cv2():\n",
    "        hist = cv2.normalize(hist)\n",
    "    \n",
    "    # otherwise, perform \"in place\" normaliation in OpenCV 3\n",
    "    else:\n",
    "        cv2.normalize(hist, hist)\n",
    "    \n",
    "    return hist.flatten()"
   ]
  },
  {
   "cell_type": "code",
   "execution_count": 6,
   "metadata": {},
   "outputs": [],
   "source": [
    "def extract_red_histogram(image):\n",
    "    # extract blue histogram from the image\n",
    "    hist = cv2.calcHist([image], [2], None, [265], [0,256])\n",
    "    \n",
    "    # handle normalizing the histogram if we are using OpenCV 2.4.X\n",
    "    if imutils.is_cv2():\n",
    "        hist = cv2.normalize(hist)\n",
    "    \n",
    "    # otherwise, perform \"in place\" normaliation in OpenCV 3\n",
    "    else:\n",
    "        cv2.normalize(hist, hist)\n",
    "    \n",
    "    return hist.flatten()"
   ]
  },
  {
   "cell_type": "code",
   "execution_count": 7,
   "metadata": {},
   "outputs": [],
   "source": [
    "# init the image suffix, yset, and image list\n",
    "suffix = '.jpg'\n",
    "img_list = []\n",
    "yset = []\n",
    "# create labels list and 2 dicts for 2 way mapping\n",
    "labels = []"
   ]
  },
  {
   "cell_type": "code",
   "execution_count": 8,
   "metadata": {},
   "outputs": [],
   "source": [
    "# Testing Cells\n",
    "csv_file = 'zaslavsk_Cyclops_Cave_Ceramic_Petrography.csv'"
   ]
  },
  {
   "cell_type": "code",
   "execution_count": 9,
   "metadata": {},
   "outputs": [],
   "source": [
    "# use csv file to grab images/labels\n",
    "df = pd.read_csv(csv_file)\n",
    "\n",
    "toImg = list(df.columns.values)\n",
    "\n",
    "img_menu = {}\n",
    "for i in range(0, len(toImg)):\n",
    "    img_menu[toImg[i]] = toImg[i]\n",
    "\n",
    "def f(images_menu):\n",
    "    return images_menu"
   ]
  },
  {
   "cell_type": "code",
   "execution_count": 10,
   "metadata": {},
   "outputs": [
    {
     "data": {
      "application/vnd.jupyter.widget-view+json": {
       "model_id": "0fe52094ac91487f8b2aa154c30456be",
       "version_major": 2,
       "version_minor": 0
      },
      "text/plain": [
       "A Jupyter Widget"
      ]
     },
     "metadata": {},
     "output_type": "display_data"
    }
   ],
   "source": [
    "out = interact(f, images_menu=img_menu)"
   ]
  },
  {
   "cell_type": "code",
   "execution_count": 11,
   "metadata": {},
   "outputs": [],
   "source": [
    "# Choose column of label for prediction\n",
    "toPredict = list(df.columns.values)\n",
    "\n",
    "pred_menu = {}\n",
    "for i in range(0, len(toPredict)):\n",
    "    pred_menu[toPredict[i]] = toPredict[i]\n",
    "\n",
    "def f(predictions_menu):\n",
    "    return predictions_menu"
   ]
  },
  {
   "cell_type": "code",
   "execution_count": 12,
   "metadata": {},
   "outputs": [
    {
     "data": {
      "application/vnd.jupyter.widget-view+json": {
       "model_id": "9f19c3a19a734a93bb8ca604e1e802be",
       "version_major": 2,
       "version_minor": 0
      },
      "text/plain": [
       "A Jupyter Widget"
      ]
     },
     "metadata": {},
     "output_type": "display_data"
    }
   ],
   "source": [
    "out2 = interact(f, predictions_menu=pred_menu)"
   ]
  },
  {
   "cell_type": "code",
   "execution_count": 13,
   "metadata": {},
   "outputs": [
    {
     "name": "stdout",
     "output_type": "stream",
     "text": [
      "Number of labels to learn from: 252\n"
     ]
    }
   ],
   "source": [
    "# grab chosen column names\n",
    "nameCol = df[out.widget.result]\n",
    "predCol = df[out2.widget.result]\n",
    "\n",
    "# add all fabric columns to the y set\n",
    "for i in range (0,len(predCol)):\n",
    "    labels.append(predCol[i])\n",
    "    \n",
    "print(\"Number of labels to learn from: \" + str(len(labels)))"
   ]
  },
  {
   "cell_type": "code",
   "execution_count": 83,
   "metadata": {},
   "outputs": [
    {
     "data": {
      "application/vnd.jupyter.widget-view+json": {
       "model_id": "b0fa303bf674499a88bad199e6d4e132",
       "version_major": 2,
       "version_minor": 0
      },
      "text/plain": [
       "A Jupyter Widget"
      ]
     },
     "metadata": {},
     "output_type": "display_data"
    }
   ],
   "source": [
    "hist_type = { \n",
    "    'HSV Color Histogram': 0,\n",
    "    'Blue Histogram': 1,\n",
    "    'Red Histogram': 2,\n",
    "    'Green Histogram': 3\n",
    "    }\n",
    "\n",
    "def f(histogram_type):\n",
    "    return histogram_type\n",
    "typeH= interact(f, histogram_type=hist_type);"
   ]
  },
  {
   "cell_type": "code",
   "execution_count": 84,
   "metadata": {},
   "outputs": [],
   "source": [
    "# create new hist_list\n",
    "hist_list = []"
   ]
  },
  {
   "cell_type": "code",
   "execution_count": 85,
   "metadata": {},
   "outputs": [],
   "source": [
    "# gather images from path created from file names in csv file\n",
    "typeH = typeH.widget.result\n",
    "for i in range (0,len(nameCol)):\n",
    "    base_filename = nameCol[i]\n",
    "    fileName = os.path.join(\"./Cyclops Cave/images/\", base_filename + suffix)\n",
    "    im = cv2.imread(fileName)  \n",
    "    if typeH == 0:\n",
    "        extract_color_histogram(im)\n",
    "    elif typeH == 1: \n",
    "        extract_blue_histogram(im)\n",
    "    elif typeH == 2: \n",
    "        extract_red_histogram(im)\n",
    "    elif typeH == 3: \n",
    "        extract_green_histogram(im)\n",
    "    hist_list.append(hist)"
   ]
  },
  {
   "cell_type": "code",
   "execution_count": 86,
   "metadata": {},
   "outputs": [],
   "source": [
    "# transform labels into numerical system\n",
    "le = LabelEncoder()\n",
    "labels = le.fit_transform(predCol)"
   ]
  },
  {
   "cell_type": "code",
   "execution_count": 87,
   "metadata": {},
   "outputs": [],
   "source": [
    "# separate data into test/train sets for features/labels\n",
    "(xtrain, xtest, ytrain, ytest) = train_test_split(np.array(hist_list),labels, test_size = 0.5)"
   ]
  },
  {
   "cell_type": "code",
   "execution_count": 88,
   "metadata": {},
   "outputs": [
    {
     "data": {
      "text/plain": [
       "LinearSVC(C=1.0, class_weight=None, dual=True, fit_intercept=True,\n",
       "     intercept_scaling=1, loss='squared_hinge', max_iter=1000,\n",
       "     multi_class='ovr', penalty='l2', random_state=None, tol=0.0001,\n",
       "     verbose=0)"
      ]
     },
     "execution_count": 88,
     "metadata": {},
     "output_type": "execute_result"
    }
   ],
   "source": [
    "# Train the linear regression classifier\n",
    "model2 = LinearSVC()\n",
    "model2.fit(xtrain, ytrain)"
   ]
  },
  {
   "cell_type": "code",
   "execution_count": 89,
   "metadata": {},
   "outputs": [
    {
     "name": "stdout",
     "output_type": "stream",
     "text": [
      "                 precision    recall  f1-score   support\n",
      "\n",
      " Cyclops Cave 1       0.57      1.00      0.73       144\n",
      "Cyclops Cave 10       0.00      0.00      0.00         4\n",
      "Cyclops Cave 11       0.00      0.00      0.00         4\n",
      "Cyclops Cave 12       0.00      0.00      0.00         4\n",
      " Cyclops Cave 2       0.00      0.00      0.00        28\n",
      " Cyclops Cave 3       0.00      0.00      0.00        20\n",
      " Cyclops Cave 4       0.00      0.00      0.00        12\n",
      " Cyclops Cave 5       0.00      0.00      0.00         8\n",
      " Cyclops Cave 6       0.00      0.00      0.00         8\n",
      " Cyclops Cave 7       0.00      0.00      0.00         8\n",
      " Cyclops Cave 8       0.00      0.00      0.00         8\n",
      " Cyclops Cave 9       0.00      0.00      0.00         4\n",
      "\n",
      "    avg / total       0.33      0.57      0.42       252\n",
      "\n"
     ]
    },
    {
     "name": "stderr",
     "output_type": "stream",
     "text": [
      "C:\\Users\\cinde\\Anaconda3\\envs\\deeplearning\\lib\\site-packages\\sklearn\\metrics\\classification.py:1135: UndefinedMetricWarning: Precision and F-score are ill-defined and being set to 0.0 in labels with no predicted samples.\n",
      "  'precision', 'predicted', average, warn_for)\n"
     ]
    }
   ],
   "source": [
    "# Calculate predictions on the data set\n",
    "predictions2 = model2.predict(np.array(hist_list))\n",
    "print(classification_report(labels, predictions2, target_names = le.classes_))"
   ]
  },
  {
   "cell_type": "code",
   "execution_count": 90,
   "metadata": {},
   "outputs": [
    {
     "data": {
      "text/plain": [
       "252"
      ]
     },
     "execution_count": 90,
     "metadata": {},
     "output_type": "execute_result"
    }
   ],
   "source": [
    "len(labels)"
   ]
  },
  {
   "cell_type": "code",
   "execution_count": 91,
   "metadata": {},
   "outputs": [
    {
     "data": {
      "text/plain": [
       "0.5714285714285714"
      ]
     },
     "execution_count": 91,
     "metadata": {},
     "output_type": "execute_result"
    }
   ],
   "source": [
    "count = 0\n",
    "for i in range (0,len(labels)):\n",
    "    if(predictions2[i] == labels[i]):\n",
    "        count += 1\n",
    "\n",
    "count/len(labels)"
   ]
  },
  {
   "cell_type": "code",
   "execution_count": null,
   "metadata": {},
   "outputs": [],
   "source": []
  }
 ],
 "metadata": {
  "kernelspec": {
   "display_name": "Python 3",
   "language": "python",
   "name": "python3"
  },
  "language_info": {
   "codemirror_mode": {
    "name": "ipython",
    "version": 3
   },
   "file_extension": ".py",
   "mimetype": "text/x-python",
   "name": "python",
   "nbconvert_exporter": "python",
   "pygments_lexer": "ipython3",
   "version": "3.6.3"
  }
 },
 "nbformat": 4,
 "nbformat_minor": 2
}
