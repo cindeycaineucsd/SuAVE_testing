{
 "cells": [
  {
   "cell_type": "code",
   "execution_count": 36,
   "metadata": {},
   "outputs": [],
   "source": [
    "# More imports\n",
    "import matplotlib.pyplot as plt\n",
    "import numpy as np\n",
    "import argparse\n",
    "import random\n",
    "import csv\n",
    "import pandas as pd\n",
    "import re\n",
    "import cv2\n",
    "import os\n",
    "\n",
    "# import the necessary packages for SVM predictor\n",
    "from sklearn.preprocessing import LabelEncoder\n",
    "from sklearn.svm import LinearSVC\n",
    "from sklearn.metrics import classification_report\n",
    "from sklearn.model_selection import train_test_split\n",
    "import imutils"
   ]
  },
  {
   "cell_type": "code",
   "execution_count": 17,
   "metadata": {},
   "outputs": [],
   "source": [
    "# Import widget functionality\n",
    "from __future__ import print_function\n",
    "from ipywidgets import interact, interactive, fixed, interact_manual\n",
    "import ipywidgets as widgets"
   ]
  },
  {
   "cell_type": "code",
   "execution_count": 18,
   "metadata": {},
   "outputs": [],
   "source": [
    "def extract_color_histogram(image, bins=(8,8,8)):\n",
    "    # extract a 3D color histogram from the HSV color space using\n",
    "    # the supplied number of 'bins' per channel\n",
    "    hsv = cv2.cvtColor(image, cv2.COLOR_BGR2HSV)\n",
    "    hist = cv2.calcHist([hsv], [0,1,2], None, bins, [0,180,0,256,0,256])\n",
    "    \n",
    "    # handle normalizing the histogram if we are using OpenCV 2.4.X\n",
    "    if imutils.is_cv2():\n",
    "        hist = cv2.normalize(hist)\n",
    "    \n",
    "    # otherwise, perform \"in place\" normaliation in OpenCV 3\n",
    "    else:\n",
    "        cv2.normalize(hist, hist)\n",
    "    \n",
    "    return hist.flatten()"
   ]
  },
  {
   "cell_type": "code",
   "execution_count": 19,
   "metadata": {},
   "outputs": [],
   "source": [
    "# init the image suffix, yset, and image list\n",
    "suffix = '.jpg'\n",
    "img_list = []\n",
    "yset = []\n",
    "# create labels list and 2 dicts for 2 way mapping\n",
    "labels = []\n",
    "# key = label value = number\n",
    "label_yval = dict()\n",
    "# key = number value = label\n",
    "yval_label = dict()"
   ]
  },
  {
   "cell_type": "code",
   "execution_count": 20,
   "metadata": {},
   "outputs": [],
   "source": [
    "# Testing Cells\n",
    "csv_file = 'zaslavsk_Cyclops_Cave_Ceramic_Petrography.csv'"
   ]
  },
  {
   "cell_type": "code",
   "execution_count": 21,
   "metadata": {},
   "outputs": [],
   "source": [
    "# use csv file to grab images/labels\n",
    "df = pd.read_csv(csv_file)\n",
    "\n",
    "toImg = list(df.columns.values)\n",
    "\n",
    "img_menu = {}\n",
    "for i in range(0, len(toImg)):\n",
    "    img_menu[toImg[i]] = toImg[i]\n",
    "\n",
    "def f(images_menu):\n",
    "    return images_menu"
   ]
  },
  {
   "cell_type": "code",
   "execution_count": 22,
   "metadata": {},
   "outputs": [
    {
     "data": {
      "application/vnd.jupyter.widget-view+json": {
       "model_id": "a03dca8c6f7146b484a6221463dbead1",
       "version_major": 2,
       "version_minor": 0
      },
      "text/plain": [
       "A Jupyter Widget"
      ]
     },
     "metadata": {},
     "output_type": "display_data"
    }
   ],
   "source": [
    "out = interact(f, images_menu=img_menu)"
   ]
  },
  {
   "cell_type": "code",
   "execution_count": 23,
   "metadata": {},
   "outputs": [],
   "source": [
    "# Choose column of label for prediction\n",
    "toPredict = list(df.columns.values)\n",
    "\n",
    "pred_menu = {}\n",
    "for i in range(0, len(toPredict)):\n",
    "    pred_menu[toPredict[i]] = toPredict[i]\n",
    "\n",
    "def f(predictions_menu):\n",
    "    return predictions_menu"
   ]
  },
  {
   "cell_type": "code",
   "execution_count": 24,
   "metadata": {},
   "outputs": [
    {
     "data": {
      "application/vnd.jupyter.widget-view+json": {
       "model_id": "b739eeb60ebe409d9a224611e10cfb23",
       "version_major": 2,
       "version_minor": 0
      },
      "text/plain": [
       "A Jupyter Widget"
      ]
     },
     "metadata": {},
     "output_type": "display_data"
    }
   ],
   "source": [
    "out2 = interact(f, predictions_menu=pred_menu)"
   ]
  },
  {
   "cell_type": "code",
   "execution_count": 25,
   "metadata": {},
   "outputs": [
    {
     "name": "stdout",
     "output_type": "stream",
     "text": [
      "Number of labels to learn from: 252\n"
     ]
    }
   ],
   "source": [
    "# grab chosen column names\n",
    "nameCol = df[out.widget.result]\n",
    "predCol = df[out2.widget.result]\n",
    "\n",
    "# add all fabric columns to the y set\n",
    "for i in range (0,len(predCol)):\n",
    "    labels.append(predCol[i])\n",
    "\n",
    "# grab all unique labels\n",
    "uni_labels = set(labels)\n",
    "uni_labels = list(uni_labels)\n",
    "\n",
    "# assign each label a dict key number\n",
    "for i in range(0,len(uni_labels)):\n",
    "    yval_label[i] = uni_labels[i]\n",
    "    label_yval[uni_labels[i]] = i\n",
    "    \n",
    "print(\"Number of labels to learn from: \" + str(len(labels)))"
   ]
  },
  {
   "cell_type": "code",
   "execution_count": 26,
   "metadata": {},
   "outputs": [],
   "source": [
    "# create new hist_list\n",
    "hist_list = []"
   ]
  },
  {
   "cell_type": "code",
   "execution_count": 27,
   "metadata": {},
   "outputs": [],
   "source": [
    "# gather images from path created from file names in csv file\n",
    "for i in range (0,len(nameCol)):\n",
    "    base_filename = nameCol[i]\n",
    "    fileName = os.path.join(\"./Cyclops Cave/images/\", base_filename + suffix)\n",
    "    im = cv2.imread(fileName)\n",
    "    hist = extract_color_histogram(im)\n",
    "    hist_list.append(hist)"
   ]
  },
  {
   "cell_type": "code",
   "execution_count": 31,
   "metadata": {},
   "outputs": [],
   "source": [
    "le = LabelEncoder()\n",
    "labels = le.fit_transform(predCol)"
   ]
  },
  {
   "cell_type": "code",
   "execution_count": 32,
   "metadata": {},
   "outputs": [],
   "source": [
    "(xtrain, xtest, ytrain, ytest) = train_test_split(np.array(hist_list),labels, test_size = 0.5)"
   ]
  },
  {
   "cell_type": "code",
   "execution_count": 33,
   "metadata": {},
   "outputs": [
    {
     "data": {
      "text/plain": [
       "array(['Cyclops Cave 1', 'Cyclops Cave 10', 'Cyclops Cave 11',\n",
       "       'Cyclops Cave 12', 'Cyclops Cave 2', 'Cyclops Cave 3',\n",
       "       'Cyclops Cave 4', 'Cyclops Cave 5', 'Cyclops Cave 6',\n",
       "       'Cyclops Cave 7', 'Cyclops Cave 8', 'Cyclops Cave 9'], dtype=object)"
      ]
     },
     "execution_count": 33,
     "metadata": {},
     "output_type": "execute_result"
    }
   ],
   "source": [
    "le.classes_"
   ]
  },
  {
   "cell_type": "code",
   "execution_count": 34,
   "metadata": {},
   "outputs": [
    {
     "data": {
      "text/plain": [
       "LinearSVC(C=1.0, class_weight=None, dual=True, fit_intercept=True,\n",
       "     intercept_scaling=1, loss='squared_hinge', max_iter=1000,\n",
       "     multi_class='ovr', penalty='l2', random_state=None, tol=0.0001,\n",
       "     verbose=0)"
      ]
     },
     "execution_count": 34,
     "metadata": {},
     "output_type": "execute_result"
    }
   ],
   "source": [
    "# Train the linear regression classifier\n",
    "model2 = LinearSVC()\n",
    "model2.fit(xtrain, ytrain)"
   ]
  },
  {
   "cell_type": "code",
   "execution_count": 37,
   "metadata": {},
   "outputs": [
    {
     "name": "stdout",
     "output_type": "stream",
     "text": [
      "                 precision    recall  f1-score   support\n",
      "\n",
      " Cyclops Cave 1       0.72      0.98      0.83       144\n",
      "Cyclops Cave 10       1.00      0.25      0.40         4\n",
      "Cyclops Cave 11       1.00      0.25      0.40         4\n",
      "Cyclops Cave 12       1.00      0.50      0.67         4\n",
      " Cyclops Cave 2       0.47      0.29      0.36        28\n",
      " Cyclops Cave 3       0.64      0.35      0.45        20\n",
      " Cyclops Cave 4       0.67      0.17      0.27        12\n",
      " Cyclops Cave 5       0.20      0.38      0.26         8\n",
      " Cyclops Cave 6       1.00      0.12      0.22         8\n",
      " Cyclops Cave 7       1.00      0.25      0.40         8\n",
      " Cyclops Cave 8       0.75      0.38      0.50         8\n",
      " Cyclops Cave 9       0.00      0.00      0.00         4\n",
      "\n",
      "    avg / total       0.69      0.68      0.63       252\n",
      "\n"
     ]
    },
    {
     "name": "stderr",
     "output_type": "stream",
     "text": [
      "C:\\Users\\cinde\\Anaconda3\\envs\\deeplearning\\lib\\site-packages\\sklearn\\metrics\\classification.py:1135: UndefinedMetricWarning: Precision and F-score are ill-defined and being set to 0.0 in labels with no predicted samples.\n",
      "  'precision', 'predicted', average, warn_for)\n"
     ]
    }
   ],
   "source": [
    "# Calculate predictions on the data set\n",
    "predictions2 = model2.predict(np.array(hist_list))\n",
    "print(classification_report(labels, predictions2, target_names = le.classes_))"
   ]
  },
  {
   "cell_type": "code",
   "execution_count": 43,
   "metadata": {},
   "outputs": [
    {
     "data": {
      "text/plain": [
       "array(['Cyclops Cave 1', 'Cyclops Cave 1', 'Cyclops Cave 1',\n",
       "       'Cyclops Cave 1', 'Cyclops Cave 1', 'Cyclops Cave 1',\n",
       "       'Cyclops Cave 1', 'Cyclops Cave 1', 'Cyclops Cave 1',\n",
       "       'Cyclops Cave 1', 'Cyclops Cave 1', 'Cyclops Cave 1',\n",
       "       'Cyclops Cave 6', 'Cyclops Cave 1', 'Cyclops Cave 1',\n",
       "       'Cyclops Cave 1', 'Cyclops Cave 1', 'Cyclops Cave 1',\n",
       "       'Cyclops Cave 3', 'Cyclops Cave 1', 'Cyclops Cave 1',\n",
       "       'Cyclops Cave 1', 'Cyclops Cave 1', 'Cyclops Cave 1',\n",
       "       'Cyclops Cave 1', 'Cyclops Cave 1', 'Cyclops Cave 1',\n",
       "       'Cyclops Cave 1', 'Cyclops Cave 1', 'Cyclops Cave 5',\n",
       "       'Cyclops Cave 1', 'Cyclops Cave 5', 'Cyclops Cave 1',\n",
       "       'Cyclops Cave 1', 'Cyclops Cave 1', 'Cyclops Cave 1',\n",
       "       'Cyclops Cave 1', 'Cyclops Cave 1', 'Cyclops Cave 1',\n",
       "       'Cyclops Cave 1', 'Cyclops Cave 1', 'Cyclops Cave 1',\n",
       "       'Cyclops Cave 1', 'Cyclops Cave 1', 'Cyclops Cave 1',\n",
       "       'Cyclops Cave 1', 'Cyclops Cave 1', 'Cyclops Cave 1',\n",
       "       'Cyclops Cave 1', 'Cyclops Cave 1', 'Cyclops Cave 1',\n",
       "       'Cyclops Cave 1', 'Cyclops Cave 1', 'Cyclops Cave 2',\n",
       "       'Cyclops Cave 1', 'Cyclops Cave 1', 'Cyclops Cave 8',\n",
       "       'Cyclops Cave 1', 'Cyclops Cave 2', 'Cyclops Cave 8',\n",
       "       'Cyclops Cave 8', 'Cyclops Cave 1', 'Cyclops Cave 1',\n",
       "       'Cyclops Cave 1', 'Cyclops Cave 2', 'Cyclops Cave 5',\n",
       "       'Cyclops Cave 1', 'Cyclops Cave 2', 'Cyclops Cave 1',\n",
       "       'Cyclops Cave 2', 'Cyclops Cave 1', 'Cyclops Cave 2',\n",
       "       'Cyclops Cave 8', 'Cyclops Cave 5', 'Cyclops Cave 1',\n",
       "       'Cyclops Cave 5', 'Cyclops Cave 1', 'Cyclops Cave 1',\n",
       "       'Cyclops Cave 1', 'Cyclops Cave 1', 'Cyclops Cave 1',\n",
       "       'Cyclops Cave 1', 'Cyclops Cave 2', 'Cyclops Cave 2',\n",
       "       'Cyclops Cave 1', 'Cyclops Cave 2', 'Cyclops Cave 1',\n",
       "       'Cyclops Cave 1', 'Cyclops Cave 1', 'Cyclops Cave 1',\n",
       "       'Cyclops Cave 1', 'Cyclops Cave 1', 'Cyclops Cave 1',\n",
       "       'Cyclops Cave 1', 'Cyclops Cave 1', 'Cyclops Cave 1',\n",
       "       'Cyclops Cave 1', 'Cyclops Cave 1', 'Cyclops Cave 1',\n",
       "       'Cyclops Cave 1', 'Cyclops Cave 1', 'Cyclops Cave 2',\n",
       "       'Cyclops Cave 1', 'Cyclops Cave 1', 'Cyclops Cave 1',\n",
       "       'Cyclops Cave 5', 'Cyclops Cave 1', 'Cyclops Cave 2',\n",
       "       'Cyclops Cave 1', 'Cyclops Cave 1', 'Cyclops Cave 1',\n",
       "       'Cyclops Cave 1', 'Cyclops Cave 1', 'Cyclops Cave 3',\n",
       "       'Cyclops Cave 1', 'Cyclops Cave 2', 'Cyclops Cave 1',\n",
       "       'Cyclops Cave 5', 'Cyclops Cave 11', 'Cyclops Cave 2',\n",
       "       'Cyclops Cave 1', 'Cyclops Cave 1', 'Cyclops Cave 3',\n",
       "       'Cyclops Cave 5', 'Cyclops Cave 2', 'Cyclops Cave 5',\n",
       "       'Cyclops Cave 2', 'Cyclops Cave 5', 'Cyclops Cave 1',\n",
       "       'Cyclops Cave 1', 'Cyclops Cave 1', 'Cyclops Cave 1',\n",
       "       'Cyclops Cave 1', 'Cyclops Cave 1', 'Cyclops Cave 1',\n",
       "       'Cyclops Cave 1', 'Cyclops Cave 1', 'Cyclops Cave 1',\n",
       "       'Cyclops Cave 1', 'Cyclops Cave 1', 'Cyclops Cave 1',\n",
       "       'Cyclops Cave 1', 'Cyclops Cave 1', 'Cyclops Cave 1',\n",
       "       'Cyclops Cave 1', 'Cyclops Cave 1', 'Cyclops Cave 1',\n",
       "       'Cyclops Cave 1', 'Cyclops Cave 1', 'Cyclops Cave 1',\n",
       "       'Cyclops Cave 1', 'Cyclops Cave 1', 'Cyclops Cave 1',\n",
       "       'Cyclops Cave 1', 'Cyclops Cave 1', 'Cyclops Cave 1',\n",
       "       'Cyclops Cave 1', 'Cyclops Cave 1', 'Cyclops Cave 1',\n",
       "       'Cyclops Cave 1', 'Cyclops Cave 1', 'Cyclops Cave 1',\n",
       "       'Cyclops Cave 1', 'Cyclops Cave 1', 'Cyclops Cave 1',\n",
       "       'Cyclops Cave 1', 'Cyclops Cave 1', 'Cyclops Cave 1',\n",
       "       'Cyclops Cave 1', 'Cyclops Cave 1', 'Cyclops Cave 1',\n",
       "       'Cyclops Cave 1', 'Cyclops Cave 1', 'Cyclops Cave 1',\n",
       "       'Cyclops Cave 1', 'Cyclops Cave 1', 'Cyclops Cave 1',\n",
       "       'Cyclops Cave 1', 'Cyclops Cave 1', 'Cyclops Cave 1',\n",
       "       'Cyclops Cave 1', 'Cyclops Cave 1', 'Cyclops Cave 1',\n",
       "       'Cyclops Cave 1', 'Cyclops Cave 1', 'Cyclops Cave 1',\n",
       "       'Cyclops Cave 1', 'Cyclops Cave 1', 'Cyclops Cave 1',\n",
       "       'Cyclops Cave 1', 'Cyclops Cave 1', 'Cyclops Cave 1',\n",
       "       'Cyclops Cave 1', 'Cyclops Cave 1', 'Cyclops Cave 1',\n",
       "       'Cyclops Cave 1', 'Cyclops Cave 1', 'Cyclops Cave 1',\n",
       "       'Cyclops Cave 1', 'Cyclops Cave 1', 'Cyclops Cave 1',\n",
       "       'Cyclops Cave 1', 'Cyclops Cave 1', 'Cyclops Cave 1',\n",
       "       'Cyclops Cave 1', 'Cyclops Cave 4', 'Cyclops Cave 1',\n",
       "       'Cyclops Cave 1', 'Cyclops Cave 1', 'Cyclops Cave 1',\n",
       "       'Cyclops Cave 1', 'Cyclops Cave 10', 'Cyclops Cave 1',\n",
       "       'Cyclops Cave 4', 'Cyclops Cave 1', 'Cyclops Cave 1',\n",
       "       'Cyclops Cave 1', 'Cyclops Cave 4', 'Cyclops Cave 1',\n",
       "       'Cyclops Cave 1', 'Cyclops Cave 1', 'Cyclops Cave 1',\n",
       "       'Cyclops Cave 3', 'Cyclops Cave 5', 'Cyclops Cave 1',\n",
       "       'Cyclops Cave 5', 'Cyclops Cave 7', 'Cyclops Cave 2',\n",
       "       'Cyclops Cave 1', 'Cyclops Cave 3', 'Cyclops Cave 1',\n",
       "       'Cyclops Cave 5', 'Cyclops Cave 1', 'Cyclops Cave 1',\n",
       "       'Cyclops Cave 7', 'Cyclops Cave 3', 'Cyclops Cave 1',\n",
       "       'Cyclops Cave 5', 'Cyclops Cave 1', 'Cyclops Cave 3',\n",
       "       'Cyclops Cave 3', 'Cyclops Cave 1', 'Cyclops Cave 1',\n",
       "       'Cyclops Cave 3', 'Cyclops Cave 3', 'Cyclops Cave 5',\n",
       "       'Cyclops Cave 1', 'Cyclops Cave 3', 'Cyclops Cave 12',\n",
       "       'Cyclops Cave 1', 'Cyclops Cave 2', 'Cyclops Cave 12'], dtype=object)"
      ]
     },
     "execution_count": 43,
     "metadata": {},
     "output_type": "execute_result"
    }
   ],
   "source": [
    "le.inverse_transform(predictions2)"
   ]
  },
  {
   "cell_type": "code",
   "execution_count": 45,
   "metadata": {},
   "outputs": [
    {
     "data": {
      "text/plain": [
       "252"
      ]
     },
     "execution_count": 45,
     "metadata": {},
     "output_type": "execute_result"
    }
   ],
   "source": [
    "len(labels)"
   ]
  },
  {
   "cell_type": "code",
   "execution_count": 47,
   "metadata": {},
   "outputs": [
    {
     "data": {
      "text/plain": [
       "0.6785714285714286"
      ]
     },
     "execution_count": 47,
     "metadata": {},
     "output_type": "execute_result"
    }
   ],
   "source": [
    "count = 0\n",
    "for i in range (0,len(labels)):\n",
    "    if(predictions2[i] == labels[i]):\n",
    "        count += 1\n",
    "\n",
    "count/len(labels)"
   ]
  },
  {
   "cell_type": "code",
   "execution_count": null,
   "metadata": {},
   "outputs": [],
   "source": []
  }
 ],
 "metadata": {
  "kernelspec": {
   "display_name": "Python 3",
   "language": "python",
   "name": "python3"
  },
  "language_info": {
   "codemirror_mode": {
    "name": "ipython",
    "version": 3
   },
   "file_extension": ".py",
   "mimetype": "text/x-python",
   "name": "python",
   "nbconvert_exporter": "python",
   "pygments_lexer": "ipython3",
   "version": "3.6.3"
  }
 },
 "nbformat": 4,
 "nbformat_minor": 2
}
