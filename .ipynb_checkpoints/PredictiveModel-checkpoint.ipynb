{
 "cells": [
  {
   "cell_type": "code",
   "execution_count": 1,
   "metadata": {},
   "outputs": [],
   "source": [
    "# set the matplotlib backend so figures can be saved in the background\n",
    "import matplotlib\n",
    "matplotlib.use(\"Agg\")"
   ]
  },
  {
   "cell_type": "code",
   "execution_count": 2,
   "metadata": {},
   "outputs": [
    {
     "name": "stderr",
     "output_type": "stream",
     "text": [
      "Using TensorFlow backend.\n"
     ]
    }
   ],
   "source": [
    "# import the necessary packages\n",
    "from keras.preprocessing.image import ImageDataGenerator\n",
    "from keras.optimizers import Adam\n",
    "from sklearn.model_selection import train_test_split\n",
    "from keras.preprocessing.image import img_to_array\n",
    "from keras.utils import to_categorical\n",
    "#from pyimagesearch.lenet import LeNet\n",
    "from imutils import paths"
   ]
  },
  {
   "cell_type": "code",
   "execution_count": 3,
   "metadata": {},
   "outputs": [],
   "source": [
    "# import the necessary packages\n",
    "from keras.utils import np_utils\n",
    "from keras.models import Sequential\n",
    "from keras.layers.convolutional import Conv2D\n",
    "from keras.layers.convolutional import MaxPooling2D\n",
    "from keras.layers.core import Activation\n",
    "from keras.layers.core import Flatten\n",
    "from keras.layers.core import Dense\n",
    "from keras.layers.core import Dropout\n",
    "from keras import backend as K"
   ]
  },
  {
   "cell_type": "code",
   "execution_count": 4,
   "metadata": {},
   "outputs": [],
   "source": [
    "class LeNet:\n",
    "\t@staticmethod\n",
    "\tdef build(width, height, depth, classes):\n",
    "\t\t# initialize the model\n",
    "\t\tmodel = Sequential()\n",
    "\t\tinputShape = (height, width, depth)\n",
    "\n",
    "\t\t# if we are using \"channels first\", update the input shape\n",
    "\t\tif K.image_data_format() == \"channels_first\":\n",
    "\t\t\tinputShape = (depth, height, width)\n",
    "\n",
    "\t\t# first set of CONV => RELU => POOL layers\n",
    "\t\tmodel.add(Conv2D(64, (3, 3), padding=\"same\",\n",
    "\t\t\tinput_shape=inputShape))\n",
    "\t\tmodel.add(Activation(\"relu\"))\n",
    "\t\tmodel.add(MaxPooling2D(pool_size=(2, 2), strides=(2, 2)))\n",
    "\n",
    "\t\t# second set of CONV => RELU => POOL layers\n",
    "\t\tmodel.add(Conv2D(128, (3, 3), padding=\"same\"))\n",
    "\t\tmodel.add(Activation(\"relu\"))\n",
    "\t\tmodel.add(MaxPooling2D(pool_size=(2, 2), strides=(2, 2)))\n",
    "        \n",
    "\t\t# third set of CONV => RELU => POOL layers\n",
    "\t\tmodel.add(Conv2D(256, (3, 3), padding=\"same\"))\n",
    "\t\tmodel.add(Activation(\"relu\"))\n",
    "\t\tmodel.add(MaxPooling2D(pool_size=(2, 2), strides=(2, 2)))\n",
    "              \n",
    "\t\t# first (and only) set of FC => RELU layers\n",
    "\t\tmodel.add(Flatten())\n",
    "\t\tmodel.add(Dense(1000))\n",
    "\t\tmodel.add(Activation(\"relu\"))\n",
    "\t\tmodel.add(Dropout(0.5))\n",
    "\n",
    "\t\t# softmax classifier\n",
    "\t\tmodel.add(Dense(classes))\n",
    "\t\tmodel.add(Activation(\"softmax\"))\n",
    "\n",
    "\t\t# return the constructed network architecture\n",
    "\t\treturn model"
   ]
  },
  {
   "cell_type": "code",
   "execution_count": 5,
   "metadata": {},
   "outputs": [],
   "source": [
    "import matplotlib.pyplot as plt\n",
    "import numpy as np\n",
    "import argparse\n",
    "import random\n",
    "import csv\n",
    "import pandas as pd\n",
    "import re\n",
    "import cv2\n",
    "import os"
   ]
  },
  {
   "cell_type": "code",
   "execution_count": 6,
   "metadata": {},
   "outputs": [],
   "source": [
    "# This is code from the original tutorial for parsing the images\n",
    "# construct the argument parse and parse the args\n",
    "#ap = argparse.ArgumentParser()\n",
    "#ap.add_argument(\"-d\", \"--dataset\", required =True,\n",
    "#               help=\"path to input dataset\")\n",
    "#ap.add_argument(\"-m\", \"--model\", required=True,\n",
    "#               help=\"path to output model\")\n",
    "#ap.add_argument(\"-p\", \"--plot\", type=str, default=\"plot.png\",\n",
    "#               help=\"path to output accuracy/loss plot\")\n",
    "#args = vars(ap.parse_args())"
   ]
  },
  {
   "cell_type": "code",
   "execution_count": 23,
   "metadata": {},
   "outputs": [],
   "source": [
    "# init the number of epochs to train for, init learning rate and batch size\n",
    "EPOCHS = 50\n",
    "INIT_LR = 1e-3\n",
    "BS = 32"
   ]
  },
  {
   "cell_type": "code",
   "execution_count": 24,
   "metadata": {},
   "outputs": [
    {
     "name": "stdout",
     "output_type": "stream",
     "text": [
      "[INFO] loading images...\n"
     ]
    }
   ],
   "source": [
    "# init the image suffix, yset, and image list\n",
    "print(\"[INFO] loading images...\")\n",
    "suffix = '.jpg'\n",
    "img_list = []\n",
    "yset = []"
   ]
  },
  {
   "cell_type": "code",
   "execution_count": 25,
   "metadata": {},
   "outputs": [],
   "source": [
    "# create labels list and 2 dicts for 2 way mapping\n",
    "labels = []\n",
    "# key = label value = number\n",
    "label_yval = dict()\n",
    "# key = number value = label\n",
    "yval_label = dict()"
   ]
  },
  {
   "cell_type": "code",
   "execution_count": 26,
   "metadata": {},
   "outputs": [],
   "source": [
    "# Testing Cells\n",
    "csv_file = 'zaslavsk_Cyclops_Cave_Ceramic_Petrography.csv'"
   ]
  },
  {
   "cell_type": "code",
   "execution_count": 27,
   "metadata": {},
   "outputs": [],
   "source": [
    "# use csv file to grab images/labels\n",
    "df = pd.read_csv(csv_file)\n",
    "nameCol = df['#img']\n",
    "fabricCol = df['Fabric Code']"
   ]
  },
  {
   "cell_type": "code",
   "execution_count": 28,
   "metadata": {},
   "outputs": [],
   "source": [
    "# add all fabric columns to the y set\n",
    "for i in range (0,len(fabricCol)):\n",
    "    labels.append(fabricCol[i])"
   ]
  },
  {
   "cell_type": "code",
   "execution_count": 29,
   "metadata": {},
   "outputs": [],
   "source": [
    "# grab all unique labels\n",
    "uni_labels = set(labels)\n",
    "uni_labels = list(uni_labels)"
   ]
  },
  {
   "cell_type": "code",
   "execution_count": 30,
   "metadata": {},
   "outputs": [],
   "source": [
    "# assign each label a dict key number\n",
    "for i in range(0,len(uni_labels)):\n",
    "    yval_label[i] = uni_labels[i]\n",
    "    label_yval[uni_labels[i]] = i"
   ]
  },
  {
   "cell_type": "code",
   "execution_count": 31,
   "metadata": {},
   "outputs": [
    {
     "data": {
      "text/plain": [
       "{'Cyclops Cave 1': 5,\n",
       " 'Cyclops Cave 10': 3,\n",
       " 'Cyclops Cave 11': 8,\n",
       " 'Cyclops Cave 12': 10,\n",
       " 'Cyclops Cave 2': 7,\n",
       " 'Cyclops Cave 3': 0,\n",
       " 'Cyclops Cave 4': 2,\n",
       " 'Cyclops Cave 5': 6,\n",
       " 'Cyclops Cave 6': 11,\n",
       " 'Cyclops Cave 7': 9,\n",
       " 'Cyclops Cave 8': 1,\n",
       " 'Cyclops Cave 9': 4}"
      ]
     },
     "execution_count": 31,
     "metadata": {},
     "output_type": "execute_result"
    }
   ],
   "source": [
    "label_yval"
   ]
  },
  {
   "cell_type": "code",
   "execution_count": 32,
   "metadata": {},
   "outputs": [
    {
     "data": {
      "text/plain": [
       "252"
      ]
     },
     "execution_count": 32,
     "metadata": {},
     "output_type": "execute_result"
    }
   ],
   "source": [
    "len(labels)"
   ]
  },
  {
   "cell_type": "code",
   "execution_count": 33,
   "metadata": {},
   "outputs": [
    {
     "data": {
      "text/plain": [
       "5"
      ]
     },
     "execution_count": 33,
     "metadata": {},
     "output_type": "execute_result"
    }
   ],
   "source": [
    "label_yval[labels[0]]"
   ]
  },
  {
   "cell_type": "code",
   "execution_count": 34,
   "metadata": {},
   "outputs": [],
   "source": [
    "# create list of keys associated with their labels\n",
    "for i in range (0, len(labels)):\n",
    "    yset.append(label_yval[labels[i]])"
   ]
  },
  {
   "cell_type": "code",
   "execution_count": 35,
   "metadata": {},
   "outputs": [
    {
     "data": {
      "text/plain": [
       "252"
      ]
     },
     "execution_count": 35,
     "metadata": {},
     "output_type": "execute_result"
    }
   ],
   "source": [
    "len(yset)"
   ]
  },
  {
   "cell_type": "code",
   "execution_count": 36,
   "metadata": {},
   "outputs": [],
   "source": [
    "# remove text and leave fabric cave number for labels and zero index\n",
    "#for i in range (0,len(yset)):\n",
    "#    yset[i] = int(re.sub(\"\\D\", \"\", yset[i]))\n",
    "#    yset[i] = yset[i]-1"
   ]
  },
  {
   "cell_type": "code",
   "execution_count": 37,
   "metadata": {},
   "outputs": [],
   "source": [
    "# gather images from path created from file names in csv file\n",
    "for i in range (0,len(nameCol)):\n",
    "    base_filename = nameCol[i]\n",
    "    fileName = os.path.join(\"./Cyclops Cave/images/\", base_filename + suffix)\n",
    "    im = cv2.imread(fileName)\n",
    "    im = cv2.resize(im, (28,28))\n",
    "    im = img_to_array(im)\n",
    "    img_list.append(im)"
   ]
  },
  {
   "cell_type": "code",
   "execution_count": 38,
   "metadata": {},
   "outputs": [],
   "source": [
    "Y = []\n",
    "X = []"
   ]
  },
  {
   "cell_type": "code",
   "execution_count": 39,
   "metadata": {},
   "outputs": [],
   "source": [
    "# Shuffle the data\n",
    "p = np.random.permutation(len(yset))"
   ]
  },
  {
   "cell_type": "code",
   "execution_count": 40,
   "metadata": {},
   "outputs": [],
   "source": [
    "for i in range(0,len(yset)):\n",
    "    Y.append(yset[p[i]])\n",
    "    X.append(img_list[p[i]])"
   ]
  },
  {
   "cell_type": "code",
   "execution_count": 41,
   "metadata": {},
   "outputs": [],
   "source": [
    "# split the test and training set 75:25\n",
    "split = int(len(X)*(.75))\n",
    "xtrain = X[:split]\n",
    "xtest = X[split:]\n",
    "ytrain = Y[:split]\n",
    "ytest = Y[split:]"
   ]
  },
  {
   "cell_type": "code",
   "execution_count": 42,
   "metadata": {},
   "outputs": [],
   "source": [
    "# transform to arrays\n",
    "trainX = np.array(xtrain, dtype=\"float\")/225.0\n",
    "testX = np.array(xtest, dtype =\"float\")/225.0\n",
    "\n",
    "ytrain = np.array(ytrain)\n",
    "ytest = np.array(ytest)"
   ]
  },
  {
   "cell_type": "code",
   "execution_count": 43,
   "metadata": {},
   "outputs": [
    {
     "data": {
      "text/plain": [
       "(189, 28, 28, 3)"
      ]
     },
     "execution_count": 43,
     "metadata": {},
     "output_type": "execute_result"
    }
   ],
   "source": [
    "trainX.shape"
   ]
  },
  {
   "cell_type": "code",
   "execution_count": 44,
   "metadata": {},
   "outputs": [],
   "source": [
    "# parsed Y data containers\n",
    "trainY = []\n",
    "testY = []"
   ]
  },
  {
   "cell_type": "code",
   "execution_count": 45,
   "metadata": {},
   "outputs": [],
   "source": [
    "# convert labels from int to vectors\n",
    "trainY = np_utils.to_categorical(ytrain,12)\n",
    "testY = np_utils.to_categorical(ytest,12)"
   ]
  },
  {
   "cell_type": "code",
   "execution_count": 46,
   "metadata": {},
   "outputs": [],
   "source": [
    "# construct the image generator for data augmentation\n",
    "aug = ImageDataGenerator(rotation_range=30, width_shift_range=0.1,\n",
    "                        height_shift_range=0.1, shear_range=0.2, zoom_range=0.2,\n",
    "                        horizontal_flip=True, fill_mode=\"nearest\")"
   ]
  },
  {
   "cell_type": "code",
   "execution_count": 47,
   "metadata": {},
   "outputs": [
    {
     "name": "stdout",
     "output_type": "stream",
     "text": [
      "[INFO] compiling model...\n"
     ]
    }
   ],
   "source": [
    "# initialize the model\n",
    "print(\"[INFO] compiling model...\")\n",
    "model = LeNet.build(width=28, height=28, depth=3, classes=12)\n",
    "opt = Adam(lr=INIT_LR, decay=INIT_LR / EPOCHS)\n",
    "model.compile(loss=\"categorical_crossentropy\", optimizer=opt,\n",
    "                metrics=[\"accuracy\"])"
   ]
  },
  {
   "cell_type": "code",
   "execution_count": 48,
   "metadata": {},
   "outputs": [
    {
     "name": "stdout",
     "output_type": "stream",
     "text": [
      "[INFO] training network...\n",
      "Epoch 1/50\n",
      "6/5 [====================================] - 3s 536ms/step - loss: 2.0116 - acc: 0.4608 - val_loss: 1.6991 - val_acc: 0.6190\n",
      "Epoch 2/50\n",
      "6/5 [====================================] - 2s 402ms/step - loss: 1.8576 - acc: 0.5452 - val_loss: 1.7048 - val_acc: 0.6190\n",
      "Epoch 3/50\n",
      "6/5 [====================================] - 3s 424ms/step - loss: 1.7328 - acc: 0.5600 - val_loss: 1.5852 - val_acc: 0.6190\n",
      "Epoch 4/50\n",
      "6/5 [====================================] - 2s 393ms/step - loss: 1.6819 - acc: 0.5604 - val_loss: 1.4900 - val_acc: 0.6190\n",
      "Epoch 5/50\n",
      "6/5 [====================================] - 2s 344ms/step - loss: 1.5920 - acc: 0.5597 - val_loss: 1.4636 - val_acc: 0.6190\n",
      "Epoch 6/50\n",
      "6/5 [====================================] - 2s 343ms/step - loss: 1.5327 - acc: 0.5597 - val_loss: 1.4289 - val_acc: 0.6190\n",
      "Epoch 7/50\n",
      "6/5 [====================================] - 2s 349ms/step - loss: 1.4881 - acc: 0.5535 - val_loss: 1.4454 - val_acc: 0.6190\n",
      "Epoch 8/50\n",
      "6/5 [====================================] - 2s 355ms/step - loss: 1.4951 - acc: 0.5586 - val_loss: 1.4408 - val_acc: 0.6190\n",
      "Epoch 9/50\n",
      "6/5 [====================================] - 2s 338ms/step - loss: 1.4160 - acc: 0.5697 - val_loss: 1.4640 - val_acc: 0.6349\n",
      "Epoch 10/50\n",
      "6/5 [====================================] - 2s 337ms/step - loss: 1.4148 - acc: 0.5526 - val_loss: 1.5235 - val_acc: 0.5556\n",
      "Epoch 11/50\n",
      "6/5 [====================================] - 2s 344ms/step - loss: 1.3569 - acc: 0.5670 - val_loss: 1.4296 - val_acc: 0.6190\n",
      "Epoch 12/50\n",
      "6/5 [====================================] - 2s 340ms/step - loss: 1.2414 - acc: 0.6300 - val_loss: 1.4881 - val_acc: 0.6508\n",
      "Epoch 13/50\n",
      "6/5 [====================================] - 2s 338ms/step - loss: 1.2927 - acc: 0.6119 - val_loss: 1.4208 - val_acc: 0.6349\n",
      "Epoch 14/50\n",
      "6/5 [====================================] - 2s 339ms/step - loss: 1.2633 - acc: 0.6356 - val_loss: 1.3862 - val_acc: 0.6667\n",
      "Epoch 15/50\n",
      "6/5 [====================================] - 2s 342ms/step - loss: 1.1981 - acc: 0.6359 - val_loss: 1.4073 - val_acc: 0.5873\n",
      "Epoch 16/50\n",
      "6/5 [====================================] - 2s 344ms/step - loss: 1.1720 - acc: 0.6656 - val_loss: 1.3898 - val_acc: 0.6032\n",
      "Epoch 17/50\n",
      "6/5 [====================================] - 2s 351ms/step - loss: 1.1105 - acc: 0.6704 - val_loss: 1.3963 - val_acc: 0.6032\n",
      "Epoch 18/50\n",
      "6/5 [====================================] - 2s 340ms/step - loss: 1.1388 - acc: 0.6644 - val_loss: 1.4151 - val_acc: 0.6508\n",
      "Epoch 19/50\n",
      "6/5 [====================================] - 2s 340ms/step - loss: 1.1282 - acc: 0.6354 - val_loss: 1.5098 - val_acc: 0.5714\n",
      "Epoch 20/50\n",
      "6/5 [====================================] - 2s 342ms/step - loss: 1.0747 - acc: 0.6603 - val_loss: 1.4070 - val_acc: 0.6032\n",
      "Epoch 21/50\n",
      "6/5 [====================================] - 2s 365ms/step - loss: 1.0483 - acc: 0.6876 - val_loss: 1.4807 - val_acc: 0.5397\n",
      "Epoch 22/50\n",
      "6/5 [====================================] - 3s 429ms/step - loss: 1.1018 - acc: 0.6687 - val_loss: 1.4717 - val_acc: 0.6349\n",
      "Epoch 23/50\n",
      "6/5 [====================================] - 2s 372ms/step - loss: 1.0358 - acc: 0.7054 - val_loss: 1.3916 - val_acc: 0.6032\n",
      "Epoch 24/50\n",
      "6/5 [====================================] - 2s 399ms/step - loss: 0.9860 - acc: 0.7048 - val_loss: 1.4328 - val_acc: 0.5714\n",
      "Epoch 25/50\n",
      "6/5 [====================================] - 2s 392ms/step - loss: 0.9030 - acc: 0.7122 - val_loss: 1.3470 - val_acc: 0.6190\n",
      "Epoch 26/50\n",
      "6/5 [====================================] - 2s 342ms/step - loss: 0.9974 - acc: 0.6784 - val_loss: 1.3722 - val_acc: 0.6667\n",
      "Epoch 27/50\n",
      "6/5 [====================================] - 2s 341ms/step - loss: 0.9334 - acc: 0.7424 - val_loss: 1.4457 - val_acc: 0.5714\n",
      "Epoch 28/50\n",
      "6/5 [====================================] - 2s 342ms/step - loss: 0.9895 - acc: 0.6745 - val_loss: 1.3108 - val_acc: 0.6349\n",
      "Epoch 29/50\n",
      "6/5 [====================================] - 2s 343ms/step - loss: 0.8949 - acc: 0.7116 - val_loss: 1.3311 - val_acc: 0.6508\n",
      "Epoch 30/50\n",
      "6/5 [====================================] - 2s 347ms/step - loss: 0.8754 - acc: 0.7288 - val_loss: 1.4386 - val_acc: 0.6190\n",
      "Epoch 31/50\n",
      "6/5 [====================================] - 2s 348ms/step - loss: 0.9602 - acc: 0.7215 - val_loss: 1.4837 - val_acc: 0.6349\n",
      "Epoch 32/50\n",
      "6/5 [====================================] - 2s 367ms/step - loss: 0.8210 - acc: 0.7215 - val_loss: 1.4497 - val_acc: 0.5873\n",
      "Epoch 33/50\n",
      "6/5 [====================================] - 2s 349ms/step - loss: 0.8797 - acc: 0.7443 - val_loss: 1.4486 - val_acc: 0.5873\n",
      "Epoch 34/50\n",
      "6/5 [====================================] - 2s 342ms/step - loss: 0.8295 - acc: 0.7336 - val_loss: 1.4110 - val_acc: 0.6825\n",
      "Epoch 35/50\n",
      "6/5 [====================================] - 2s 349ms/step - loss: 0.8444 - acc: 0.7396 - val_loss: 1.4905 - val_acc: 0.6190\n",
      "Epoch 36/50\n",
      "6/5 [====================================] - 2s 357ms/step - loss: 0.8495 - acc: 0.7182 - val_loss: 1.4781 - val_acc: 0.6032\n",
      "Epoch 37/50\n",
      "6/5 [====================================] - 2s 344ms/step - loss: 0.8229 - acc: 0.7497 - val_loss: 1.4883 - val_acc: 0.6667\n",
      "Epoch 38/50\n",
      "6/5 [====================================] - 2s 341ms/step - loss: 0.8163 - acc: 0.7494 - val_loss: 1.6494 - val_acc: 0.5556\n",
      "Epoch 39/50\n",
      "6/5 [====================================] - 2s 341ms/step - loss: 0.7892 - acc: 0.7281 - val_loss: 1.6514 - val_acc: 0.6508\n",
      "Epoch 40/50\n",
      "6/5 [====================================] - 2s 341ms/step - loss: 0.8518 - acc: 0.7167 - val_loss: 1.5599 - val_acc: 0.6508\n",
      "Epoch 41/50\n",
      "6/5 [====================================] - 2s 343ms/step - loss: 0.8589 - acc: 0.7466 - val_loss: 1.7763 - val_acc: 0.5556\n",
      "Epoch 42/50\n",
      "6/5 [====================================] - 2s 344ms/step - loss: 0.8830 - acc: 0.7262 - val_loss: 1.4930 - val_acc: 0.6349\n",
      "Epoch 43/50\n",
      "6/5 [====================================] - 2s 342ms/step - loss: 0.8098 - acc: 0.7497 - val_loss: 1.5455 - val_acc: 0.6032\n",
      "Epoch 44/50\n",
      "6/5 [====================================] - 2s 344ms/step - loss: 0.7362 - acc: 0.7609 - val_loss: 1.5359 - val_acc: 0.6190\n",
      "Epoch 45/50\n",
      "6/5 [====================================] - 2s 343ms/step - loss: 0.7399 - acc: 0.7789 - val_loss: 1.5831 - val_acc: 0.6032\n",
      "Epoch 46/50\n",
      "6/5 [====================================] - 2s 343ms/step - loss: 0.6277 - acc: 0.7825 - val_loss: 1.5648 - val_acc: 0.6032\n",
      "Epoch 47/50\n",
      "6/5 [====================================] - 2s 343ms/step - loss: 0.6516 - acc: 0.7799 - val_loss: 1.6216 - val_acc: 0.5873\n",
      "Epoch 48/50\n",
      "6/5 [====================================] - 2s 347ms/step - loss: 0.6715 - acc: 0.7629 - val_loss: 1.6291 - val_acc: 0.6032\n",
      "Epoch 49/50\n",
      "6/5 [====================================] - 2s 345ms/step - loss: 0.6300 - acc: 0.8013 - val_loss: 1.6578 - val_acc: 0.6349\n",
      "Epoch 50/50\n",
      "6/5 [====================================] - 2s 348ms/step - loss: 0.7391 - acc: 0.7563 - val_loss: 1.8164 - val_acc: 0.5873\n"
     ]
    }
   ],
   "source": [
    "# train the network\n",
    "print(\"[INFO] training network...\")\n",
    "H = model.fit_generator(aug.flow(trainX, trainY, batch_size=BS),\n",
    "    validation_data=(testX, testY), steps_per_epoch=len(trainX) // BS,\n",
    "    epochs=EPOCHS, verbose=1)"
   ]
  },
  {
   "cell_type": "code",
   "execution_count": 49,
   "metadata": {},
   "outputs": [],
   "source": [
    "# plot the training loss and accuracy \n",
    "plt.style.use(\"ggplot\")\n",
    "plt.figure()\n",
    "N = EPOCHS\n",
    "plt.plot(np.arange(0, N), H.history[\"loss\"], label=\"train_loss\")\n",
    "plt.plot(np.arange(0, N), H.history[\"val_loss\"], label=\"val_loss\")\n",
    "plt.plot(np.arange(0, N), H.history[\"acc\"], label=\"train_acc\")\n",
    "plt.plot(np.arange(0, N), H.history[\"val_acc\"], label=\"val_acc\")\n",
    "plt.title(\"Training Loss and Accuracy on Label Prediction\")\n",
    "plt.xlabel(\"Epoch #\")\n",
    "plt.ylabel(\"Loss/Accuracy\")\n",
    "plt.legend(loc=\"lower left\")\n",
    "plt.savefig('figure.png')"
   ]
  },
  {
   "cell_type": "code",
   "execution_count": 50,
   "metadata": {},
   "outputs": [],
   "source": [
    "# Shows chart in a popup. Close to keep going\n",
    "chart = cv2.imread('figure.png',1)\n",
    "cv2.imshow('Results',chart)\n",
    "cv2.waitKey(0)\n",
    "cv2.destroyAllWindows()"
   ]
  },
  {
   "cell_type": "code",
   "execution_count": 51,
   "metadata": {},
   "outputs": [],
   "source": [
    "# Reshape original input data images for predicting\n",
    "img_check = np.array(img_list, dtype =\"float\")/225.0"
   ]
  },
  {
   "cell_type": "code",
   "execution_count": 52,
   "metadata": {},
   "outputs": [],
   "source": [
    "predictionsMade = []"
   ]
  },
  {
   "cell_type": "code",
   "execution_count": 53,
   "metadata": {},
   "outputs": [],
   "source": [
    "preds = model.predict(img_check)"
   ]
  },
  {
   "cell_type": "code",
   "execution_count": 54,
   "metadata": {},
   "outputs": [],
   "source": [
    "# Run all data through the prediction model that was created\n",
    "for i in range (0,len(img_check)):\n",
    "    predIndex = np.where(preds[i] == np.amax(preds[i]))\n",
    "    prediction = int(predIndex[0][0])\n",
    "    predictionsMade.append(prediction)"
   ]
  },
  {
   "cell_type": "code",
   "execution_count": 55,
   "metadata": {},
   "outputs": [],
   "source": [
    "# Count how many correct predictions were made\n",
    "correct = 0\n",
    "for i in range (0,len(predictionsMade)):\n",
    "    if(predictionsMade[i] == yset[i]):\n",
    "        correct += 1 "
   ]
  },
  {
   "cell_type": "code",
   "execution_count": 56,
   "metadata": {},
   "outputs": [
    {
     "name": "stdout",
     "output_type": "stream",
     "text": [
      "Accuracy: 0.7619047619047619\n"
     ]
    }
   ],
   "source": [
    "print(\"Accuracy: \" + str(correct/len(yset)))"
   ]
  },
  {
   "cell_type": "code",
   "execution_count": 57,
   "metadata": {},
   "outputs": [],
   "source": [
    "# Translate back to original csv label names\n",
    "finalPred = []\n",
    "for i in range (0,len(predictionsMade)):\n",
    "    finalPred.append(yval_label[predictionsMade[i]])"
   ]
  },
  {
   "cell_type": "code",
   "execution_count": 58,
   "metadata": {},
   "outputs": [],
   "source": [
    "# Append the new column\n",
    "df['#predictions'] = finalPred"
   ]
  },
  {
   "cell_type": "code",
   "execution_count": 61,
   "metadata": {},
   "outputs": [],
   "source": [
    "# new file name\n",
    "new_file =  csv_file[:-4]+'_v1.csv'\n",
    "df.to_csv(new_file, index=None)"
   ]
  },
  {
   "cell_type": "code",
   "execution_count": null,
   "metadata": {},
   "outputs": [],
   "source": []
  }
 ],
 "metadata": {
  "kernelspec": {
   "display_name": "Python 3",
   "language": "python",
   "name": "python3"
  },
  "language_info": {
   "codemirror_mode": {
    "name": "ipython",
    "version": 3
   },
   "file_extension": ".py",
   "mimetype": "text/x-python",
   "name": "python",
   "nbconvert_exporter": "python",
   "pygments_lexer": "ipython3",
   "version": "3.6.3"
  }
 },
 "nbformat": 4,
 "nbformat_minor": 2
}
