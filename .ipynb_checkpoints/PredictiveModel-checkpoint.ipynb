{
 "cells": [
  {
   "cell_type": "code",
   "execution_count": 1,
   "metadata": {},
   "outputs": [],
   "source": [
    "# set the matplotlib backend so figures can be saved in the background\n",
    "import matplotlib\n",
    "matplotlib.use(\"Agg\")"
   ]
  },
  {
   "cell_type": "code",
   "execution_count": 2,
   "metadata": {},
   "outputs": [
    {
     "name": "stderr",
     "output_type": "stream",
     "text": [
      "Using TensorFlow backend.\n"
     ]
    }
   ],
   "source": [
    "# import the necessary packages\n",
    "from keras.preprocessing.image import ImageDataGenerator\n",
    "from keras.optimizers import Adam\n",
    "from sklearn.model_selection import train_test_split\n",
    "from keras.preprocessing.image import img_to_array\n",
    "from keras.utils import to_categorical\n",
    "#from pyimagesearch.lenet import LeNet\n",
    "from imutils import paths"
   ]
  },
  {
   "cell_type": "code",
   "execution_count": 3,
   "metadata": {},
   "outputs": [],
   "source": [
    "# import the necessary packages\n",
    "from keras.utils import np_utils\n",
    "from keras.models import Sequential\n",
    "from keras.layers.convolutional import Conv2D\n",
    "from keras.layers.convolutional import MaxPooling2D\n",
    "from keras.layers.core import Activation\n",
    "from keras.layers.core import Flatten\n",
    "from keras.layers.core import Dense\n",
    "from keras.layers.core import Dropout\n",
    "from keras import backend as K"
   ]
  },
  {
   "cell_type": "code",
   "execution_count": 4,
   "metadata": {},
   "outputs": [],
   "source": [
    "class LeNet:\n",
    "\t@staticmethod\n",
    "\tdef build(width, height, depth, classes):\n",
    "\t\t# initialize the model\n",
    "\t\tmodel = Sequential()\n",
    "\t\tinputShape = (height, width, depth)\n",
    "\n",
    "\t\t# if we are using \"channels first\", update the input shape\n",
    "\t\tif K.image_data_format() == \"channels_first\":\n",
    "\t\t\tinputShape = (depth, height, width)\n",
    "\n",
    "\t\t# first set of CONV => RELU => POOL layers\n",
    "\t\tmodel.add(Conv2D(64, (3, 3), padding=\"same\",\n",
    "\t\t\tinput_shape=inputShape))\n",
    "\t\tmodel.add(Activation(\"relu\"))\n",
    "\t\tmodel.add(MaxPooling2D(pool_size=(2, 2), strides=(2, 2)))\n",
    "\n",
    "\t\t# second set of CONV => RELU => POOL layers\n",
    "\t\tmodel.add(Conv2D(128, (3, 3), padding=\"same\"))\n",
    "\t\tmodel.add(Activation(\"relu\"))\n",
    "\t\tmodel.add(MaxPooling2D(pool_size=(2, 2), strides=(2, 2)))\n",
    "        \n",
    "\t\t# third set of CONV => RELU => POOL layers\n",
    "\t\tmodel.add(Conv2D(256, (3, 3), padding=\"same\"))\n",
    "\t\tmodel.add(Activation(\"relu\"))\n",
    "\t\tmodel.add(MaxPooling2D(pool_size=(2, 2), strides=(2, 2)))\n",
    "        \n",
    "\t\t# third set of CONV => RELU => POOL layers\n",
    "\t\tmodel.add(Conv2D(512, (3, 3), padding=\"same\"))\n",
    "\t\tmodel.add(Activation(\"relu\"))\n",
    "\t\tmodel.add(MaxPooling2D(pool_size=(2, 2), strides=(2, 2)))\n",
    "              \n",
    "\n",
    "\t\t# first (and only) set of FC => RELU layers\n",
    "\t\tmodel.add(Flatten())\n",
    "\t\tmodel.add(Dense(1000))\n",
    "\t\tmodel.add(Activation(\"relu\"))\n",
    "\t\tmodel.add(Dropout(0.5))\n",
    "\n",
    "\t\t# softmax classifier\n",
    "\t\tmodel.add(Dense(classes))\n",
    "\t\tmodel.add(Activation(\"softmax\"))\n",
    "\n",
    "\t\t# return the constructed network architecture\n",
    "\t\treturn model"
   ]
  },
  {
   "cell_type": "code",
   "execution_count": 5,
   "metadata": {},
   "outputs": [],
   "source": [
    "import matplotlib.pyplot as plt\n",
    "import numpy as np\n",
    "import argparse\n",
    "import random\n",
    "import csv\n",
    "import pandas as pd\n",
    "import re\n",
    "import cv2\n",
    "import os"
   ]
  },
  {
   "cell_type": "code",
   "execution_count": 6,
   "metadata": {},
   "outputs": [],
   "source": [
    "# This is code from the original tutorial for parsing the images\n",
    "# construct the argument parse and parse the args\n",
    "#ap = argparse.ArgumentParser()\n",
    "#ap.add_argument(\"-d\", \"--dataset\", required =True,\n",
    "#               help=\"path to input dataset\")\n",
    "#ap.add_argument(\"-m\", \"--model\", required=True,\n",
    "#               help=\"path to output model\")\n",
    "#ap.add_argument(\"-p\", \"--plot\", type=str, default=\"plot.png\",\n",
    "#               help=\"path to output accuracy/loss plot\")\n",
    "#args = vars(ap.parse_args())"
   ]
  },
  {
   "cell_type": "code",
   "execution_count": 31,
   "metadata": {},
   "outputs": [],
   "source": [
    "# init the number of epochs to train for, init learning rate and batch size\n",
    "EPOCHS = 50\n",
    "INIT_LR = 1e-3\n",
    "BS = 32"
   ]
  },
  {
   "cell_type": "code",
   "execution_count": 32,
   "metadata": {},
   "outputs": [
    {
     "name": "stdout",
     "output_type": "stream",
     "text": [
      "[INFO] loading images...\n"
     ]
    }
   ],
   "source": [
    "# init the image suffix, yset, and image list\n",
    "print(\"[INFO] loading images...\")\n",
    "suffix = '.jpg'\n",
    "img_list = []\n",
    "yset = []"
   ]
  },
  {
   "cell_type": "code",
   "execution_count": 33,
   "metadata": {},
   "outputs": [],
   "source": [
    "# create labels list and 2 dicts for 2 way mapping\n",
    "labels = []\n",
    "# key = label value = number\n",
    "label_yval = dict()\n",
    "# key = number value = label\n",
    "yval_label = dict()"
   ]
  },
  {
   "cell_type": "code",
   "execution_count": 34,
   "metadata": {},
   "outputs": [],
   "source": [
    "# use csv file to grab images/labels\n",
    "df = pd.read_csv('zaslavsk_Cyclops_Cave_Ceramic_Petrography.csv')\n",
    "nameCol = df['#img']\n",
    "fabricCol = df['Fabric Code']"
   ]
  },
  {
   "cell_type": "code",
   "execution_count": 35,
   "metadata": {},
   "outputs": [],
   "source": [
    "# add all fabric columns to the y set\n",
    "for i in range (0,len(fabricCol)):\n",
    "    labels.append(fabricCol[i])"
   ]
  },
  {
   "cell_type": "code",
   "execution_count": 36,
   "metadata": {},
   "outputs": [],
   "source": [
    "# grab all unique labels\n",
    "uni_labels = set(labels)\n",
    "uni_labels = list(uni_labels)"
   ]
  },
  {
   "cell_type": "code",
   "execution_count": 37,
   "metadata": {},
   "outputs": [],
   "source": [
    "# assign each label a dict key number\n",
    "for i in range(0,len(uni_labels)):\n",
    "    yval_label[i] = uni_labels[i]\n",
    "    label_yval[uni_labels[i]] = i"
   ]
  },
  {
   "cell_type": "code",
   "execution_count": 38,
   "metadata": {},
   "outputs": [
    {
     "data": {
      "text/plain": [
       "{'Cyclops Cave 1': 9,\n",
       " 'Cyclops Cave 10': 11,\n",
       " 'Cyclops Cave 11': 10,\n",
       " 'Cyclops Cave 12': 8,\n",
       " 'Cyclops Cave 2': 1,\n",
       " 'Cyclops Cave 3': 0,\n",
       " 'Cyclops Cave 4': 2,\n",
       " 'Cyclops Cave 5': 7,\n",
       " 'Cyclops Cave 6': 6,\n",
       " 'Cyclops Cave 7': 3,\n",
       " 'Cyclops Cave 8': 4,\n",
       " 'Cyclops Cave 9': 5}"
      ]
     },
     "execution_count": 38,
     "metadata": {},
     "output_type": "execute_result"
    }
   ],
   "source": [
    "label_yval"
   ]
  },
  {
   "cell_type": "code",
   "execution_count": 39,
   "metadata": {},
   "outputs": [
    {
     "data": {
      "text/plain": [
       "252"
      ]
     },
     "execution_count": 39,
     "metadata": {},
     "output_type": "execute_result"
    }
   ],
   "source": [
    "len(labels)"
   ]
  },
  {
   "cell_type": "code",
   "execution_count": 40,
   "metadata": {},
   "outputs": [
    {
     "data": {
      "text/plain": [
       "9"
      ]
     },
     "execution_count": 40,
     "metadata": {},
     "output_type": "execute_result"
    }
   ],
   "source": [
    "label_yval[labels[0]]"
   ]
  },
  {
   "cell_type": "code",
   "execution_count": 41,
   "metadata": {},
   "outputs": [],
   "source": [
    "# create list of keys associated with their labels\n",
    "for i in range (0, len(labels)):\n",
    "    yset.append(label_yval[labels[i]])"
   ]
  },
  {
   "cell_type": "code",
   "execution_count": 42,
   "metadata": {},
   "outputs": [
    {
     "data": {
      "text/plain": [
       "252"
      ]
     },
     "execution_count": 42,
     "metadata": {},
     "output_type": "execute_result"
    }
   ],
   "source": [
    "len(yset)"
   ]
  },
  {
   "cell_type": "code",
   "execution_count": 43,
   "metadata": {},
   "outputs": [],
   "source": [
    "# remove text and leave fabric cave number for labels and zero index\n",
    "#for i in range (0,len(yset)):\n",
    "#    yset[i] = int(re.sub(\"\\D\", \"\", yset[i]))\n",
    "#    yset[i] = yset[i]-1"
   ]
  },
  {
   "cell_type": "code",
   "execution_count": 44,
   "metadata": {},
   "outputs": [],
   "source": [
    "# gather images from path created from file names in csv file\n",
    "for i in range (0,len(nameCol)):\n",
    "    base_filename = nameCol[i]\n",
    "    fileName = os.path.join(\"./Cyclops Cave/images/\", base_filename + suffix)\n",
    "    im = cv2.imread(fileName)\n",
    "    im = cv2.resize(im, (28,28))\n",
    "    im = img_to_array(im)\n",
    "    img_list.append(im)"
   ]
  },
  {
   "cell_type": "code",
   "execution_count": 45,
   "metadata": {},
   "outputs": [],
   "source": [
    "# split the test and training set 75:25\n",
    "split = int(len(img_list)*(.75))\n",
    "xtrain = img_list[:split]\n",
    "xtest = img_list[split:]\n",
    "ytrain = yset[:split]\n",
    "ytest = yset[split:]"
   ]
  },
  {
   "cell_type": "code",
   "execution_count": 46,
   "metadata": {},
   "outputs": [],
   "source": [
    "# transform to arrays\n",
    "trainX = np.array(xtrain, dtype=\"float\")/225.0\n",
    "testX = np.array(xtest, dtype =\"float\")/225.0\n",
    "\n",
    "ytrain = np.array(ytrain)\n",
    "ytest = np.array(ytest)"
   ]
  },
  {
   "cell_type": "code",
   "execution_count": 47,
   "metadata": {},
   "outputs": [
    {
     "data": {
      "text/plain": [
       "(189, 28, 28, 3)"
      ]
     },
     "execution_count": 47,
     "metadata": {},
     "output_type": "execute_result"
    }
   ],
   "source": [
    "trainX.shape"
   ]
  },
  {
   "cell_type": "code",
   "execution_count": 48,
   "metadata": {},
   "outputs": [],
   "source": [
    "# parsed Y data containers\n",
    "trainY = []\n",
    "testY = []"
   ]
  },
  {
   "cell_type": "code",
   "execution_count": 49,
   "metadata": {},
   "outputs": [],
   "source": [
    "# convert labels from int to vectors\n",
    "trainY = np_utils.to_categorical(ytrain,12)\n",
    "testY = np_utils.to_categorical(ytest,12)"
   ]
  },
  {
   "cell_type": "code",
   "execution_count": 50,
   "metadata": {},
   "outputs": [],
   "source": [
    "# construct the image generator for data augmentation\n",
    "aug = ImageDataGenerator(rotation_range=30, width_shift_range=0.1,\n",
    "                        height_shift_range=0.1, shear_range=0.2, zoom_range=0.2,\n",
    "                        horizontal_flip=True, fill_mode=\"nearest\")"
   ]
  },
  {
   "cell_type": "code",
   "execution_count": 51,
   "metadata": {},
   "outputs": [
    {
     "name": "stdout",
     "output_type": "stream",
     "text": [
      "[INFO] compiling model...\n"
     ]
    }
   ],
   "source": [
    "# initialize the model\n",
    "print(\"[INFO] compiling model...\")\n",
    "model = LeNet.build(width=28, height=28, depth=3, classes=12)\n",
    "opt = Adam(lr=INIT_LR, decay=INIT_LR / EPOCHS)\n",
    "model.compile(loss=\"categorical_crossentropy\", optimizer=opt,\n",
    "                metrics=[\"accuracy\"])"
   ]
  },
  {
   "cell_type": "code",
   "execution_count": 52,
   "metadata": {},
   "outputs": [
    {
     "name": "stdout",
     "output_type": "stream",
     "text": [
      "[INFO] training network...\n",
      "Epoch 1/50\n",
      "6/5 [====================================] - 6s 980ms/step - loss: 2.1556 - acc: 0.3465 - val_loss: 2.7550 - val_acc: 0.3016\n",
      "Epoch 2/50\n",
      "6/5 [====================================] - 4s 694ms/step - loss: 1.6160 - acc: 0.6491 - val_loss: 3.1161 - val_acc: 0.3016\n",
      "Epoch 3/50\n",
      "6/5 [====================================] - 4s 680ms/step - loss: 1.3898 - acc: 0.6544 - val_loss: 4.5937 - val_acc: 0.3016\n",
      "Epoch 4/50\n",
      "6/5 [====================================] - 4s 695ms/step - loss: 1.2848 - acc: 0.6714 - val_loss: 3.9007 - val_acc: 0.3016\n",
      "Epoch 5/50\n",
      "6/5 [====================================] - 4s 698ms/step - loss: 1.2720 - acc: 0.6644 - val_loss: 4.5529 - val_acc: 0.3016\n",
      "Epoch 6/50\n",
      "6/5 [====================================] - 4s 700ms/step - loss: 1.2322 - acc: 0.6478 - val_loss: 4.2567 - val_acc: 0.3016\n",
      "Epoch 7/50\n",
      "6/5 [====================================] - 4s 699ms/step - loss: 1.1873 - acc: 0.6544 - val_loss: 3.8702 - val_acc: 0.3016\n",
      "Epoch 8/50\n",
      "6/5 [====================================] - 4s 696ms/step - loss: 1.1795 - acc: 0.6577 - val_loss: 4.9865 - val_acc: 0.3016\n",
      "Epoch 9/50\n",
      "6/5 [====================================] - 4s 716ms/step - loss: 1.0976 - acc: 0.6840 - val_loss: 4.7591 - val_acc: 0.3016\n",
      "Epoch 10/50\n",
      "6/5 [====================================] - 4s 699ms/step - loss: 1.1301 - acc: 0.6700 - val_loss: 3.6047 - val_acc: 0.3016\n",
      "Epoch 11/50\n",
      "6/5 [====================================] - 4s 697ms/step - loss: 1.2095 - acc: 0.6425 - val_loss: 5.3116 - val_acc: 0.3016\n",
      "Epoch 12/50\n",
      "6/5 [====================================] - 4s 697ms/step - loss: 1.0984 - acc: 0.6700 - val_loss: 4.4610 - val_acc: 0.3016\n",
      "Epoch 13/50\n",
      "6/5 [====================================] - 4s 699ms/step - loss: 0.9957 - acc: 0.7066 - val_loss: 5.4115 - val_acc: 0.3016\n",
      "Epoch 14/50\n",
      "6/5 [====================================] - 4s 700ms/step - loss: 1.0412 - acc: 0.7041 - val_loss: 5.3300 - val_acc: 0.3016\n",
      "Epoch 15/50\n",
      "6/5 [====================================] - 4s 707ms/step - loss: 1.0513 - acc: 0.6915 - val_loss: 4.0923 - val_acc: 0.3016\n",
      "Epoch 16/50\n",
      "6/5 [====================================] - 4s 702ms/step - loss: 1.0706 - acc: 0.6840 - val_loss: 6.1094 - val_acc: 0.3016\n",
      "Epoch 17/50\n",
      "6/5 [====================================] - 4s 697ms/step - loss: 1.0229 - acc: 0.6914 - val_loss: 5.5129 - val_acc: 0.3016\n",
      "Epoch 18/50\n",
      "6/5 [====================================] - 4s 699ms/step - loss: 1.0061 - acc: 0.7014 - val_loss: 5.4745 - val_acc: 0.3016\n",
      "Epoch 19/50\n",
      "6/5 [====================================] - 4s 698ms/step - loss: 1.0350 - acc: 0.6802 - val_loss: 5.4705 - val_acc: 0.3016\n",
      "Epoch 20/50\n",
      "6/5 [====================================] - 4s 700ms/step - loss: 1.0185 - acc: 0.7154 - val_loss: 5.3404 - val_acc: 0.3016\n",
      "Epoch 21/50\n",
      "6/5 [====================================] - 4s 695ms/step - loss: 1.0363 - acc: 0.7039 - val_loss: 5.5118 - val_acc: 0.3016\n",
      "Epoch 22/50\n",
      "6/5 [====================================] - 4s 699ms/step - loss: 0.9364 - acc: 0.7177 - val_loss: 5.1514 - val_acc: 0.3016\n",
      "Epoch 23/50\n",
      "6/5 [====================================] - 4s 727ms/step - loss: 0.9111 - acc: 0.7334 - val_loss: 6.0637 - val_acc: 0.3016\n",
      "Epoch 24/50\n",
      "6/5 [====================================] - 4s 699ms/step - loss: 0.9303 - acc: 0.7254 - val_loss: 5.7195 - val_acc: 0.3016\n",
      "Epoch 25/50\n",
      "6/5 [====================================] - 4s 698ms/step - loss: 0.8849 - acc: 0.7434 - val_loss: 5.5234 - val_acc: 0.3016\n",
      "Epoch 26/50\n",
      "6/5 [====================================] - 4s 695ms/step - loss: 0.9070 - acc: 0.7216 - val_loss: 6.2878 - val_acc: 0.3016\n",
      "Epoch 27/50\n",
      "6/5 [====================================] - 4s 701ms/step - loss: 0.9038 - acc: 0.7000 - val_loss: 5.4709 - val_acc: 0.3016\n",
      "Epoch 28/50\n",
      "6/5 [====================================] - 4s 699ms/step - loss: 0.9113 - acc: 0.7148 - val_loss: 6.0039 - val_acc: 0.3016\n",
      "Epoch 29/50\n",
      "6/5 [====================================] - 4s 703ms/step - loss: 0.8414 - acc: 0.7201 - val_loss: 6.3466 - val_acc: 0.3016\n",
      "Epoch 30/50\n",
      "6/5 [====================================] - 4s 704ms/step - loss: 0.8855 - acc: 0.7218 - val_loss: 6.0361 - val_acc: 0.3016\n",
      "Epoch 31/50\n",
      "6/5 [====================================] - 4s 701ms/step - loss: 0.8520 - acc: 0.7334 - val_loss: 6.1267 - val_acc: 0.3016\n",
      "Epoch 32/50\n",
      "6/5 [====================================] - 4s 693ms/step - loss: 0.8891 - acc: 0.7222 - val_loss: 5.7465 - val_acc: 0.3016\n",
      "Epoch 33/50\n",
      "6/5 [====================================] - 4s 693ms/step - loss: 0.8630 - acc: 0.7407 - val_loss: 6.7730 - val_acc: 0.3016\n",
      "Epoch 34/50\n",
      "6/5 [====================================] - 4s 695ms/step - loss: 0.8674 - acc: 0.7079 - val_loss: 6.2570 - val_acc: 0.3016\n",
      "Epoch 35/50\n",
      "6/5 [====================================] - 4s 695ms/step - loss: 0.8499 - acc: 0.7508 - val_loss: 5.2858 - val_acc: 0.3016\n",
      "Epoch 36/50\n",
      "6/5 [====================================] - 4s 699ms/step - loss: 0.9460 - acc: 0.7333 - val_loss: 6.3356 - val_acc: 0.3016\n",
      "Epoch 37/50\n",
      "6/5 [====================================] - 4s 699ms/step - loss: 0.8804 - acc: 0.7093 - val_loss: 6.7131 - val_acc: 0.3016\n",
      "Epoch 38/50\n",
      "6/5 [====================================] - 4s 702ms/step - loss: 0.9189 - acc: 0.7152 - val_loss: 5.5645 - val_acc: 0.3016\n",
      "Epoch 39/50\n",
      "6/5 [====================================] - 4s 701ms/step - loss: 0.8410 - acc: 0.7298 - val_loss: 6.6518 - val_acc: 0.3016\n",
      "Epoch 40/50\n",
      "6/5 [====================================] - 4s 694ms/step - loss: 0.8888 - acc: 0.7110 - val_loss: 5.8300 - val_acc: 0.3016\n",
      "Epoch 41/50\n",
      "6/5 [====================================] - 4s 701ms/step - loss: 0.8385 - acc: 0.7474 - val_loss: 6.4615 - val_acc: 0.3016\n",
      "Epoch 42/50\n",
      "6/5 [====================================] - 4s 686ms/step - loss: 0.7516 - acc: 0.7731 - val_loss: 7.4497 - val_acc: 0.3016\n",
      "Epoch 43/50\n",
      "6/5 [====================================] - 4s 612ms/step - loss: 0.8004 - acc: 0.7515 - val_loss: 6.2189 - val_acc: 0.3016\n",
      "Epoch 44/50\n",
      "6/5 [====================================] - 3s 482ms/step - loss: 0.8032 - acc: 0.7781 - val_loss: 7.5258 - val_acc: 0.3016\n",
      "Epoch 45/50\n",
      "6/5 [====================================] - 3s 475ms/step - loss: 0.8047 - acc: 0.7345 - val_loss: 6.0846 - val_acc: 0.3016\n",
      "Epoch 46/50\n",
      "6/5 [====================================] - 3s 473ms/step - loss: 0.8584 - acc: 0.7271 - val_loss: 7.1688 - val_acc: 0.3016\n",
      "Epoch 47/50\n",
      "6/5 [====================================] - 3s 468ms/step - loss: 0.8235 - acc: 0.7264 - val_loss: 6.6185 - val_acc: 0.3016\n",
      "Epoch 48/50\n",
      "6/5 [====================================] - 3s 470ms/step - loss: 0.7934 - acc: 0.7526 - val_loss: 6.7631 - val_acc: 0.3016\n",
      "Epoch 49/50\n",
      "6/5 [====================================] - 4s 649ms/step - loss: 0.7347 - acc: 0.7702 - val_loss: 7.8050 - val_acc: 0.3016\n",
      "Epoch 50/50\n",
      "6/5 [====================================] - 4s 696ms/step - loss: 0.8009 - acc: 0.7415 - val_loss: 6.4373 - val_acc: 0.3016\n"
     ]
    }
   ],
   "source": [
    "# train the network\n",
    "print(\"[INFO] training network...\")\n",
    "H = model.fit_generator(aug.flow(trainX, trainY, batch_size=BS),\n",
    "    validation_data=(testX, testY), steps_per_epoch=len(trainX) // BS,\n",
    "    epochs=EPOCHS, verbose=1)"
   ]
  },
  {
   "cell_type": "code",
   "execution_count": 53,
   "metadata": {},
   "outputs": [],
   "source": [
    "# plot the training loss and accuracy \n",
    "plt.style.use(\"ggplot\")\n",
    "plt.figure()\n",
    "N = EPOCHS\n",
    "plt.plot(np.arange(0, N), H.history[\"loss\"], label=\"train_loss\")\n",
    "plt.plot(np.arange(0, N), H.history[\"val_loss\"], label=\"val_loss\")\n",
    "plt.plot(np.arange(0, N), H.history[\"acc\"], label=\"train_acc\")\n",
    "plt.plot(np.arange(0, N), H.history[\"val_acc\"], label=\"val_acc\")\n",
    "plt.title(\"Training Loss and Accuracy on Label Prediction\")\n",
    "plt.xlabel(\"Epoch #\")\n",
    "plt.ylabel(\"Loss/Accuracy\")\n",
    "plt.legend(loc=\"lower left\")\n",
    "plt.savefig('figure.png')"
   ]
  },
  {
   "cell_type": "code",
   "execution_count": 54,
   "metadata": {},
   "outputs": [],
   "source": [
    "chart = cv2.imread('figure.png',1)\n",
    "cv2.imshow('Results',chart)\n",
    "cv2.waitKey(0)\n",
    "cv2.destroyAllWindows()"
   ]
  },
  {
   "cell_type": "code",
   "execution_count": 73,
   "metadata": {},
   "outputs": [],
   "source": [
    "img_check = np.array(img_list, dtype =\"float\")/225.0"
   ]
  },
  {
   "cell_type": "code",
   "execution_count": 58,
   "metadata": {},
   "outputs": [
    {
     "data": {
      "text/plain": [
       "(189, 28, 28, 3)"
      ]
     },
     "execution_count": 58,
     "metadata": {},
     "output_type": "execute_result"
    }
   ],
   "source": [
    "trainX.shape"
   ]
  },
  {
   "cell_type": "code",
   "execution_count": 149,
   "metadata": {},
   "outputs": [],
   "source": [
    "preds = model.predict(img_check)[100]"
   ]
  },
  {
   "cell_type": "code",
   "execution_count": 150,
   "metadata": {},
   "outputs": [
    {
     "data": {
      "text/plain": [
       "array([  5.36204534e-05,   9.40667242e-02,   9.24172066e-03,\n",
       "         4.77579197e-05,   2.65737344e-03,   4.70681377e-02,\n",
       "         6.55007809e-02,   2.08184216e-02,   6.87556021e-05,\n",
       "         7.58650839e-01,   1.75984204e-03,   6.60259611e-05], dtype=float32)"
      ]
     },
     "execution_count": 150,
     "metadata": {},
     "output_type": "execute_result"
    }
   ],
   "source": [
    "preds"
   ]
  },
  {
   "cell_type": "code",
   "execution_count": 151,
   "metadata": {},
   "outputs": [],
   "source": [
    "predIndex = np.where(preds == np.amax(preds))"
   ]
  },
  {
   "cell_type": "code",
   "execution_count": 152,
   "metadata": {},
   "outputs": [
    {
     "data": {
      "text/plain": [
       "(array([9], dtype=int64),)"
      ]
     },
     "execution_count": 152,
     "metadata": {},
     "output_type": "execute_result"
    }
   ],
   "source": [
    "predIndex"
   ]
  },
  {
   "cell_type": "code",
   "execution_count": 153,
   "metadata": {},
   "outputs": [],
   "source": [
    "prediction = int(predIndex[0][0])"
   ]
  },
  {
   "cell_type": "code",
   "execution_count": null,
   "metadata": {},
   "outputs": [],
   "source": []
  },
  {
   "cell_type": "code",
   "execution_count": 155,
   "metadata": {},
   "outputs": [
    {
     "data": {
      "text/plain": [
       "int"
      ]
     },
     "execution_count": 155,
     "metadata": {},
     "output_type": "execute_result"
    }
   ],
   "source": [
    "type(prediction)"
   ]
  },
  {
   "cell_type": "code",
   "execution_count": 156,
   "metadata": {},
   "outputs": [
    {
     "data": {
      "text/plain": [
       "9"
      ]
     },
     "execution_count": 156,
     "metadata": {},
     "output_type": "execute_result"
    }
   ],
   "source": [
    "prediction"
   ]
  },
  {
   "cell_type": "code",
   "execution_count": 158,
   "metadata": {},
   "outputs": [],
   "source": [
    "if(prediction == yset[100]):\n",
    "    print(\"yes\")"
   ]
  },
  {
   "cell_type": "code",
   "execution_count": 70,
   "metadata": {},
   "outputs": [
    {
     "data": {
      "text/plain": [
       "array([ 0.,  0.,  0.,  0.,  0.,  0.,  1.,  0.,  0.,  0.,  0.,  0.])"
      ]
     },
     "execution_count": 70,
     "metadata": {},
     "output_type": "execute_result"
    }
   ],
   "source": [
    "trainY[12]"
   ]
  },
  {
   "cell_type": "code",
   "execution_count": 81,
   "metadata": {},
   "outputs": [
    {
     "data": {
      "text/plain": [
       "9"
      ]
     },
     "execution_count": 81,
     "metadata": {},
     "output_type": "execute_result"
    }
   ],
   "source": [
    "yset[2]"
   ]
  },
  {
   "cell_type": "code",
   "execution_count": null,
   "metadata": {},
   "outputs": [],
   "source": []
  },
  {
   "cell_type": "code",
   "execution_count": null,
   "metadata": {},
   "outputs": [],
   "source": []
  }
 ],
 "metadata": {
  "kernelspec": {
   "display_name": "Python 3",
   "language": "python",
   "name": "python3"
  },
  "language_info": {
   "codemirror_mode": {
    "name": "ipython",
    "version": 3
   },
   "file_extension": ".py",
   "mimetype": "text/x-python",
   "name": "python",
   "nbconvert_exporter": "python",
   "pygments_lexer": "ipython3",
   "version": "3.6.3"
  }
 },
 "nbformat": 4,
 "nbformat_minor": 2
}
