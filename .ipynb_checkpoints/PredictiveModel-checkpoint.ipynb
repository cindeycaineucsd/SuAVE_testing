{
 "cells": [
  {
   "cell_type": "markdown",
   "metadata": {},
   "source": [
    "# SuAVE Image to Label Prediction Model"
   ]
  },
  {
   "cell_type": "code",
   "execution_count": 1,
   "metadata": {},
   "outputs": [
    {
     "data": {
      "application/javascript": [
       "function getQueryStringValue (key)\n",
       "{  \n",
       "    return unescape(window.location.search.replace(new RegExp(\"^(?:.*[&\\\\?]\" + escape(key).replace(/[\\.\\+\\*]/g, \"\\\\$&\") + \"(?:\\\\=([^&]*))?)?.*$\", \"i\"), \"$1\"));\n",
       "}\n",
       "IPython.notebook.kernel.execute(\"survey_url='\".concat(getQueryStringValue(\"surveyurl\")).concat(\"'\"));\n",
       "IPython.notebook.kernel.execute(\"user='\".concat(getQueryStringValue(\"user\")).concat(\"'\"));\n",
       "IPython.notebook.kernel.execute(\"csv_file='\".concat(getQueryStringValue(\"csv\")).concat(\"'\")); \n",
       "IPython.notebook.kernel.execute(\"dzc_file='\".concat(getQueryStringValue(\"dzc\")).concat(\"'\")); \n",
       "IPython.notebook.kernel.execute(\"params='\".concat(getQueryStringValue(\"params\")).concat(\"'\")); \n",
       "IPython.notebook.kernel.execute(\"active_object='\".concat(getQueryStringValue(\"activeobject\")).concat(\"'\")); "
      ],
      "text/plain": [
       "<IPython.core.display.Javascript object>"
      ]
     },
     "metadata": {},
     "output_type": "display_data"
    }
   ],
   "source": [
    "%%javascript\n",
    "function getQueryStringValue (key)\n",
    "{  \n",
    "    return unescape(window.location.search.replace(new RegExp(\"^(?:.*[&\\\\?]\" + escape(key).replace(/[\\.\\+\\*]/g, \"\\\\$&\") + \"(?:\\\\=([^&]*))?)?.*$\", \"i\"), \"$1\"));\n",
    "}\n",
    "IPython.notebook.kernel.execute(\"survey_url='\".concat(getQueryStringValue(\"surveyurl\")).concat(\"'\"));\n",
    "IPython.notebook.kernel.execute(\"user='\".concat(getQueryStringValue(\"user\")).concat(\"'\"));\n",
    "IPython.notebook.kernel.execute(\"csv_file='\".concat(getQueryStringValue(\"csv\")).concat(\"'\")); \n",
    "IPython.notebook.kernel.execute(\"dzc_file='\".concat(getQueryStringValue(\"dzc\")).concat(\"'\")); \n",
    "IPython.notebook.kernel.execute(\"params='\".concat(getQueryStringValue(\"params\")).concat(\"'\")); \n",
    "IPython.notebook.kernel.execute(\"active_object='\".concat(getQueryStringValue(\"activeobject\")).concat(\"'\")); "
   ]
  },
  {
   "cell_type": "code",
   "execution_count": 2,
   "metadata": {},
   "outputs": [
    {
     "name": "stderr",
     "output_type": "stream",
     "text": [
      "Using TensorFlow backend.\n"
     ]
    }
   ],
   "source": [
    "# import the necessary packages\n",
    "from keras.preprocessing.image import ImageDataGenerator\n",
    "from keras.optimizers import Adam\n",
    "from sklearn.model_selection import train_test_split\n",
    "from keras.preprocessing.image import img_to_array\n",
    "from keras.utils import to_categorical\n",
    "from imutils import paths"
   ]
  },
  {
   "cell_type": "code",
   "execution_count": 3,
   "metadata": {},
   "outputs": [],
   "source": [
    "# import the necessary packages\n",
    "from keras.utils import np_utils\n",
    "from keras.models import Sequential\n",
    "from keras.layers.convolutional import Conv2D\n",
    "from keras.layers.convolutional import MaxPooling2D\n",
    "from keras.layers.core import Activation\n",
    "from keras.layers.core import Flatten\n",
    "from keras.layers.core import Dense\n",
    "from keras.layers.core import Dropout\n",
    "from keras import backend as K"
   ]
  },
  {
   "cell_type": "code",
   "execution_count": 4,
   "metadata": {},
   "outputs": [],
   "source": [
    "# More imports\n",
    "import matplotlib.pyplot as plt\n",
    "import numpy as np\n",
    "import argparse\n",
    "import random\n",
    "import csv\n",
    "import pandas as pd\n",
    "import re\n",
    "import cv2\n",
    "import os"
   ]
  },
  {
   "cell_type": "code",
   "execution_count": 5,
   "metadata": {},
   "outputs": [],
   "source": [
    "# Import widget functionality\n",
    "from __future__ import print_function\n",
    "from ipywidgets import interact, interactive, fixed, interact_manual\n",
    "import ipywidgets as widgets"
   ]
  },
  {
   "cell_type": "markdown",
   "metadata": {},
   "source": [
    "## This notebook uses the LeNet model for prediction"
   ]
  },
  {
   "cell_type": "code",
   "execution_count": 6,
   "metadata": {},
   "outputs": [],
   "source": [
    "class LeNet:\n",
    "\t@staticmethod\n",
    "\tdef build(width, height, depth, classes):\n",
    "\t\t# initialize the model\n",
    "\t\tmodel = Sequential()\n",
    "\t\tinputShape = (height, width, depth)\n",
    "\n",
    "\t\t# if we are using \"channels first\", update the input shape\n",
    "\t\tif K.image_data_format() == \"channels_first\":\n",
    "\t\t\tinputShape = (depth, height, width)\n",
    "\n",
    "\t\t# first set of CONV => RELU => POOL layers\n",
    "\t\tmodel.add(Conv2D(64, (3, 3), padding=\"same\",\n",
    "\t\t\tinput_shape=inputShape))\n",
    "\t\tmodel.add(Activation(\"relu\"))\n",
    "\t\tmodel.add(MaxPooling2D(pool_size=(2, 2), strides=(2, 2)))\n",
    "\n",
    "\t\t# second set of CONV => RELU => POOL layers\n",
    "\t\tmodel.add(Conv2D(128, (3, 3), padding=\"same\"))\n",
    "\t\tmodel.add(Activation(\"relu\"))\n",
    "\t\tmodel.add(MaxPooling2D(pool_size=(2, 2), strides=(2, 2)))\n",
    "        \n",
    "\t\t# third set of CONV => RELU => POOL layers\n",
    "\t\tmodel.add(Conv2D(256, (3, 3), padding=\"same\"))\n",
    "\t\tmodel.add(Activation(\"relu\"))\n",
    "\t\tmodel.add(MaxPooling2D(pool_size=(2, 2), strides=(2, 2)))\n",
    "              \n",
    "\t\t# first (and only) set of FC => RELU layers\n",
    "\t\tmodel.add(Flatten())\n",
    "\t\tmodel.add(Dense(1000))\n",
    "\t\tmodel.add(Activation(\"relu\"))\n",
    "\t\tmodel.add(Dropout(0.5))\n",
    "\n",
    "\t\t# softmax classifier\n",
    "\t\tmodel.add(Dense(classes))\n",
    "\t\tmodel.add(Activation(\"softmax\"))\n",
    "\n",
    "\t\t# return the constructed network architecture\n",
    "\t\treturn model"
   ]
  },
  {
   "cell_type": "markdown",
   "metadata": {},
   "source": [
    "### Initializing the number of times the model will loop for learning"
   ]
  },
  {
   "cell_type": "code",
   "execution_count": 7,
   "metadata": {},
   "outputs": [],
   "source": [
    "# init the number of epochs to train for, init learning rate and batch size\n",
    "EPOCHS = 50\n",
    "INIT_LR = 1e-3\n",
    "BS = 64"
   ]
  },
  {
   "cell_type": "code",
   "execution_count": 8,
   "metadata": {},
   "outputs": [],
   "source": [
    "# init the image suffix, yset, and image list\n",
    "suffix = '.jpg'\n",
    "img_list = []\n",
    "yset = []\n",
    "# create labels list and 2 dicts for 2 way mapping\n",
    "labels = []\n",
    "# key = label value = number\n",
    "label_yval = dict()\n",
    "# key = number value = label\n",
    "yval_label = dict()"
   ]
  },
  {
   "cell_type": "code",
   "execution_count": 9,
   "metadata": {},
   "outputs": [],
   "source": [
    "# Testing Cells\n",
    "csv_file = 'zaslavsk_Cyclops_Cave_Ceramic_Petrography.csv'"
   ]
  },
  {
   "cell_type": "code",
   "execution_count": 10,
   "metadata": {},
   "outputs": [],
   "source": [
    "# use csv file to grab images/labels\n",
    "df = pd.read_csv(csv_file)"
   ]
  },
  {
   "cell_type": "code",
   "execution_count": 11,
   "metadata": {},
   "outputs": [],
   "source": [
    "toImg = list(df.columns.values)\n",
    "\n",
    "img_menu = {}\n",
    "for i in range(0, len(toImg)):\n",
    "    img_menu[toImg[i]] = toImg[i]\n",
    "\n",
    "def f(images_menu):\n",
    "    return images_menu"
   ]
  },
  {
   "cell_type": "markdown",
   "metadata": {},
   "source": [
    "## Run and choose the column name that coresponds with the Image column in the CSV"
   ]
  },
  {
   "cell_type": "markdown",
   "metadata": {},
   "source": [
    "### Then run next cell"
   ]
  },
  {
   "cell_type": "code",
   "execution_count": 12,
   "metadata": {},
   "outputs": [
    {
     "data": {
      "application/vnd.jupyter.widget-view+json": {
       "model_id": "17fdf386924f411dbc10afc7a638838b",
       "version_major": 2,
       "version_minor": 0
      },
      "text/plain": [
       "A Jupyter Widget"
      ]
     },
     "metadata": {},
     "output_type": "display_data"
    }
   ],
   "source": [
    "out = interact(f, images_menu=img_menu)"
   ]
  },
  {
   "cell_type": "code",
   "execution_count": 13,
   "metadata": {},
   "outputs": [],
   "source": [
    "# Choose column of label for prediction\n",
    "toPredict = list(df.columns.values)\n",
    "\n",
    "pred_menu = {}\n",
    "for i in range(0, len(toPredict)):\n",
    "    pred_menu[toPredict[i]] = toPredict[i]\n",
    "\n",
    "def f(predictions_menu):\n",
    "    return predictions_menu"
   ]
  },
  {
   "cell_type": "markdown",
   "metadata": {},
   "source": [
    "## Run and choose the column name that coresponds with the column lable to be predicted"
   ]
  },
  {
   "cell_type": "markdown",
   "metadata": {},
   "source": [
    "### Then run next cell"
   ]
  },
  {
   "cell_type": "code",
   "execution_count": 14,
   "metadata": {},
   "outputs": [
    {
     "data": {
      "application/vnd.jupyter.widget-view+json": {
       "model_id": "e097c012bfa14e4c97fa32aeca356c5f",
       "version_major": 2,
       "version_minor": 0
      },
      "text/plain": [
       "A Jupyter Widget"
      ]
     },
     "metadata": {},
     "output_type": "display_data"
    }
   ],
   "source": [
    "out2 = interact(f, predictions_menu=pred_menu)"
   ]
  },
  {
   "cell_type": "code",
   "execution_count": 15,
   "metadata": {},
   "outputs": [],
   "source": [
    "nameCol = df[out.widget.result]\n",
    "predCol = df[out2.widget.result]"
   ]
  },
  {
   "cell_type": "code",
   "execution_count": 16,
   "metadata": {},
   "outputs": [],
   "source": [
    "# add all fabric columns to the y set\n",
    "for i in range (0,len(predCol)):\n",
    "    labels.append(predCol[i])"
   ]
  },
  {
   "cell_type": "code",
   "execution_count": 17,
   "metadata": {},
   "outputs": [],
   "source": [
    "# grab all unique labels\n",
    "uni_labels = set(labels)\n",
    "uni_labels = list(uni_labels)"
   ]
  },
  {
   "cell_type": "code",
   "execution_count": 18,
   "metadata": {},
   "outputs": [],
   "source": [
    "# assign each label a dict key number\n",
    "for i in range(0,len(uni_labels)):\n",
    "    yval_label[i] = uni_labels[i]\n",
    "    label_yval[uni_labels[i]] = i"
   ]
  },
  {
   "cell_type": "code",
   "execution_count": 19,
   "metadata": {},
   "outputs": [
    {
     "name": "stdout",
     "output_type": "stream",
     "text": [
      "Number of labels to learn from: 252\n"
     ]
    }
   ],
   "source": [
    "print(\"Number of labels to learn from: \" + str(len(labels)))"
   ]
  },
  {
   "cell_type": "code",
   "execution_count": 20,
   "metadata": {},
   "outputs": [],
   "source": [
    "# create list of keys associated with their labels\n",
    "for i in range (0, len(labels)):\n",
    "    yset.append(label_yval[labels[i]])"
   ]
  },
  {
   "cell_type": "code",
   "execution_count": 21,
   "metadata": {},
   "outputs": [],
   "source": [
    "# gather images from path created from file names in csv file\n",
    "for i in range (0,len(nameCol)):\n",
    "    base_filename = nameCol[i]\n",
    "    fileName = os.path.join(\"./Cyclops Cave/images/\", base_filename + suffix)\n",
    "    im = cv2.imread(fileName)\n",
    "    im = cv2.resize(im, (28,28))\n",
    "    im = img_to_array(im)\n",
    "    img_list.append(im)"
   ]
  },
  {
   "cell_type": "markdown",
   "metadata": {},
   "source": [
    "## SVM learning algorithm"
   ]
  },
  {
   "cell_type": "code",
   "execution_count": 23,
   "metadata": {},
   "outputs": [],
   "source": [
    "# import the necessary packages\n",
    "from sklearn.preprocessing import LabelEncoder\n",
    "from sklearn.svm import LinearSVC\n",
    "from sklearn.metrics import classification_report\n",
    "from sklearn.model_selection import train_test_split\n",
    "from imutils import paths\n",
    "import numpy as np\n",
    "import argparse\n",
    "import imutils\n",
    "import cv2\n",
    "import os"
   ]
  },
  {
   "cell_type": "code",
   "execution_count": 24,
   "metadata": {},
   "outputs": [],
   "source": [
    "def extract_color_histogram(image, bins=(8,8,8)):\n",
    "    # extract a 3D color histogram from the HSV color space using\n",
    "    # the supplied number of 'bins' per channel\n",
    "    hsv = cv2.cvtColor(image, cv2.COLOR_BGR2HSV)\n",
    "    hist = cv2.calcHist([hsv], [0,1,2], None, bins, [0,180,0,256,0,256])\n",
    "    \n",
    "    # handle normalizing the histogram if we are using OpenCV 2.4.X\n",
    "    if imutils.is_cv2():\n",
    "        hist = cv2.normalize(hist)\n",
    "    \n",
    "    # otherwise, perform \"in place\" normaliation in OpenCV 3\n",
    "    else:\n",
    "        cv2.normalize(hist, hist)\n",
    "    \n",
    "    return hist.flatten()"
   ]
  },
  {
   "cell_type": "code",
   "execution_count": 25,
   "metadata": {},
   "outputs": [],
   "source": [
    "# create new hist_list\n",
    "hist_list = []"
   ]
  },
  {
   "cell_type": "code",
   "execution_count": 26,
   "metadata": {},
   "outputs": [],
   "source": [
    "# gather images from path created from file names in csv file\n",
    "for i in range (0,len(nameCol)):\n",
    "    base_filename = nameCol[i]\n",
    "    fileName = os.path.join(\"./Cyclops Cave/images/\", base_filename + suffix)\n",
    "    im = cv2.imread(fileName)\n",
    "    hist = extract_color_histogram(im)\n",
    "    hist_list.append(hist)"
   ]
  },
  {
   "cell_type": "code",
   "execution_count": 27,
   "metadata": {},
   "outputs": [],
   "source": [
    "# Shuffle the data\n",
    "p = np.random.permutation(len(yset))"
   ]
  },
  {
   "cell_type": "code",
   "execution_count": 28,
   "metadata": {},
   "outputs": [],
   "source": [
    "# Relable for splitting sets\n",
    "Y2 = []\n",
    "X2 = []\n",
    "for i in range(0,len(yset)):\n",
    "    Y2.append(yset[p[i]])\n",
    "    X2.append(hist_list[p[i]])"
   ]
  },
  {
   "cell_type": "code",
   "execution_count": 29,
   "metadata": {},
   "outputs": [],
   "source": [
    "le = LabelEncoder()\n",
    "labels = le.fit_transform(predCol)"
   ]
  },
  {
   "cell_type": "code",
   "execution_count": 30,
   "metadata": {},
   "outputs": [],
   "source": [
    "(xtrain, xtest, ytrain, ytest) = train_test_split(np.array(hist_list),labels, test_size = 0.25, random_state = 42)"
   ]
  },
  {
   "cell_type": "code",
   "execution_count": 31,
   "metadata": {},
   "outputs": [
    {
     "data": {
      "text/plain": [
       "array(['Cyclops Cave 1', 'Cyclops Cave 10', 'Cyclops Cave 11',\n",
       "       'Cyclops Cave 12', 'Cyclops Cave 2', 'Cyclops Cave 3',\n",
       "       'Cyclops Cave 4', 'Cyclops Cave 5', 'Cyclops Cave 6',\n",
       "       'Cyclops Cave 7', 'Cyclops Cave 8', 'Cyclops Cave 9'], dtype=object)"
      ]
     },
     "execution_count": 31,
     "metadata": {},
     "output_type": "execute_result"
    }
   ],
   "source": [
    "le.classes_"
   ]
  },
  {
   "cell_type": "code",
   "execution_count": 32,
   "metadata": {},
   "outputs": [
    {
     "name": "stdout",
     "output_type": "stream",
     "text": [
      "                 precision    recall  f1-score   support\n",
      "\n",
      " Cyclops Cave 1       0.73      0.99      0.84       144\n",
      "Cyclops Cave 10       1.00      0.25      0.40         4\n",
      "Cyclops Cave 11       1.00      0.25      0.40         4\n",
      "Cyclops Cave 12       0.75      0.75      0.75         4\n",
      " Cyclops Cave 2       0.83      0.18      0.29        28\n",
      " Cyclops Cave 3       0.48      0.65      0.55        20\n",
      " Cyclops Cave 4       1.00      0.08      0.15        12\n",
      " Cyclops Cave 5       0.00      0.00      0.00         8\n",
      " Cyclops Cave 6       1.00      0.12      0.22         8\n",
      " Cyclops Cave 7       1.00      0.25      0.40         8\n",
      " Cyclops Cave 8       0.50      0.62      0.56         8\n",
      " Cyclops Cave 9       1.00      0.50      0.67         4\n",
      "\n",
      "    avg / total       0.73      0.70      0.64       252\n",
      "\n"
     ]
    },
    {
     "name": "stderr",
     "output_type": "stream",
     "text": [
      "C:\\Users\\cinde\\Anaconda3\\envs\\deeplearning\\lib\\site-packages\\sklearn\\metrics\\classification.py:1135: UndefinedMetricWarning: Precision and F-score are ill-defined and being set to 0.0 in labels with no predicted samples.\n",
      "  'precision', 'predicted', average, warn_for)\n"
     ]
    }
   ],
   "source": [
    "# Train the linear regression classifier\n",
    "model2 = LinearSVC()\n",
    "model2.fit(xtrain, ytrain)\n",
    "\n",
    "predictions2 = model2.predict(np.array(hist_list))\n",
    "print(classification_report(labels, predictions2, target_names = le.classes_))"
   ]
  },
  {
   "cell_type": "code",
   "execution_count": 24,
   "metadata": {},
   "outputs": [],
   "source": [
    "# Relable for splitting sets\n",
    "Y = []\n",
    "X = []\n",
    "for i in range(0,len(yset)):\n",
    "    Y.append(yset[p[i]])\n",
    "    X.append(img_list[p[i]])"
   ]
  },
  {
   "cell_type": "code",
   "execution_count": 25,
   "metadata": {},
   "outputs": [],
   "source": [
    "# split the test and training set 75:25\n",
    "split = int(len(X)*(.75))\n",
    "xtrain = X[:split]\n",
    "xtest = X[split:]\n",
    "ytrain = Y[:split]\n",
    "ytest = Y[split:]"
   ]
  },
  {
   "cell_type": "code",
   "execution_count": 26,
   "metadata": {},
   "outputs": [],
   "source": [
    "# transform to arrays\n",
    "trainX = np.array(xtrain, dtype=\"float\")/225.0\n",
    "testX = np.array(xtest, dtype =\"float\")/225.0\n",
    "\n",
    "ytrain = np.array(ytrain)\n",
    "ytest = np.array(ytest)"
   ]
  },
  {
   "cell_type": "code",
   "execution_count": 27,
   "metadata": {},
   "outputs": [],
   "source": [
    "# parsed Y data containers\n",
    "trainY = []\n",
    "testY = []"
   ]
  },
  {
   "cell_type": "code",
   "execution_count": 28,
   "metadata": {},
   "outputs": [],
   "source": [
    "# convert labels from int to vectors\n",
    "trainY = np_utils.to_categorical(ytrain,12)\n",
    "testY = np_utils.to_categorical(ytest,12)"
   ]
  },
  {
   "cell_type": "code",
   "execution_count": 31,
   "metadata": {},
   "outputs": [],
   "source": [
    "# construct the image generator for data augmentation\n",
    "aug = ImageDataGenerator(rotation_range=30, width_shift_range=0.1,\n",
    "                        height_shift_range=0.1, shear_range=0.2, zoom_range=0.2,\n",
    "                        horizontal_flip=True, fill_mode=\"nearest\")"
   ]
  },
  {
   "cell_type": "code",
   "execution_count": 32,
   "metadata": {},
   "outputs": [
    {
     "name": "stdout",
     "output_type": "stream",
     "text": [
      "[INFO] compiling model...\n"
     ]
    }
   ],
   "source": [
    "# initialize the model\n",
    "print(\"[INFO] compiling model...\")\n",
    "model = LeNet.build(width=28, height=28, depth=3, classes=12)\n",
    "opt = Adam(lr=INIT_LR, decay=INIT_LR / EPOCHS)\n",
    "model.compile(loss=\"categorical_crossentropy\", optimizer=opt,\n",
    "                metrics=[\"accuracy\"])"
   ]
  },
  {
   "cell_type": "markdown",
   "metadata": {},
   "source": [
    "## Train the predictive model"
   ]
  },
  {
   "cell_type": "markdown",
   "metadata": {},
   "source": [
    "### This is relative to the size of the data set and may take a few minutes "
   ]
  },
  {
   "cell_type": "code",
   "execution_count": 33,
   "metadata": {},
   "outputs": [
    {
     "name": "stdout",
     "output_type": "stream",
     "text": [
      "[INFO] training network...\n",
      "Epoch 1/50\n",
      "3/2 [=============================================] - 3s 1s/step - loss: 2.1356 - acc: 0.4640 - val_loss: 1.6971 - val_acc: 0.6508\n",
      "Epoch 2/50\n",
      "3/2 [=============================================] - 2s 667ms/step - loss: 1.8175 - acc: 0.5191 - val_loss: 1.8065 - val_acc: 0.6508\n",
      "Epoch 3/50\n",
      "3/2 [=============================================] - 2s 613ms/step - loss: 1.7689 - acc: 0.5591 - val_loss: 1.5357 - val_acc: 0.6508\n",
      "Epoch 4/50\n",
      "3/2 [=============================================] - 2s 610ms/step - loss: 1.7720 - acc: 0.5391 - val_loss: 1.5243 - val_acc: 0.6508\n",
      "Epoch 5/50\n",
      "3/2 [=============================================] - 2s 611ms/step - loss: 1.6886 - acc: 0.5520 - val_loss: 1.6325 - val_acc: 0.6508\n",
      "Epoch 6/50\n",
      "3/2 [=============================================] - 2s 616ms/step - loss: 1.6731 - acc: 0.5397 - val_loss: 1.5479 - val_acc: 0.6508\n",
      "Epoch 7/50\n",
      "3/2 [=============================================] - 2s 614ms/step - loss: 1.6495 - acc: 0.5306 - val_loss: 1.4962 - val_acc: 0.6508\n",
      "Epoch 8/50\n",
      "3/2 [=============================================] - 2s 647ms/step - loss: 1.5809 - acc: 0.5455 - val_loss: 1.4850 - val_acc: 0.6508\n",
      "Epoch 9/50\n",
      "3/2 [=============================================] - 2s 611ms/step - loss: 1.4682 - acc: 0.5655 - val_loss: 1.4870 - val_acc: 0.6508\n",
      "Epoch 10/50\n",
      "3/2 [=============================================] - 2s 615ms/step - loss: 1.4893 - acc: 0.5711 - val_loss: 1.5109 - val_acc: 0.6349\n",
      "Epoch 11/50\n",
      "3/2 [=============================================] - 2s 667ms/step - loss: 1.4216 - acc: 0.5814 - val_loss: 1.4530 - val_acc: 0.6349\n",
      "Epoch 12/50\n",
      "3/2 [=============================================] - 2s 615ms/step - loss: 1.4052 - acc: 0.5890 - val_loss: 1.5269 - val_acc: 0.6349\n",
      "Epoch 13/50\n",
      "3/2 [=============================================] - 2s 613ms/step - loss: 1.3774 - acc: 0.5920 - val_loss: 1.5089 - val_acc: 0.6349\n",
      "Epoch 14/50\n",
      "3/2 [=============================================] - 2s 608ms/step - loss: 1.3322 - acc: 0.6134 - val_loss: 1.6245 - val_acc: 0.6349\n",
      "Epoch 15/50\n",
      "3/2 [=============================================] - 2s 608ms/step - loss: 1.3184 - acc: 0.6152 - val_loss: 1.4833 - val_acc: 0.6508\n",
      "Epoch 16/50\n",
      "3/2 [=============================================] - 2s 612ms/step - loss: 1.3121 - acc: 0.6213 - val_loss: 1.5619 - val_acc: 0.6349\n",
      "Epoch 17/50\n",
      "3/2 [=============================================] - 2s 619ms/step - loss: 1.3110 - acc: 0.5971 - val_loss: 1.4551 - val_acc: 0.6349\n",
      "Epoch 18/50\n",
      "3/2 [=============================================] - 2s 689ms/step - loss: 1.2373 - acc: 0.6337 - val_loss: 1.6144 - val_acc: 0.6190\n",
      "Epoch 19/50\n",
      "3/2 [=============================================] - 2s 619ms/step - loss: 1.2552 - acc: 0.6208 - val_loss: 1.4692 - val_acc: 0.6508\n",
      "Epoch 20/50\n",
      "3/2 [=============================================] - 2s 611ms/step - loss: 1.2278 - acc: 0.6371 - val_loss: 1.4331 - val_acc: 0.6508\n",
      "Epoch 21/50\n",
      "3/2 [=============================================] - 2s 610ms/step - loss: 1.2095 - acc: 0.6362 - val_loss: 1.4278 - val_acc: 0.6508\n",
      "Epoch 22/50\n",
      "3/2 [=============================================] - 2s 608ms/step - loss: 1.2261 - acc: 0.6186 - val_loss: 1.5386 - val_acc: 0.6190\n",
      "Epoch 23/50\n",
      "3/2 [=============================================] - 2s 617ms/step - loss: 1.1977 - acc: 0.6275 - val_loss: 1.3840 - val_acc: 0.6667\n",
      "Epoch 24/50\n",
      "3/2 [=============================================] - 2s 607ms/step - loss: 1.2062 - acc: 0.6295 - val_loss: 1.4466 - val_acc: 0.6667\n",
      "Epoch 25/50\n",
      "3/2 [=============================================] - 2s 618ms/step - loss: 1.2101 - acc: 0.6301 - val_loss: 1.3566 - val_acc: 0.6508\n",
      "Epoch 26/50\n",
      "3/2 [=============================================] - 2s 612ms/step - loss: 1.1183 - acc: 0.6505 - val_loss: 1.5504 - val_acc: 0.6349\n",
      "Epoch 27/50\n",
      "3/2 [=============================================] - 2s 615ms/step - loss: 1.1751 - acc: 0.6583 - val_loss: 1.3228 - val_acc: 0.6984\n",
      "Epoch 28/50\n",
      "3/2 [=============================================] - 2s 618ms/step - loss: 1.1291 - acc: 0.6397 - val_loss: 1.4302 - val_acc: 0.6508\n",
      "Epoch 29/50\n",
      "3/2 [=============================================] - 2s 618ms/step - loss: 1.1485 - acc: 0.6306 - val_loss: 1.2561 - val_acc: 0.6984\n",
      "Epoch 30/50\n",
      "3/2 [=============================================] - 2s 614ms/step - loss: 1.1161 - acc: 0.6698 - val_loss: 1.4391 - val_acc: 0.6349\n",
      "Epoch 31/50\n",
      "3/2 [=============================================] - 2s 617ms/step - loss: 1.1872 - acc: 0.6360 - val_loss: 1.3393 - val_acc: 0.6825\n",
      "Epoch 32/50\n",
      "3/2 [=============================================] - 2s 617ms/step - loss: 1.0623 - acc: 0.6702 - val_loss: 1.3435 - val_acc: 0.6349\n",
      "Epoch 33/50\n",
      "3/2 [=============================================] - 2s 614ms/step - loss: 1.0525 - acc: 0.6982 - val_loss: 1.2999 - val_acc: 0.6825\n",
      "Epoch 34/50\n",
      "3/2 [=============================================] - 2s 637ms/step - loss: 1.0038 - acc: 0.6874 - val_loss: 1.3916 - val_acc: 0.6825\n",
      "Epoch 35/50\n",
      "3/2 [=============================================] - 2s 629ms/step - loss: 1.0765 - acc: 0.6492 - val_loss: 1.4254 - val_acc: 0.6825\n",
      "Epoch 36/50\n",
      "3/2 [=============================================] - 2s 629ms/step - loss: 1.0345 - acc: 0.6416 - val_loss: 1.3074 - val_acc: 0.6825\n",
      "Epoch 37/50\n",
      "3/2 [=============================================] - 2s 610ms/step - loss: 1.0436 - acc: 0.6656 - val_loss: 1.3832 - val_acc: 0.6349\n",
      "Epoch 38/50\n",
      "3/2 [=============================================] - 2s 609ms/step - loss: 0.9485 - acc: 0.7297 - val_loss: 1.2605 - val_acc: 0.6984\n",
      "Epoch 39/50\n",
      "3/2 [=============================================] - 2s 610ms/step - loss: 0.8908 - acc: 0.6936 - val_loss: 1.6391 - val_acc: 0.5873\n",
      "Epoch 40/50\n",
      "3/2 [=============================================] - 2s 683ms/step - loss: 0.9975 - acc: 0.6598 - val_loss: 1.2532 - val_acc: 0.6825\n",
      "Epoch 41/50\n",
      "3/2 [=============================================] - 2s 609ms/step - loss: 0.9251 - acc: 0.7116 - val_loss: 1.3353 - val_acc: 0.6508\n",
      "Epoch 42/50\n",
      "3/2 [=============================================] - 2s 611ms/step - loss: 0.9710 - acc: 0.6796 - val_loss: 1.3565 - val_acc: 0.6508\n",
      "Epoch 43/50\n",
      "3/2 [=============================================] - 2s 612ms/step - loss: 0.9032 - acc: 0.7035 - val_loss: 1.4804 - val_acc: 0.6349\n",
      "Epoch 44/50\n",
      "3/2 [=============================================] - 2s 608ms/step - loss: 0.8583 - acc: 0.6946 - val_loss: 1.3595 - val_acc: 0.6984\n",
      "Epoch 45/50\n",
      "3/2 [=============================================] - 2s 614ms/step - loss: 0.8988 - acc: 0.6792 - val_loss: 1.3762 - val_acc: 0.6508\n",
      "Epoch 46/50\n",
      "3/2 [=============================================] - 2s 616ms/step - loss: 0.8972 - acc: 0.6921 - val_loss: 1.2754 - val_acc: 0.7143\n",
      "Epoch 47/50\n",
      "3/2 [=============================================] - 2s 612ms/step - loss: 0.8406 - acc: 0.7097 - val_loss: 1.4495 - val_acc: 0.6190\n",
      "Epoch 48/50\n",
      "3/2 [=============================================] - 2s 612ms/step - loss: 0.8127 - acc: 0.7016 - val_loss: 1.4298 - val_acc: 0.6667\n",
      "Epoch 49/50\n",
      "3/2 [=============================================] - 2s 614ms/step - loss: 0.8571 - acc: 0.6899 - val_loss: 1.5309 - val_acc: 0.6349\n",
      "Epoch 50/50\n",
      "3/2 [=============================================] - 2s 617ms/step - loss: 0.8453 - acc: 0.7165 - val_loss: 1.2704 - val_acc: 0.7143\n"
     ]
    }
   ],
   "source": [
    "# train the network\n",
    "print(\"[INFO] training network...\")\n",
    "H = model.fit_generator(aug.flow(trainX, trainY, batch_size=BS),\n",
    "    validation_data=(testX, testY), steps_per_epoch=len(trainX) // BS,\n",
    "    epochs=EPOCHS, verbose=1)"
   ]
  },
  {
   "cell_type": "markdown",
   "metadata": {},
   "source": [
    "## Plot the loss and accuracy"
   ]
  },
  {
   "cell_type": "code",
   "execution_count": 34,
   "metadata": {},
   "outputs": [],
   "source": [
    "# plot the training loss and accuracy \n",
    "plt.style.use(\"ggplot\")\n",
    "plt.figure()\n",
    "N = EPOCHS\n",
    "plt.plot(np.arange(0, N), H.history[\"loss\"], label=\"train_loss\")\n",
    "plt.plot(np.arange(0, N), H.history[\"val_loss\"], label=\"val_loss\")\n",
    "plt.plot(np.arange(0, N), H.history[\"acc\"], label=\"train_acc\")\n",
    "plt.plot(np.arange(0, N), H.history[\"val_acc\"], label=\"val_acc\")\n",
    "plt.title(\"Training Loss and Accuracy on Label Prediction\")\n",
    "plt.xlabel(\"Epoch #\")\n",
    "plt.ylabel(\"Loss/Accuracy\")\n",
    "plt.legend(loc=\"lower left\")\n",
    "plt.savefig('figure.png')"
   ]
  },
  {
   "cell_type": "code",
   "execution_count": 35,
   "metadata": {},
   "outputs": [
    {
     "data": {
      "image/png": "[encoded data removed]",
      "text/plain": [
       "<IPython.core.display.Image object>"
      ]
     },
     "execution_count": 35,
     "metadata": {},
     "output_type": "execute_result"
    }
   ],
   "source": [
    "# Displays chart\n",
    "from IPython.display import Image\n",
    "Image(\"figure.png\")"
   ]
  },
  {
   "cell_type": "markdown",
   "metadata": {},
   "source": [
    "## Take the original data and predict based on the model"
   ]
  },
  {
   "cell_type": "code",
   "execution_count": 36,
   "metadata": {},
   "outputs": [],
   "source": [
    "# Reshape original input data images for predicting\n",
    "img_check = np.array(img_list, dtype =\"float\")/225.0"
   ]
  },
  {
   "cell_type": "code",
   "execution_count": 37,
   "metadata": {},
   "outputs": [],
   "source": [
    "predictionsMade = []"
   ]
  },
  {
   "cell_type": "code",
   "execution_count": 38,
   "metadata": {},
   "outputs": [],
   "source": [
    "preds = model.predict(img_check)"
   ]
  },
  {
   "cell_type": "code",
   "execution_count": 39,
   "metadata": {},
   "outputs": [],
   "source": [
    "# Run all data through the prediction model that was created\n",
    "for i in range (0,len(img_check)):\n",
    "    predIndex = np.where(preds[i] == np.amax(preds[i]))\n",
    "    prediction = int(predIndex[0][0])\n",
    "    predictionsMade.append(prediction)"
   ]
  },
  {
   "cell_type": "code",
   "execution_count": 40,
   "metadata": {},
   "outputs": [],
   "source": [
    "# Count how many correct predictions were made\n",
    "correct = 0\n",
    "for i in range (0,len(predictionsMade)):\n",
    "    if(predictionsMade[i] == yset[i]):\n",
    "        correct += 1 "
   ]
  },
  {
   "cell_type": "markdown",
   "metadata": {},
   "source": [
    "## Calculate the accuracy of the predictions made"
   ]
  },
  {
   "cell_type": "code",
   "execution_count": 41,
   "metadata": {},
   "outputs": [
    {
     "name": "stdout",
     "output_type": "stream",
     "text": [
      "Accuracy: 0.753968253968254\n"
     ]
    }
   ],
   "source": [
    "print(\"Accuracy: \" + str(correct/len(yset)))"
   ]
  },
  {
   "cell_type": "code",
   "execution_count": 42,
   "metadata": {},
   "outputs": [],
   "source": [
    "# Translate back to original csv label names\n",
    "finalPred = []\n",
    "for i in range (0,len(predictionsMade)):\n",
    "    finalPred.append(yval_label[predictionsMade[i]])"
   ]
  },
  {
   "cell_type": "markdown",
   "metadata": {},
   "source": [
    "## Enter a new header for the prediction column"
   ]
  },
  {
   "cell_type": "code",
   "execution_count": 59,
   "metadata": {},
   "outputs": [
    {
     "name": "stdout",
     "output_type": "stream",
     "text": [
      "Input new column Header Label:\n"
     ]
    },
    {
     "data": {
      "application/vnd.jupyter.widget-view+json": {
       "model_id": "0a11e5ca2fb74ae7898434c4879bead4",
       "version_major": 2,
       "version_minor": 0
      },
      "text/plain": [
       "A Jupyter Widget"
      ]
     },
     "metadata": {},
     "output_type": "display_data"
    }
   ],
   "source": [
    "from IPython.display import display\n",
    "input_text = widgets.Text()\n",
    "output_text = widgets.Text()\n",
    "\n",
    "def bind_input_to_output(sender):\n",
    "    output_text.value = input_text.value\n",
    "\n",
    "input_text.on_submit(bind_input_to_output)\n",
    "\n",
    "print(\"Input new column Header Label:\")\n",
    "\n",
    "display(input_text)"
   ]
  },
  {
   "cell_type": "code",
   "execution_count": 56,
   "metadata": {},
   "outputs": [],
   "source": [
    "# Append the new column w/ it's new column name\n",
    "df[input_text.value] = finalPred"
   ]
  },
  {
   "cell_type": "markdown",
   "metadata": {},
   "source": [
    "## Write the predictions back to the original CSV"
   ]
  },
  {
   "cell_type": "code",
   "execution_count": 57,
   "metadata": {},
   "outputs": [],
   "source": [
    "# new file name\n",
    "new_file =  csv_file[:-4]+'_v1.csv'\n",
    "df.to_csv(new_file, index=None)"
   ]
  },
  {
   "cell_type": "code",
   "execution_count": null,
   "metadata": {},
   "outputs": [],
   "source": []
  }
 ],
 "metadata": {
  "kernelspec": {
   "display_name": "Python 3",
   "language": "python",
   "name": "python3"
  },
  "language_info": {
   "codemirror_mode": {
    "name": "ipython",
    "version": 3
   },
   "file_extension": ".py",
   "mimetype": "text/x-python",
   "name": "python",
   "nbconvert_exporter": "python",
   "pygments_lexer": "ipython3",
   "version": "3.6.3"
  }
 },
 "nbformat": 4,
 "nbformat_minor": 2
}
