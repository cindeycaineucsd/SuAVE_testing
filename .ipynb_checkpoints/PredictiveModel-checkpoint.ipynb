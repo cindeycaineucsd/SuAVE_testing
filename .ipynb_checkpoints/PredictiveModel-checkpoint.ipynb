{
 "cells": [
  {
   "cell_type": "markdown",
   "metadata": {},
   "source": [
    "# SuAVE Image to Label Prediction Model"
   ]
  },
  {
   "cell_type": "code",
   "execution_count": 1,
   "metadata": {},
   "outputs": [],
   "source": [
    "# set the matplotlib backend so figures can be saved in the background\n",
    "import matplotlib\n",
    "matplotlib.use(\"Agg\")"
   ]
  },
  {
   "cell_type": "code",
   "execution_count": 2,
   "metadata": {},
   "outputs": [
    {
     "name": "stderr",
     "output_type": "stream",
     "text": [
      "Using TensorFlow backend.\n"
     ]
    }
   ],
   "source": [
    "# import the necessary packages\n",
    "from keras.preprocessing.image import ImageDataGenerator\n",
    "from keras.optimizers import Adam\n",
    "from sklearn.model_selection import train_test_split\n",
    "from keras.preprocessing.image import img_to_array\n",
    "from keras.utils import to_categorical\n",
    "from imutils import paths"
   ]
  },
  {
   "cell_type": "code",
   "execution_count": 3,
   "metadata": {},
   "outputs": [],
   "source": [
    "# import the necessary packages\n",
    "from keras.utils import np_utils\n",
    "from keras.models import Sequential\n",
    "from keras.layers.convolutional import Conv2D\n",
    "from keras.layers.convolutional import MaxPooling2D\n",
    "from keras.layers.core import Activation\n",
    "from keras.layers.core import Flatten\n",
    "from keras.layers.core import Dense\n",
    "from keras.layers.core import Dropout\n",
    "from keras import backend as K"
   ]
  },
  {
   "cell_type": "code",
   "execution_count": 4,
   "metadata": {},
   "outputs": [],
   "source": [
    "# More imports\n",
    "import matplotlib.pyplot as plt\n",
    "import numpy as np\n",
    "import argparse\n",
    "import random\n",
    "import csv\n",
    "import pandas as pd\n",
    "import re\n",
    "import cv2\n",
    "import os"
   ]
  },
  {
   "cell_type": "code",
   "execution_count": 5,
   "metadata": {},
   "outputs": [],
   "source": [
    "# Import widget functionality\n",
    "from __future__ import print_function\n",
    "from ipywidgets import interact, interactive, fixed, interact_manual\n",
    "import ipywidgets as widgets"
   ]
  },
  {
   "cell_type": "markdown",
   "metadata": {},
   "source": [
    "## This notebook uses the LeNet model for prediction"
   ]
  },
  {
   "cell_type": "code",
   "execution_count": 6,
   "metadata": {},
   "outputs": [],
   "source": [
    "class LeNet:\n",
    "\t@staticmethod\n",
    "\tdef build(width, height, depth, classes):\n",
    "\t\t# initialize the model\n",
    "\t\tmodel = Sequential()\n",
    "\t\tinputShape = (height, width, depth)\n",
    "\n",
    "\t\t# if we are using \"channels first\", update the input shape\n",
    "\t\tif K.image_data_format() == \"channels_first\":\n",
    "\t\t\tinputShape = (depth, height, width)\n",
    "\n",
    "\t\t# first set of CONV => RELU => POOL layers\n",
    "\t\tmodel.add(Conv2D(64, (3, 3), padding=\"same\",\n",
    "\t\t\tinput_shape=inputShape))\n",
    "\t\tmodel.add(Activation(\"relu\"))\n",
    "\t\tmodel.add(MaxPooling2D(pool_size=(2, 2), strides=(2, 2)))\n",
    "\n",
    "\t\t# second set of CONV => RELU => POOL layers\n",
    "\t\tmodel.add(Conv2D(128, (3, 3), padding=\"same\"))\n",
    "\t\tmodel.add(Activation(\"relu\"))\n",
    "\t\tmodel.add(MaxPooling2D(pool_size=(2, 2), strides=(2, 2)))\n",
    "        \n",
    "\t\t# third set of CONV => RELU => POOL layers\n",
    "\t\tmodel.add(Conv2D(256, (3, 3), padding=\"same\"))\n",
    "\t\tmodel.add(Activation(\"relu\"))\n",
    "\t\tmodel.add(MaxPooling2D(pool_size=(2, 2), strides=(2, 2)))\n",
    "              \n",
    "\t\t# first (and only) set of FC => RELU layers\n",
    "\t\tmodel.add(Flatten())\n",
    "\t\tmodel.add(Dense(1000))\n",
    "\t\tmodel.add(Activation(\"relu\"))\n",
    "\t\tmodel.add(Dropout(0.5))\n",
    "\n",
    "\t\t# softmax classifier\n",
    "\t\tmodel.add(Dense(classes))\n",
    "\t\tmodel.add(Activation(\"softmax\"))\n",
    "\n",
    "\t\t# return the constructed network architecture\n",
    "\t\treturn model"
   ]
  },
  {
   "cell_type": "markdown",
   "metadata": {},
   "source": [
    "### Initializing the number of times the model will loop for learning"
   ]
  },
  {
   "cell_type": "code",
   "execution_count": 7,
   "metadata": {},
   "outputs": [],
   "source": [
    "# init the number of epochs to train for, init learning rate and batch size\n",
    "EPOCHS = 50\n",
    "INIT_LR = 1e-3\n",
    "BS = 64"
   ]
  },
  {
   "cell_type": "code",
   "execution_count": 8,
   "metadata": {},
   "outputs": [],
   "source": [
    "# init the image suffix, yset, and image list\n",
    "suffix = '.jpg'\n",
    "img_list = []\n",
    "yset = []\n",
    "# create labels list and 2 dicts for 2 way mapping\n",
    "labels = []\n",
    "# key = label value = number\n",
    "label_yval = dict()\n",
    "# key = number value = label\n",
    "yval_label = dict()"
   ]
  },
  {
   "cell_type": "code",
   "execution_count": 9,
   "metadata": {},
   "outputs": [],
   "source": [
    "# Testing Cells\n",
    "csv_file = 'zaslavsk_Cyclops_Cave_Ceramic_Petrography.csv'"
   ]
  },
  {
   "cell_type": "code",
   "execution_count": 10,
   "metadata": {},
   "outputs": [],
   "source": [
    "# use csv file to grab images/labels\n",
    "df = pd.read_csv(csv_file)"
   ]
  },
  {
   "cell_type": "code",
   "execution_count": 11,
   "metadata": {},
   "outputs": [],
   "source": [
    "toImg = list(df.columns.values)\n",
    "\n",
    "img_menu = {}\n",
    "for i in range(0, len(toImg)):\n",
    "    img_menu[toImg[i]] = toImg[i]\n",
    "\n",
    "def f(images_menu):\n",
    "    return images_menu"
   ]
  },
  {
   "cell_type": "markdown",
   "metadata": {},
   "source": [
    "## Run and choose the column name that coresponds with the Image column in the CSV"
   ]
  },
  {
   "cell_type": "markdown",
   "metadata": {},
   "source": [
    "### Then run next cell"
   ]
  },
  {
   "cell_type": "code",
   "execution_count": 12,
   "metadata": {},
   "outputs": [
    {
     "data": {
      "application/vnd.jupyter.widget-view+json": {
       "model_id": "99733b54400248b8a2661515987f3cd4",
       "version_major": 2,
       "version_minor": 0
      },
      "text/plain": [
       "A Jupyter Widget"
      ]
     },
     "metadata": {},
     "output_type": "display_data"
    }
   ],
   "source": [
    "out = interact(f, images_menu=img_menu)"
   ]
  },
  {
   "cell_type": "code",
   "execution_count": 13,
   "metadata": {},
   "outputs": [],
   "source": [
    "# Choose column of label for prediction\n",
    "toPredict = list(df.columns.values)\n",
    "\n",
    "pred_menu = {}\n",
    "for i in range(0, len(toPredict)):\n",
    "    pred_menu[toPredict[i]] = toPredict[i]\n",
    "\n",
    "def f(predictions_menu):\n",
    "    return predictions_menu"
   ]
  },
  {
   "cell_type": "markdown",
   "metadata": {},
   "source": [
    "## Run and choose the column name that coresponds with the column lable to be predicted"
   ]
  },
  {
   "cell_type": "markdown",
   "metadata": {},
   "source": [
    "### Then run next cell"
   ]
  },
  {
   "cell_type": "code",
   "execution_count": 14,
   "metadata": {},
   "outputs": [
    {
     "data": {
      "application/vnd.jupyter.widget-view+json": {
       "model_id": "c9d76c32642a4aa7a565cde541f40b1d",
       "version_major": 2,
       "version_minor": 0
      },
      "text/plain": [
       "A Jupyter Widget"
      ]
     },
     "metadata": {},
     "output_type": "display_data"
    }
   ],
   "source": [
    "out2 = interact(f, predictions_menu=pred_menu)"
   ]
  },
  {
   "cell_type": "code",
   "execution_count": 15,
   "metadata": {},
   "outputs": [],
   "source": [
    "nameCol = df[out.widget.result]\n",
    "predCol = df[out2.widget.result]"
   ]
  },
  {
   "cell_type": "code",
   "execution_count": 16,
   "metadata": {},
   "outputs": [],
   "source": [
    "# add all fabric columns to the y set\n",
    "for i in range (0,len(predCol)):\n",
    "    labels.append(predCol[i])"
   ]
  },
  {
   "cell_type": "code",
   "execution_count": 17,
   "metadata": {},
   "outputs": [],
   "source": [
    "# grab all unique labels\n",
    "uni_labels = set(labels)\n",
    "uni_labels = list(uni_labels)"
   ]
  },
  {
   "cell_type": "code",
   "execution_count": 18,
   "metadata": {},
   "outputs": [],
   "source": [
    "# assign each label a dict key number\n",
    "for i in range(0,len(uni_labels)):\n",
    "    yval_label[i] = uni_labels[i]\n",
    "    label_yval[uni_labels[i]] = i"
   ]
  },
  {
   "cell_type": "code",
   "execution_count": 19,
   "metadata": {},
   "outputs": [
    {
     "name": "stdout",
     "output_type": "stream",
     "text": [
      "Number of labels to learn from: 252\n"
     ]
    }
   ],
   "source": [
    "print(\"Number of labels to learn from: \" + str(len(labels)))"
   ]
  },
  {
   "cell_type": "code",
   "execution_count": 20,
   "metadata": {},
   "outputs": [],
   "source": [
    "# create list of keys associated with their labels\n",
    "for i in range (0, len(labels)):\n",
    "    yset.append(label_yval[labels[i]])"
   ]
  },
  {
   "cell_type": "code",
   "execution_count": 21,
   "metadata": {},
   "outputs": [],
   "source": [
    "# gather images from path created from file names in csv file\n",
    "for i in range (0,len(nameCol)):\n",
    "    base_filename = nameCol[i]\n",
    "    fileName = os.path.join(\"./Cyclops Cave/images/\", base_filename + suffix)\n",
    "    im = cv2.imread(fileName)\n",
    "    im = cv2.resize(im, (28,28))\n",
    "    im = img_to_array(im)\n",
    "    img_list.append(im)"
   ]
  },
  {
   "cell_type": "code",
   "execution_count": 22,
   "metadata": {},
   "outputs": [],
   "source": [
    "# Shuffle the data\n",
    "p = np.random.permutation(len(yset))"
   ]
  },
  {
   "cell_type": "code",
   "execution_count": 23,
   "metadata": {},
   "outputs": [],
   "source": [
    "# Relable for splitting sets\n",
    "Y = []\n",
    "X = []\n",
    "for i in range(0,len(yset)):\n",
    "    Y.append(yset[p[i]])\n",
    "    X.append(img_list[p[i]])"
   ]
  },
  {
   "cell_type": "code",
   "execution_count": 24,
   "metadata": {},
   "outputs": [],
   "source": [
    "# split the test and training set 75:25\n",
    "split = int(len(X)*(.75))\n",
    "xtrain = X[:split]\n",
    "xtest = X[split:]\n",
    "ytrain = Y[:split]\n",
    "ytest = Y[split:]"
   ]
  },
  {
   "cell_type": "code",
   "execution_count": 25,
   "metadata": {},
   "outputs": [],
   "source": [
    "# transform to arrays\n",
    "trainX = np.array(xtrain, dtype=\"float\")/225.0\n",
    "testX = np.array(xtest, dtype =\"float\")/225.0\n",
    "\n",
    "ytrain = np.array(ytrain)\n",
    "ytest = np.array(ytest)"
   ]
  },
  {
   "cell_type": "code",
   "execution_count": 26,
   "metadata": {},
   "outputs": [],
   "source": [
    "# parsed Y data containers\n",
    "trainY = []\n",
    "testY = []"
   ]
  },
  {
   "cell_type": "code",
   "execution_count": 27,
   "metadata": {},
   "outputs": [],
   "source": [
    "# convert labels from int to vectors\n",
    "trainY = np_utils.to_categorical(ytrain,12)\n",
    "testY = np_utils.to_categorical(ytest,12)"
   ]
  },
  {
   "cell_type": "code",
   "execution_count": 28,
   "metadata": {},
   "outputs": [],
   "source": [
    "# construct the image generator for data augmentation\n",
    "aug = ImageDataGenerator(rotation_range=30, width_shift_range=0.1,\n",
    "                        height_shift_range=0.1, shear_range=0.2, zoom_range=0.2,\n",
    "                        horizontal_flip=True, fill_mode=\"nearest\")"
   ]
  },
  {
   "cell_type": "code",
   "execution_count": 29,
   "metadata": {},
   "outputs": [
    {
     "name": "stdout",
     "output_type": "stream",
     "text": [
      "[INFO] compiling model...\n"
     ]
    }
   ],
   "source": [
    "# initialize the model\n",
    "print(\"[INFO] compiling model...\")\n",
    "model = LeNet.build(width=28, height=28, depth=3, classes=12)\n",
    "opt = Adam(lr=INIT_LR, decay=INIT_LR / EPOCHS)\n",
    "model.compile(loss=\"categorical_crossentropy\", optimizer=opt,\n",
    "                metrics=[\"accuracy\"])"
   ]
  },
  {
   "cell_type": "markdown",
   "metadata": {},
   "source": [
    "## Train the predictive model"
   ]
  },
  {
   "cell_type": "markdown",
   "metadata": {},
   "source": [
    "### This is relative to the size of the data set and may take a few minutes "
   ]
  },
  {
   "cell_type": "code",
   "execution_count": 30,
   "metadata": {},
   "outputs": [
    {
     "name": "stdout",
     "output_type": "stream",
     "text": [
      "[INFO] training network...\n",
      "Epoch 1/50\n",
      "3/2 [=============================================] - 3s 853ms/step - loss: 2.1107 - acc: 0.4197 - val_loss: 1.4700 - val_acc: 0.6508\n",
      "Epoch 2/50\n",
      "3/2 [=============================================] - 2s 608ms/step - loss: 1.8842 - acc: 0.5328 - val_loss: 1.5313 - val_acc: 0.6508\n",
      "Epoch 3/50\n",
      "3/2 [=============================================] - 2s 609ms/step - loss: 1.7752 - acc: 0.5402 - val_loss: 1.4248 - val_acc: 0.6508\n",
      "Epoch 4/50\n",
      "3/2 [=============================================] - 2s 613ms/step - loss: 1.8154 - acc: 0.5310 - val_loss: 1.4424 - val_acc: 0.6508\n",
      "Epoch 5/50\n",
      "3/2 [=============================================] - 2s 625ms/step - loss: 1.7263 - acc: 0.5442 - val_loss: 1.5123 - val_acc: 0.6508\n",
      "Epoch 6/50\n",
      "3/2 [=============================================] - 2s 613ms/step - loss: 1.6875 - acc: 0.5328 - val_loss: 1.3487 - val_acc: 0.6508\n",
      "Epoch 7/50\n",
      "3/2 [=============================================] - 2s 611ms/step - loss: 1.6182 - acc: 0.5440 - val_loss: 1.4118 - val_acc: 0.6508\n",
      "Epoch 8/50\n",
      "3/2 [=============================================] - 2s 606ms/step - loss: 1.5822 - acc: 0.5422 - val_loss: 1.3188 - val_acc: 0.6508\n",
      "Epoch 9/50\n",
      "3/2 [=============================================] - 2s 621ms/step - loss: 1.6315 - acc: 0.5285 - val_loss: 1.3104 - val_acc: 0.6508\n",
      "Epoch 10/50\n",
      "3/2 [=============================================] - 2s 614ms/step - loss: 1.5582 - acc: 0.5589 - val_loss: 1.2955 - val_acc: 0.6508\n",
      "Epoch 11/50\n",
      "3/2 [=============================================] - 2s 614ms/step - loss: 1.5453 - acc: 0.5434 - val_loss: 1.2242 - val_acc: 0.6508\n",
      "Epoch 12/50\n",
      "3/2 [=============================================] - 2s 615ms/step - loss: 1.5090 - acc: 0.5496 - val_loss: 1.3403 - val_acc: 0.6508\n",
      "Epoch 13/50\n",
      "3/2 [=============================================] - 2s 610ms/step - loss: 1.4894 - acc: 0.5493 - val_loss: 1.2085 - val_acc: 0.6508\n",
      "Epoch 14/50\n",
      "3/2 [=============================================] - 2s 619ms/step - loss: 1.4458 - acc: 0.5469 - val_loss: 1.1701 - val_acc: 0.6984\n",
      "Epoch 15/50\n",
      "3/2 [=============================================] - 2s 755ms/step - loss: 1.4723 - acc: 0.5469 - val_loss: 1.1730 - val_acc: 0.6825\n",
      "Epoch 16/50\n",
      "3/2 [=============================================] - 2s 630ms/step - loss: 1.3871 - acc: 0.5810 - val_loss: 1.1132 - val_acc: 0.6825\n",
      "Epoch 17/50\n",
      "3/2 [=============================================] - 2s 622ms/step - loss: 1.3851 - acc: 0.5648 - val_loss: 1.1335 - val_acc: 0.6984\n",
      "Epoch 18/50\n",
      "3/2 [=============================================] - 2s 622ms/step - loss: 1.3632 - acc: 0.6006 - val_loss: 1.1086 - val_acc: 0.6984\n",
      "Epoch 19/50\n",
      "3/2 [=============================================] - 2s 624ms/step - loss: 1.3589 - acc: 0.5822 - val_loss: 1.1272 - val_acc: 0.7143\n",
      "Epoch 20/50\n",
      "3/2 [=============================================] - 2s 619ms/step - loss: 1.2401 - acc: 0.6144 - val_loss: 1.0939 - val_acc: 0.6984\n",
      "Epoch 21/50\n",
      "3/2 [=============================================] - 2s 618ms/step - loss: 1.2647 - acc: 0.6195 - val_loss: 1.0512 - val_acc: 0.7143\n",
      "Epoch 22/50\n",
      "3/2 [=============================================] - 2s 626ms/step - loss: 1.1768 - acc: 0.6190 - val_loss: 1.0518 - val_acc: 0.7460\n",
      "Epoch 23/50\n",
      "3/2 [=============================================] - 2s 616ms/step - loss: 1.2597 - acc: 0.6029 - val_loss: 1.2679 - val_acc: 0.6508\n",
      "Epoch 24/50\n",
      "3/2 [=============================================] - 2s 791ms/step - loss: 1.1533 - acc: 0.6519 - val_loss: 1.0594 - val_acc: 0.7143\n",
      "Epoch 25/50\n",
      "3/2 [=============================================] - 2s 629ms/step - loss: 1.1667 - acc: 0.6592 - val_loss: 1.1149 - val_acc: 0.7302\n",
      "Epoch 26/50\n",
      "3/2 [=============================================] - 2s 618ms/step - loss: 1.1366 - acc: 0.6211 - val_loss: 1.0411 - val_acc: 0.6825\n",
      "Epoch 27/50\n",
      "3/2 [=============================================] - 2s 618ms/step - loss: 1.1736 - acc: 0.6255 - val_loss: 1.1434 - val_acc: 0.7143\n",
      "Epoch 28/50\n",
      "3/2 [=============================================] - 2s 619ms/step - loss: 1.1158 - acc: 0.6329 - val_loss: 1.1185 - val_acc: 0.6984\n",
      "Epoch 29/50\n",
      "3/2 [=============================================] - 2s 729ms/step - loss: 1.1107 - acc: 0.6498 - val_loss: 1.4333 - val_acc: 0.5714\n",
      "Epoch 30/50\n",
      "3/2 [=============================================] - 2s 615ms/step - loss: 1.0987 - acc: 0.6326 - val_loss: 1.1562 - val_acc: 0.6984\n",
      "Epoch 31/50\n",
      "3/2 [=============================================] - 2s 620ms/step - loss: 1.1469 - acc: 0.6315 - val_loss: 1.0654 - val_acc: 0.7143\n",
      "Epoch 32/50\n",
      "3/2 [=============================================] - 2s 618ms/step - loss: 1.0425 - acc: 0.6459 - val_loss: 1.1406 - val_acc: 0.7302\n",
      "Epoch 33/50\n",
      "3/2 [=============================================] - 2s 627ms/step - loss: 1.1047 - acc: 0.6395 - val_loss: 1.1261 - val_acc: 0.6667\n",
      "Epoch 34/50\n",
      "3/2 [=============================================] - 2s 621ms/step - loss: 1.0478 - acc: 0.6583 - val_loss: 1.1231 - val_acc: 0.7143\n",
      "Epoch 35/50\n",
      "3/2 [=============================================] - 2s 651ms/step - loss: 1.0329 - acc: 0.6382 - val_loss: 1.0959 - val_acc: 0.7143\n",
      "Epoch 36/50\n",
      "3/2 [=============================================] - 2s 656ms/step - loss: 1.0204 - acc: 0.6818 - val_loss: 1.0535 - val_acc: 0.7143\n",
      "Epoch 37/50\n",
      "3/2 [=============================================] - 2s 777ms/step - loss: 0.9439 - acc: 0.7078 - val_loss: 1.0502 - val_acc: 0.7460\n",
      "Epoch 38/50\n",
      "3/2 [=============================================] - 2s 612ms/step - loss: 0.9636 - acc: 0.6792 - val_loss: 1.1183 - val_acc: 0.7143\n",
      "Epoch 39/50\n",
      "3/2 [=============================================] - 2s 613ms/step - loss: 0.9127 - acc: 0.7249 - val_loss: 1.1073 - val_acc: 0.7302\n",
      "Epoch 40/50\n",
      "3/2 [=============================================] - 2s 611ms/step - loss: 0.8819 - acc: 0.7114 - val_loss: 1.1294 - val_acc: 0.6984\n",
      "Epoch 41/50\n",
      "3/2 [=============================================] - 2s 653ms/step - loss: 0.9594 - acc: 0.6929 - val_loss: 1.1487 - val_acc: 0.7302\n",
      "Epoch 42/50\n",
      "3/2 [=============================================] - 2s 698ms/step - loss: 0.8880 - acc: 0.7101 - val_loss: 1.1411 - val_acc: 0.7143\n",
      "Epoch 43/50\n",
      "3/2 [=============================================] - 2s 817ms/step - loss: 0.9331 - acc: 0.7084 - val_loss: 1.1315 - val_acc: 0.7619\n",
      "Epoch 44/50\n",
      "3/2 [=============================================] - 2s 641ms/step - loss: 0.8000 - acc: 0.7436 - val_loss: 1.0927 - val_acc: 0.7143\n",
      "Epoch 45/50\n",
      "3/2 [=============================================] - 2s 703ms/step - loss: 0.9049 - acc: 0.7076 - val_loss: 1.1421 - val_acc: 0.7143\n",
      "Epoch 46/50\n",
      "3/2 [=============================================] - 2s 642ms/step - loss: 0.8822 - acc: 0.7176 - val_loss: 1.0457 - val_acc: 0.7302\n",
      "Epoch 47/50\n",
      "3/2 [=============================================] - 2s 694ms/step - loss: 0.7926 - acc: 0.7422 - val_loss: 1.1232 - val_acc: 0.7302\n",
      "Epoch 48/50\n",
      "3/2 [=============================================] - 2s 698ms/step - loss: 0.8483 - acc: 0.7271 - val_loss: 1.0785 - val_acc: 0.7460\n",
      "Epoch 49/50\n",
      "3/2 [=============================================] - 2s 618ms/step - loss: 0.8470 - acc: 0.6986 - val_loss: 1.1824 - val_acc: 0.7302\n",
      "Epoch 50/50\n",
      "3/2 [=============================================] - 2s 610ms/step - loss: 0.8179 - acc: 0.7524 - val_loss: 1.2735 - val_acc: 0.6825\n"
     ]
    }
   ],
   "source": [
    "# train the network\n",
    "print(\"[INFO] training network...\")\n",
    "H = model.fit_generator(aug.flow(trainX, trainY, batch_size=BS),\n",
    "    validation_data=(testX, testY), steps_per_epoch=len(trainX) // BS,\n",
    "    epochs=EPOCHS, verbose=1)"
   ]
  },
  {
   "cell_type": "markdown",
   "metadata": {},
   "source": [
    "## Plot the loss and accuracy"
   ]
  },
  {
   "cell_type": "code",
   "execution_count": 31,
   "metadata": {},
   "outputs": [],
   "source": [
    "# plot the training loss and accuracy \n",
    "plt.style.use(\"ggplot\")\n",
    "plt.figure()\n",
    "N = EPOCHS\n",
    "plt.plot(np.arange(0, N), H.history[\"loss\"], label=\"train_loss\")\n",
    "plt.plot(np.arange(0, N), H.history[\"val_loss\"], label=\"val_loss\")\n",
    "plt.plot(np.arange(0, N), H.history[\"acc\"], label=\"train_acc\")\n",
    "plt.plot(np.arange(0, N), H.history[\"val_acc\"], label=\"val_acc\")\n",
    "plt.title(\"Training Loss and Accuracy on Label Prediction\")\n",
    "plt.xlabel(\"Epoch #\")\n",
    "plt.ylabel(\"Loss/Accuracy\")\n",
    "plt.legend(loc=\"lower left\")\n",
    "plt.savefig('figure.png')"
   ]
  },
  {
   "cell_type": "code",
   "execution_count": 32,
   "metadata": {},
   "outputs": [
    {
     "data": {
      "image/png": "[encoded data removed]",
      "text/plain": [
       "<IPython.core.display.Image object>"
      ]
     },
     "execution_count": 32,
     "metadata": {},
     "output_type": "execute_result"
    }
   ],
   "source": [
    "# Displays chart\n",
    "from IPython.display import Image\n",
    "Image(\"figure.png\")"
   ]
  },
  {
   "cell_type": "markdown",
   "metadata": {},
   "source": [
    "## Take the original data and predict based on the model"
   ]
  },
  {
   "cell_type": "code",
   "execution_count": 33,
   "metadata": {},
   "outputs": [],
   "source": [
    "# Reshape original input data images for predicting\n",
    "img_check = np.array(img_list, dtype =\"float\")/225.0"
   ]
  },
  {
   "cell_type": "code",
   "execution_count": 34,
   "metadata": {},
   "outputs": [],
   "source": [
    "predictionsMade = []"
   ]
  },
  {
   "cell_type": "code",
   "execution_count": 35,
   "metadata": {},
   "outputs": [],
   "source": [
    "preds = model.predict(img_check)"
   ]
  },
  {
   "cell_type": "code",
   "execution_count": 36,
   "metadata": {},
   "outputs": [],
   "source": [
    "# Run all data through the prediction model that was created\n",
    "for i in range (0,len(img_check)):\n",
    "    predIndex = np.where(preds[i] == np.amax(preds[i]))\n",
    "    prediction = int(predIndex[0][0])\n",
    "    predictionsMade.append(prediction)"
   ]
  },
  {
   "cell_type": "code",
   "execution_count": 37,
   "metadata": {},
   "outputs": [],
   "source": [
    "# Count how many correct predictions were made\n",
    "correct = 0\n",
    "for i in range (0,len(predictionsMade)):\n",
    "    if(predictionsMade[i] == yset[i]):\n",
    "        correct += 1 "
   ]
  },
  {
   "cell_type": "markdown",
   "metadata": {},
   "source": [
    "## Calculate the accuracy of the predictions made"
   ]
  },
  {
   "cell_type": "code",
   "execution_count": 38,
   "metadata": {},
   "outputs": [
    {
     "name": "stdout",
     "output_type": "stream",
     "text": [
      "Accuracy: 0.753968253968254\n"
     ]
    }
   ],
   "source": [
    "print(\"Accuracy: \" + str(correct/len(yset)))"
   ]
  },
  {
   "cell_type": "code",
   "execution_count": 39,
   "metadata": {},
   "outputs": [],
   "source": [
    "# Translate back to original csv label names\n",
    "finalPred = []\n",
    "for i in range (0,len(predictionsMade)):\n",
    "    finalPred.append(yval_label[predictionsMade[i]])"
   ]
  },
  {
   "cell_type": "code",
   "execution_count": 40,
   "metadata": {},
   "outputs": [],
   "source": [
    "# Append the new column\n",
    "df['#predictions'] = finalPred"
   ]
  },
  {
   "cell_type": "markdown",
   "metadata": {},
   "source": [
    "## Write the predictions back to the original CSV"
   ]
  },
  {
   "cell_type": "code",
   "execution_count": 41,
   "metadata": {},
   "outputs": [],
   "source": [
    "# new file name\n",
    "new_file =  csv_file[:-4]+'_v1.csv'\n",
    "df.to_csv(new_file, index=None)"
   ]
  },
  {
   "cell_type": "code",
   "execution_count": null,
   "metadata": {},
   "outputs": [],
   "source": []
  }
 ],
 "metadata": {
  "kernelspec": {
   "display_name": "Python 3",
   "language": "python",
   "name": "python3"
  },
  "language_info": {
   "codemirror_mode": {
    "name": "ipython",
    "version": 3
   },
   "file_extension": ".py",
   "mimetype": "text/x-python",
   "name": "python",
   "nbconvert_exporter": "python",
   "pygments_lexer": "ipython3",
   "version": "3.6.3"
  }
 },
 "nbformat": 4,
 "nbformat_minor": 2
}
