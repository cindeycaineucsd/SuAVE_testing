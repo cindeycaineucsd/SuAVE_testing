{
 "cells": [
  {
   "cell_type": "markdown",
   "metadata": {},
   "source": [
    "# SuAVE Jupyter Notebook Dispatcher\n",
    "\n",
    "### Execute the cells below to get parameters from SuAVE and select a notebook for processing ###"
   ]
  },
  {
   "cell_type": "code",
   "execution_count": 1,
   "metadata": {},
   "outputs": [],
   "source": [
    "# Needed to add a user field to the calling url \n",
    "# call with http://localhost:8888/notebooks/Downloads/Jupyter/SuaveDispatch.ipynb?surveyurl=aa&csv=bb&params=cc&dzc=dd&activeobject=mm\n",
    "\n",
    "# these should be preinstalled to support interactive widgets:\n",
    "# !pip install ipywidgets\n",
    "# !jupyter nbextension enable --py widgetsnbextension\n"
   ]
  },
  {
   "cell_type": "code",
   "execution_count": 1,
   "metadata": {},
   "outputs": [
    {
     "data": {
      "application/javascript": [
       "function getQueryStringValue (key)\n",
       "{  \n",
       "    return unescape(window.location.search.replace(new RegExp(\"^(?:.*[&\\\\?]\" + escape(key).replace(/[\\.\\+\\*]/g, \"\\\\$&\") + \"(?:\\\\=([^&]*))?)?.*$\", \"i\"), \"$1\"));\n",
       "}\n",
       "IPython.notebook.kernel.execute(\"survey_url='\".concat(getQueryStringValue(\"surveyurl\")).concat(\"'\"));\n",
       "IPython.notebook.kernel.execute(\"user='\".concat(getQueryStringValue(\"user\")).concat(\"'\"));\n",
       "IPython.notebook.kernel.execute(\"csv_file='\".concat(getQueryStringValue(\"csv\")).concat(\"'\")); \n",
       "IPython.notebook.kernel.execute(\"dzc_file='\".concat(getQueryStringValue(\"dzc\")).concat(\"'\")); \n",
       "IPython.notebook.kernel.execute(\"params='\".concat(getQueryStringValue(\"params\")).concat(\"'\")); \n",
       "IPython.notebook.kernel.execute(\"active_object='\".concat(getQueryStringValue(\"activeobject\")).concat(\"'\")); \n",
       "IPython.notebook.kernel.execute(\"full_notebook_url='\" + window.location + \"'\"); "
      ],
      "text/plain": [
       "<IPython.core.display.Javascript object>"
      ]
     },
     "metadata": {},
     "output_type": "display_data"
    }
   ],
   "source": [
    "%%javascript\n",
    "function getQueryStringValue (key)\n",
    "{  \n",
    "    return unescape(window.location.search.replace(new RegExp(\"^(?:.*[&\\\\?]\" + escape(key).replace(/[\\.\\+\\*]/g, \"\\\\$&\") + \"(?:\\\\=([^&]*))?)?.*$\", \"i\"), \"$1\"));\n",
    "}\n",
    "IPython.notebook.kernel.execute(\"survey_url='\".concat(getQueryStringValue(\"surveyurl\")).concat(\"'\"));\n",
    "IPython.notebook.kernel.execute(\"user='\".concat(getQueryStringValue(\"user\")).concat(\"'\"));\n",
    "IPython.notebook.kernel.execute(\"csv_file='\".concat(getQueryStringValue(\"csv\")).concat(\"'\")); \n",
    "IPython.notebook.kernel.execute(\"dzc_file='\".concat(getQueryStringValue(\"dzc\")).concat(\"'\")); \n",
    "IPython.notebook.kernel.execute(\"params='\".concat(getQueryStringValue(\"params\")).concat(\"'\")); \n",
    "IPython.notebook.kernel.execute(\"active_object='\".concat(getQueryStringValue(\"activeobject\")).concat(\"'\")); \n",
    "IPython.notebook.kernel.execute(\"full_notebook_url='\" + window.location + \"'\"); \n"
   ]
  },
  {
   "cell_type": "markdown",
   "metadata": {},
   "source": [
    "## Check if the passed parameters are correct ##"
   ]
  },
  {
   "cell_type": "code",
   "execution_count": 3,
   "metadata": {},
   "outputs": [
    {
     "name": "stdout",
     "output_type": "stream",
     "text": [
      "\n",
      "\n",
      "\n",
      "\n",
      "\n",
      "\n",
      "http://localhost:8888/notebooks/SuAVE/SuAVE_testing\n"
     ]
    }
   ],
   "source": [
    "# Check if the parameters are correct\n",
    "import ntpath\n",
    "url_partitioned = full_notebook_url.partition('/SuaveDispatch')\n",
    "base_url = url_partitioned[0];\n",
    "print(survey_url)\n",
    "print(user)\n",
    "print(params)\n",
    "print(csv_file)\n",
    "print(dzc_file)\n",
    "print(active_object)\n",
    "print(base_url)"
   ]
  },
  {
   "cell_type": "code",
   "execution_count": 4,
   "metadata": {},
   "outputs": [],
   "source": [
    "#open url python this cell is for testing only. Will be removed in production\n",
    "\n",
    "survey_url = 'http://localhost:3001/main/file=zaslavsk_SDGs.csv&views=111000&view=grid'\n",
    "params = ''\n",
    "\n",
    "csv_file = 'zaslavsk_SDGs.csv'\n",
    "#CSV URL: http://localhost:3001/getSurveys/zaslavsk_SDGs.csv\n",
    "# also: /usr/local/share/SuAVE/SuAVE/app/public/surveys/zaslavsk_SDGs.csv (Amazon)\n",
    "# also: /home/ec2-user/SuAVE_dev/SuAVE/app/public/surveys/zaslavsk_SDG_Indicators.csv (suave-dev.sdsc.edu)\n",
    "# also: /home/ec2-user/SuAVE/app/public/surveys/zaslavsk_SDG_Indicators.csv (suave.sdsc.edu)\n",
    "\n",
    "dzc_file = '/SDG1/SDG1.dzc'\n",
    "\n",
    "# http://localhost:3001/imageserver/SDG1/SDG1.dzc, which is /.../app/public/imageserver/SDG1/SDG1.dzc\n",
    "\n",
    "active_object =''\n",
    "actual_imageFolder = 'app/public/imagestore/SDG1/'\n",
    "absolutePath = 'C:\\\\Users\\\\izaslavsky\\\\Desktop\\\\gitsuave\\\\app\\\\public\\\\surveys\\\\'"
   ]
  },
  {
   "cell_type": "code",
   "execution_count": 5,
   "metadata": {},
   "outputs": [],
   "source": [
    "# testing cell for Zeppelin Vanbarriger. Will be removed in production\n",
    "survey_url = 'http://localhost:3001/main/file=Zeppelin-V-Alt_balthus_test.csv&views=1110000&view=grid'\n",
    "params =''\n",
    "\n",
    "csv_file = 'balthus.csv'\n",
    "#CSV URL: http://localhost:3001/getSurveys/balthus.csv\n",
    "\n",
    "\n",
    "dzc_file = '/home/zep/WebstormProjects/SuAVE/app/public/imageserver/balthus/balthus.dzc'\n",
    "\n",
    "# http://localhost:3001/imageserver/balthus/balthus.dzc\n",
    "\n",
    "active_object = ''\n",
    "actual_imageFolder = 'app/public/imagestore/balthus'\n",
    "absolutePath = 'home/zep/WebstormProjects/SuAVE/app/public/surveys'"
   ]
  },
  {
   "cell_type": "markdown",
   "metadata": {
    "collapsed": true
   },
   "source": [
    "## Select a notebook ##"
   ]
  },
  {
   "cell_type": "code",
   "execution_count": 1,
   "metadata": {},
   "outputs": [
    {
     "data": {
      "application/vnd.jupyter.widget-view+json": {
       "model_id": "5f89bc6d08ca41f3a561754f3dd6e210",
       "version_major": 2,
       "version_minor": 0
      },
      "text/plain": [
       "A Jupyter Widget"
      ]
     },
     "metadata": {},
     "output_type": "display_data"
    }
   ],
   "source": [
    "from __future__ import print_function\n",
    "from ipywidgets import interact, interactive, fixed, interact_manual\n",
    "import ipywidgets as widgets\n",
    "\n",
    "nb_menu = {\n",
    "    '1. Arithmetic operations': 'arithmetic/SuaveArithmetic.ipynb',\n",
    "    '2. Color Characteristics': 'colors/ColorCharacteristics.ipynb',\n",
    "    '3. Classify Images': 'classify/ImageClassify.ipynb',\n",
    "    '2. Predictive models': 'predict/PredictiveModel.ipynb'\n",
    "}\n",
    "\n",
    "def f(notebooks_menu):\n",
    "    return notebooks_menu\n",
    "# out = interact(f, notebooks_menu=nb_menu);\n",
    "out = interact(f, notebooks_menu=nb_menu.keys());\n",
    "\n"
   ]
  },
  {
   "cell_type": "markdown",
   "metadata": {},
   "source": [
    "## Open the selected notebook ##\n"
   ]
  },
  {
   "cell_type": "code",
   "execution_count": 7,
   "metadata": {},
   "outputs": [
    {
     "name": "stdout",
     "output_type": "stream",
     "text": [
      "http://localhost:8000/user/zep/notebooks/SDSC/suave_notebooks/operations/arithmetic/SuaveArithmetic.ipynb?surveyurl=http://localhost:3001/main/file=Zeppelin-V-Alt_balthus_test.csv&views=1110000&view=grid&user=Zeppelin-V-Alt&csv=balthus.csv&dzc=/home/zep/WebstormProjects/SuAVE/app/public/imageserver/balthus/balthus.dzc&activeobject=\n"
     ]
    },
    {
     "data": {
      "text/plain": [
       "False"
      ]
     },
     "execution_count": 7,
     "metadata": {},
     "output_type": "execute_result"
    }
   ],
   "source": [
    "chosen_nb_name = nb_menu[out.widget.result]\n",
    "import webbrowser\n",
    "url1 = ('{base_url}/operations/{nb_name}?'+'surveyurl='+survey_url+'&'+'user='+user+'&'+'csv='+csv_file+'&'+'dzc='+dzc_file+\"&\"+'activeobject='+active_object).format(base_url=base_url, nb_name=chosen_nb_name)\n",
    "print(url1)\n",
    "\n",
    "webbrowser.open(url1)"
   ]
  },
  {
   "cell_type": "code",
   "execution_count": null,
   "metadata": {},
   "outputs": [],
   "source": []
  }
 ],
 "metadata": {
  "kernelspec": {
   "display_name": "Python 3",
   "language": "python",
   "name": "python3"
  },
  "language_info": {
   "codemirror_mode": {
    "name": "ipython",
    "version": 3
   },
   "file_extension": ".py",
   "mimetype": "text/x-python",
   "name": "python",
   "nbconvert_exporter": "python",
   "pygments_lexer": "ipython3",
   "version": "3.6.3"
  }
 },
 "nbformat": 4,
 "nbformat_minor": 2
}
